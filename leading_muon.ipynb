{
 "cells": [
  {
   "cell_type": "code",
   "execution_count": 110,
   "metadata": {},
   "outputs": [
    {
     "name": "stdout",
     "output_type": "stream",
     "text": [
      "SBND imports: 0.00 s\n",
      "The autoreload extension is already loaded. To reload it, use:\n",
      "  %reload_ext autoreload\n"
     ]
    }
   ],
   "source": [
    "#Boiler plate imports\n",
    "import pandas as pd\n",
    "import sys\n",
    "from time import time\n",
    "import matplotlib.pyplot as plt\n",
    "from matplotlib.colors import LogNorm\n",
    "\n",
    "#SBND imports\n",
    "s0 = time()\n",
    "sys.path.append('/exp/sbnd/app/users/brindenc/analyze_sbnd/pyana')\n",
    "from sbnd.general import utils\n",
    "from sbnd.cafclasses.slice import CAFSlice\n",
    "from sbnd.cafclasses.pfp import PFP\n",
    "from pyanalib.panda_helpers import multicol_concat\n",
    "\n",
    "#Constants\n",
    "from sbnd.numu.numu_constants import *\n",
    "from sbnd.prism import PRISM_BINS,make_prism_plot\n",
    "from sbnd.constants import *\n",
    "from sbnd.volume import plot_volume_boundary\n",
    "\n",
    "#Plotters\n",
    "from sbnd.plotlibrary import makeplot\n",
    "from sbnd.general import plotters\n",
    "\n",
    "s1 = time()\n",
    "print(f'SBND imports: {s1-s0:.2f} s')\n",
    "\n",
    "%load_ext autoreload\n",
    "%autoreload 2"
   ]
  },
  {
   "cell_type": "code",
   "execution_count": 117,
   "metadata": {},
   "outputs": [],
   "source": [
    "#Constants/variables\n",
    "CUT_MODE = 'moon'\n",
    "DATA_DIR  = '/exp/sbnd/data/users/brindenc/analyze_sbnd/numu/v09_78_04_wc_pandora'\n",
    "#DATA_DIR = '/exp/sbnd/data/users/brindenc/ML/test_fcl/debug_trackid/v4'\n",
    "#FNAME = 'single_processed.df'\n",
    "#FNAME = 'single_cut_cosmics_processed.df'\n",
    "#HDR_FNAME = 'single.df'\n",
    "FNAME = f'all_processed_{CUT_MODE}.df'\n",
    "#FNAME = 'all_processed_roc.df'\n",
    "HDR_FNAME = 'all.df'\n",
    "#FNAME = 'test_processed.df'\n",
    "#HDR_FNAME = 'test.df'\n",
    "NOM_POT = 0.6e20 # stats for first run\n",
    "LABEL = 'SBND Work in Progress\\n0.6e20 POT'\n",
    "PLOT_DIR = f'Plots/reco_{plotters.day}_{CUT_MODE}/leading_muon'\n",
    "SAVE_PLOT = True"
   ]
  },
  {
   "cell_type": "code",
   "execution_count": 118,
   "metadata": {},
   "outputs": [
    {
     "name": "stdout",
     "output_type": "stream",
     "text": [
      "--scaled by 6.93\n",
      "--scaling to POT: 8.65e+18 -> 6.00e+19\n",
      "--scaling to POT: 8.65e+18 -> 6.00e+19\n"
     ]
    }
   ],
   "source": [
    "#Get data and POT\n",
    "pfp = PFP.load(f'{DATA_DIR}/{FNAME}','pfp'\n",
    "               ,prism_bins=PRISM_BINS\n",
    "               ,momentum_bins=MOMENTUM_BINS\n",
    "               ,costheta_bins=COSTHETA_BINS\n",
    "               ,pot=NOM_POT)\n",
    "slc = CAFSlice.load(f'{DATA_DIR}/{FNAME}','slice'\n",
    "                    ,prism_bins=PRISM_BINS\n",
    "                    ,pot=NOM_POT)\n",
    "hdr = pd.read_hdf(f'{DATA_DIR}/{HDR_FNAME}',key='hdr')\n",
    "SAMPLE_POT = hdr.pot.sum()\n",
    "\n",
    "#Scale to nominal POT\n",
    "print(f'--scaled by {NOM_POT/SAMPLE_POT:.2f}')\n",
    "pfp.scale_to_pot(NOM_POT,SAMPLE_POT)\n",
    "slc.scale_to_pot(NOM_POT,SAMPLE_POT)"
   ]
  },
  {
   "cell_type": "code",
   "execution_count": 119,
   "metadata": {},
   "outputs": [
    {
     "data": {
      "text/plain": [
       "(array([0.21441237, 0.50252181, 0.68067441, 0.69851779, 0.81824831]),\n",
       " array([1.        , 0.87595162, 0.7239054 , 0.7175484 , 0.58360706]),\n",
       " array([1.        , 0.63865546, 0.70162461, 0.70790522, 0.68129067]))"
      ]
     },
     "execution_count": 119,
     "metadata": {},
     "output_type": "execute_result"
    }
   ],
   "source": [
    "CUTS = ['cosmic','fv','trk','has_muon']\n",
    "pur,eff,f1 = slc.get_pur_eff_f1(['cosmic','fv','trk','has_muon'])\n",
    "pur,eff,f1"
   ]
  },
  {
   "cell_type": "markdown",
   "metadata": {},
   "source": [
    "## 2 Apply cuts, get leading muon, assign binnings"
   ]
  },
  {
   "cell_type": "code",
   "execution_count": 120,
   "metadata": {},
   "outputs": [],
   "source": [
    "slc_cut = slc.copy()\n",
    "for cut in CUTS:\n",
    "    slc_cut.apply_cut(cut)\n",
    "#concat best_muon df with weights df\n",
    "df = multicol_concat(slc_cut.data.best_muon,pd.DataFrame(slc_cut.data.genweight),axis=1)\n",
    "df = multicol_concat(df,pd.DataFrame(slc_cut.data.truth.event_type),axis=1)\n",
    "muon = PFP(df\n",
    "              ,pot=NOM_POT\n",
    "              ,prism_bins=PRISM_BINS\n",
    "              ,momentum_bins=MOMENTUM_BINS\n",
    "              ,costheta_bins=COSTHETA_BINS)\n",
    "              "
   ]
  },
  {
   "cell_type": "code",
   "execution_count": 121,
   "metadata": {},
   "outputs": [
    {
     "name": "stderr",
     "output_type": "stream",
     "text": [
      "0it [00:00, ?it/s]"
     ]
    },
    {
     "name": "stderr",
     "output_type": "stream",
     "text": [
      "9it [00:04,  2.20it/s]\n",
      "9it [00:04,  2.02it/s]\n",
      "9it [00:03,  2.76it/s]\n",
      "9it [00:03,  2.99it/s]\n",
      "8it [00:03,  2.14it/s]\n",
      "8it [00:03,  2.42it/s]\n"
     ]
    }
   ],
   "source": [
    "#Assign costheta bins - we do this after cuts to save some time - may postprocess this in the future\n",
    "muon.assign_costheta_bins()\n",
    "muon.assign_costheta_bins(key='truth.p.costheta',assign_key='truth.costheta_bin')\n",
    "\n",
    "#Momentum bin\n",
    "muon.assign_momentum_bins()\n",
    "muon.assign_momentum_bins(key='truth.p.genp.tot',assign_key='truth.momentum_bin')\n",
    "\n",
    "#Prism bin\n",
    "muon.assign_prism_bins()\n",
    "muon.assign_prism_bins(key='truth.p.prism_theta',assign_key='truth.prism_bin')"
   ]
  },
  {
   "cell_type": "markdown",
   "metadata": {},
   "source": [
    "## 3 PRISM"
   ]
  },
  {
   "cell_type": "code",
   "execution_count": 122,
   "metadata": {},
   "outputs": [],
   "source": [
    "weights = muon.data.genweight\n",
    "bins = np.arange(-200,220,20)\n",
    "for i,t in enumerate([True,False]):\n",
    "    if t:\n",
    "        pos = muon.data.truth.p.start\n",
    "        fname = 'truth_prism'\n",
    "    else:\n",
    "        pos = muon.data.start\n",
    "        fname = 'reco_prism'\n",
    "    fig,ax=make_prism_plot(pos,weights=weights,bins=bins,cmap='Blues')\n",
    "    ax = plot_volume_boundary(ax,lw=3,color='red',alpha=0.7)\n",
    "    ax.set_xlim(-200,200)\n",
    "    ax.set_ylim(-200,200)\n",
    "    plotters.set_style(ax)\n",
    "    ax.text(0.05,0.9,LABEL,transform=ax.transAxes,fontsize=16,color='darkred')\n",
    "    #plotters.add_label(ax,LABEL,where='topright',color='white',size=12)\n",
    "    if SAVE_PLOT:\n",
    "        plotters.save_plot(fname,fig=fig,folder_name=PLOT_DIR)\n",
    "        plt.close()"
   ]
  },
  {
   "cell_type": "code",
   "execution_count": 123,
   "metadata": {},
   "outputs": [
    {
     "data": {
      "text/plain": [
       "(36913, 36913, 241376)"
      ]
     },
     "execution_count": 123,
     "metadata": {},
     "output_type": "execute_result"
    }
   ],
   "source": [
    "len(muon.data),len(slc_cut.data),len(slc.data)"
   ]
  },
  {
   "cell_type": "markdown",
   "metadata": {},
   "source": [
    "## 4 Single var distibutions"
   ]
  },
  {
   "cell_type": "code",
   "execution_count": 124,
   "metadata": {},
   "outputs": [],
   "source": [
    "for i,dens in enumerate(['']):\n",
    "    fig,ax = plt.subplots(figsize=(6,4))\n",
    "    h = ax.hist([muon.data.p,muon.data.truth.p.genp.tot,],\n",
    "                bins=np.arange(0,4,0.1),\n",
    "                weights=[muon.data.genweight,muon.data.genweight,],\n",
    "                histtype='step',\n",
    "                lw=3,\n",
    "                alpha=0.9,\n",
    "                label=[f'Truth',\n",
    "                f'Reco',],\n",
    "                density=True if i == 1 else False, #set density\n",
    "        )\n",
    "    ax.legend()\n",
    "    ax.set_xlabel(r'$p_\\mu$ [GeV]')\n",
    "    ax.set_ylabel('Normalized events' if i == 1 else 'Events')\n",
    "    ax.set_title(f'Leading Muon Momentum ({round(muon.data.genweight.sum()):,} events)')\n",
    "\n",
    "    plotters.set_style(ax,legend_loc='upper right')\n",
    "    plotters.add_label(ax,LABEL,alpha=0.9,fontsize=12,color='gray',where='centerright')\n",
    "    if SAVE_PLOT:\n",
    "        plotters.save_plot(f'momentum',fig=fig,folder_name=PLOT_DIR)\n",
    "        plt.close()"
   ]
  },
  {
   "cell_type": "code",
   "execution_count": 125,
   "metadata": {},
   "outputs": [],
   "source": [
    "for i,dens in enumerate(['']):\n",
    "    fig,ax = plt.subplots(figsize=(6,4))\n",
    "    h = ax.hist([muon.data.costheta,muon.data.truth.p.costheta,],\n",
    "                bins=np.arange(-1,1.1,0.1),\n",
    "                weights=[muon.data.genweight,muon.data.genweight,],\n",
    "                histtype='step',\n",
    "                lw=3,\n",
    "                alpha=0.9,\n",
    "                label=[f'Truth',f'Reco',],\n",
    "                density=True if i == 1 else False, #set density\n",
    "        )\n",
    "    ax.legend()\n",
    "    ax.set_xlabel(r'$\\cos\\theta_\\mu$')\n",
    "    ax.set_ylabel('Normalized events' if i == 1 else 'Events')\n",
    "    ax.set_title(fr'Leading Muon $\\cos\\theta$ ({round(muon.data.genweight.sum()):,} events)')\n",
    "\n",
    "    plotters.set_style(ax,legend_loc='upper left')\n",
    "    plotters.add_label(ax,LABEL,alpha=0.9,fontsize=12,color='gray',where='centerleft')\n",
    "    if SAVE_PLOT:\n",
    "        plotters.save_plot(f'momentum',fig=fig,folder_name=PLOT_DIR)\n",
    "        plt.close()"
   ]
  },
  {
   "cell_type": "markdown",
   "metadata": {},
   "source": [
    "## 5 Multivar distributions"
   ]
  },
  {
   "cell_type": "code",
   "execution_count": 126,
   "metadata": {},
   "outputs": [],
   "source": [
    "#Make list of colors from colormap the same length as thetas\n",
    "colors = plotters.get_colors('gnuplot2',len(PRISM_BINS)-1)\n",
    "\n",
    "#Prism plot for muon kinematics - let's do this all at once to avoid double counting errors\n",
    "for i,dens in enumerate(['','_dens']):\n",
    "    #Figures forr angles\n",
    "    fig_costheta,ax_costheta = plt.subplots(figsize=(8,6))\n",
    "    \n",
    "    #Figures for momenta\n",
    "    fig_momentum,ax_momentum = plt.subplots(figsize=(8,6))\n",
    "    \n",
    "    #Make a list for repeated tasks\n",
    "    axs = [ax_costheta,ax_momentum]\n",
    "    \n",
    "    #Labels for figures\n",
    "    labels = [None]*(len(PRISM_BINS)-1)\n",
    "    \n",
    "    for j,_ in enumerate(PRISM_BINS):\n",
    "        if PRISM_BINS[j] == PRISM_BINS[-1]: break #skip last bin to avoid range errors\n",
    "        #Mask prism bins\n",
    "        muon_inrange = muon.data[muon.data.prism_bin == j]\n",
    "        \n",
    "        #Set labels\n",
    "        labels[j] = f'{round(PRISM_BINS[j],2)} < ' + r'$\\theta_{PRISM}$'\\\n",
    "        + f' < {round(PRISM_BINS[j+1],2)} ({round(np.sum(muon_inrange.genweight)):,})'\n",
    "        \n",
    "        #Make histograms\n",
    "        ax_costheta.hist(muon_inrange.costheta, #cos theta values\n",
    "            bins=np.arange(-1,1.1,0.1),\n",
    "            weights=muon_inrange.genweight,\n",
    "            histtype='step',\n",
    "            lw=2,\n",
    "            alpha=0.9,\n",
    "            label=labels[j],\n",
    "            density=True if i == 1 else False, #set density\n",
    "            linestyle='-' if j % 2 == 0 else '--', #alternate linestyle to help with visibility\n",
    "            color=colors[j],\n",
    "            )\n",
    "        ax_momentum.hist(muon_inrange.p, #momentum values\n",
    "            bins=np.arange(0,4,0.1),\n",
    "            weights=muon_inrange.genweight,\n",
    "            histtype='step',\n",
    "            lw=2,\n",
    "            alpha=0.9,\n",
    "            label=labels[j],\n",
    "            density=True if i == 1 else False, #set density\n",
    "            color=colors[j],\n",
    "            linestyle='-' if j % 2 == 0 else '--', #alternate linestyle to help with visibility\n",
    "            )\n",
    "    \n",
    "    \n",
    "    #Set xlabels\n",
    "    ax_costheta.set_xlabel(r'$\\cos\\theta_\\mu$')\n",
    "    ax_momentum.set_xlabel(r'$p_\\mu$ [GeV]')\n",
    "    \n",
    "    #Set labels\n",
    "    plotters.add_label(ax_costheta,LABEL,alpha=0.8,fontsize=12,color='gray',where='bottomishleft')\n",
    "    plotters.add_label(ax_momentum,LABEL,alpha=0.8,fontsize=12,color='gray',where='bottomishright')\n",
    "    \n",
    "    for k,ax in enumerate(axs):\n",
    "        ax.set_ylabel('Normalized events' if i == 1 else 'Events')\n",
    "        ax.legend()\n",
    "    plotters.set_style(ax_costheta,legend_size=11,legend_loc='upper left')\n",
    "    plotters.set_style(ax_momentum,legend_size=11,legend_loc='upper right')\n",
    "    if SAVE_PLOT:\n",
    "        plotters.save_plot(f'prism_muon_costheta{dens}',fig=fig_costheta,folder_name=PLOT_DIR)\n",
    "        plotters.save_plot(f'prism_muon_momentum{dens}',fig=fig_momentum,folder_name=PLOT_DIR)\n",
    "        plt.close('all')\n"
   ]
  },
  {
   "cell_type": "code",
   "execution_count": 127,
   "metadata": {},
   "outputs": [],
   "source": [
    "for j,dens in enumerate(['','_dens']):\n",
    "  fig,axs = plt.subplots(nrows=3,ncols=3,figsize=(15,12),sharex=True)\n",
    "  for i,ax in enumerate(axs.flatten()):\n",
    "    #Get muons within theta bins\n",
    "    truth_muon_inrange = muon.data[(muon.data.truth.costheta_bin == i)]\n",
    "    reco_muon_inrange = muon.data[(muon.data.costheta_bin == i)]\n",
    "    \n",
    "    #Get momenta\n",
    "    ps_truth = truth_muon_inrange.truth.p.genp.tot\n",
    "    ps_reco = reco_muon_inrange.p\n",
    "    \n",
    "    #Get weights\n",
    "    weights_truth = truth_muon_inrange.genweight\n",
    "    weights_reco = reco_muon_inrange.genweight\n",
    "    \n",
    "    #Get number of events from weights\n",
    "    truth_inrange_count = np.sum(weights_truth)\n",
    "    reco_inrange_count = np.sum(weights_reco)\n",
    "    \n",
    "    ax.hist([ps_truth,ps_reco],\n",
    "            bins=np.arange(0,4,0.1),\n",
    "            weights=[weights_truth,weights_reco],\n",
    "            histtype='step',\n",
    "            lw=2,\n",
    "            label=[f'Truth ({round(truth_inrange_count):,})', \n",
    "                  f'Reco ({round(reco_inrange_count):,})'],\n",
    "            density=True if j == 1 else False)\n",
    "    \n",
    "    plotters.set_style(ax)\n",
    "    plotters.add_label(ax,f'{LABEL}\\n{COSTHETA_BINS[i]:.2f} < $\\cos\\\\theta_\\mu$ < {COSTHETA_BINS[i+1]:.2f}',fontsize=12,alpha=0.9,where='centerright')\n",
    "    ax.legend()\n",
    "  axs[2,1].set_xlabel(r'$p_\\mu$ [GeV]',fontsize=20)\n",
    "  axs[0,1].set_title(rf'{round(muon.data.genweight.sum()):,} muons',fontsize=25)\n",
    "  axs[1,0].set_ylabel('Normalized events' if j == 1 else 'Events',fontsize=20)\n",
    "  if SAVE_PLOT:\n",
    "    plotters.save_plot(f'momentum_mu_theta{dens}',fig=fig,folder_name=PLOT_DIR)\n",
    "    plt.close()"
   ]
  },
  {
   "cell_type": "code",
   "execution_count": 128,
   "metadata": {},
   "outputs": [],
   "source": [
    "for j,dens in enumerate(['','_dens']):\n",
    "  fig,axs = plt.subplots(nrows=3,ncols=3,figsize=(15,12),sharex=True)\n",
    "  for i,ax in enumerate(axs.flatten()):\n",
    "    #Get muons within theta bins\n",
    "    truth_muon_inrange = muon.data[(muon.data.truth.momentum_bin == i)]\n",
    "    reco_muon_inrange = muon.data[(muon.data.momentum_bin == i)]\n",
    "    \n",
    "    #Get momenta\n",
    "    ps_truth = truth_muon_inrange.truth.p.costheta\n",
    "    ps_reco = reco_muon_inrange.costheta\n",
    "    \n",
    "    #Get weights\n",
    "    weights_truth = truth_muon_inrange.genweight\n",
    "    weights_reco = reco_muon_inrange.genweight\n",
    "    \n",
    "    #Get number of events from weights\n",
    "    truth_inrange_count = np.sum(weights_truth)\n",
    "    reco_inrange_count = np.sum(weights_reco)\n",
    "    \n",
    "    ax.hist([ps_truth,ps_reco],\n",
    "            bins=np.arange(-1,1.1,0.1),\n",
    "            weights=[weights_truth,weights_reco],\n",
    "            histtype='step',\n",
    "            lw=2,\n",
    "            label=[f'Truth ({round(truth_inrange_count):,})', \n",
    "                  f'Reco ({round(reco_inrange_count):,})'],\n",
    "            density=True if j == 1 else False)\n",
    "    \n",
    "    plotters.set_style(ax)\n",
    "    plotters.add_label(ax,f'{LABEL}\\n{MOMENTUM_BINS[i]:.2f} < $p_\\mu$ < {MOMENTUM_BINS[i+1]:.2f}',fontsize=12,alpha=0.9,where='centerleft')\n",
    "    ax.legend()\n",
    "  axs[2,1].set_xlabel(r'$\\cos\\theta_\\mu$',fontsize=20)\n",
    "  axs[0,1].set_title(rf'{round(muon.data.genweight.sum()):,} muons',fontsize=25)\n",
    "  axs[1,0].set_ylabel('Normalized events' if j == 1 else 'Events',fontsize=20)\n",
    "  if SAVE_PLOT:\n",
    "    plotters.save_plot(f'theta_mu_momentum{dens}',fig=fig,folder_name=PLOT_DIR)\n",
    "    plt.close()"
   ]
  },
  {
   "cell_type": "markdown",
   "metadata": {},
   "source": [
    "## 6 2D histograms w uncertainties"
   ]
  },
  {
   "cell_type": "code",
   "execution_count": 129,
   "metadata": {},
   "outputs": [],
   "source": [
    "true_numucc = (muon.data.event_type == 0)"
   ]
  },
  {
   "cell_type": "code",
   "execution_count": 130,
   "metadata": {},
   "outputs": [],
   "source": [
    "#Energy\n",
    "no_nan = ~muon.data.energy.isna() & ~muon.data.truth.p.startE.isna()\n",
    "for norm in [True,False]:\n",
    "    for use_numucc in [True,False]:\n",
    "        fname = 'energy'\n",
    "        title = ''\n",
    "        if use_numucc:\n",
    "            fname += '_numucc'\n",
    "            title += r'True $\\nu_\\mu$CC'\n",
    "            mask = true_numucc & no_nan\n",
    "        else:\n",
    "            mask = no_nan\n",
    "        x = muon.data.energy[mask]\n",
    "        y = muon.data.truth.p.startE[mask]\n",
    "        bins = np.arange(0,1.55,0.05)\n",
    "        if norm:\n",
    "            fname += '_norm'\n",
    "            norm = LogNorm()\n",
    "            title += ' (Log Scale)'\n",
    "        else:\n",
    "            norm = None\n",
    "        fig,(ax,ax2) = makeplot.plot_hist2d_frac_err(x,y,xlabel=r'$E_{reco}$ [GeV]',ylabel=r'$E_{true}$ [GeV]',bins=bins,cmap='Blues',plot_line=True,norm=norm)\n",
    "        ax.set_title(title)\n",
    "        plotters.set_style(ax)\n",
    "        plotters.add_label(ax,LABEL,where='topleft',color='red',size=12)\n",
    "        if SAVE_PLOT:\n",
    "            plotters.save_plot(fname,fig=fig,folder_name=f'{PLOT_DIR}/2dhists')\n",
    "            plt.close()"
   ]
  },
  {
   "cell_type": "code",
   "execution_count": 131,
   "metadata": {},
   "outputs": [],
   "source": [
    "#Costheta\n",
    "no_nan = ~muon.data.costheta.isna() & ~muon.data.truth.p.costheta.isna()\n",
    "for norm in [True,False]:\n",
    "    for use_numucc in [True,False]:\n",
    "        fname = 'costheta'\n",
    "        title = ''\n",
    "        if use_numucc:\n",
    "            mask = true_numucc & no_nan\n",
    "            fname += '_numucc'\n",
    "            title += r'True $\\nu_\\mu$CC'\n",
    "        else:\n",
    "            mask = no_nan\n",
    "        if norm:\n",
    "            norm = LogNorm()\n",
    "            fname += '_norm'\n",
    "            title += ' (Log Scale)'\n",
    "        else:\n",
    "            norm = None\n",
    "        x = muon.data.costheta[mask]\n",
    "        y = muon.data.truth.p.costheta[mask]\n",
    "        bins = np.arange(-1,1.1,0.1)\n",
    "        fig,(ax,ax2) = makeplot.plot_hist2d_frac_err(x,y,xlabel=r'$\\cos\\theta_{reco}$',ylabel=r'$\\cos\\theta_{true}$',bins=bins,cmap='Blues',plot_line=True,norm=norm)\n",
    "        ax.set_title(title)\n",
    "        plotters.set_style(ax)\n",
    "        plotters.add_label(ax,LABEL,where='topleft',color='red',size=12)\n",
    "        if SAVE_PLOT:\n",
    "            plotters.save_plot(fname,fig=fig,folder_name=f'{PLOT_DIR}/2dhists')\n",
    "            plt.close()\n",
    "        bins = np.arange(0.5,1.025,0.025)\n",
    "        fig,(ax,ax2) = makeplot.plot_hist2d_frac_err(x,y,xlabel=r'$\\cos\\theta_{reco}$',ylabel=r'$\\cos\\theta_{true}$',bins=bins,cmap='Blues',plot_line=True,norm=norm)\n",
    "        ax.set_title(title)\n",
    "        plotters.set_style(ax)\n",
    "        plotters.add_label(ax,LABEL,where='topleft',color='red',size=12)\n",
    "        if SAVE_PLOT:\n",
    "            plotters.save_plot(f'{fname}_zoom',fig=fig,folder_name=f'{PLOT_DIR}/2dhists')\n",
    "            plt.close()"
   ]
  },
  {
   "cell_type": "code",
   "execution_count": null,
   "metadata": {},
   "outputs": [],
   "source": []
  }
 ],
 "metadata": {
  "kernelspec": {
   "display_name": "Python 3",
   "language": "python",
   "name": "python3"
  },
  "language_info": {
   "codemirror_mode": {
    "name": "ipython",
    "version": 3
   },
   "file_extension": ".py",
   "mimetype": "text/x-python",
   "name": "python",
   "nbconvert_exporter": "python",
   "pygments_lexer": "ipython3",
   "version": "3.9.10"
  }
 },
 "nbformat": 4,
 "nbformat_minor": 2
}
