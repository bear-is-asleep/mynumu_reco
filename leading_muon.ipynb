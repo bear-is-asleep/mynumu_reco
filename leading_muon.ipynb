{
 "cells": [
  {
   "cell_type": "code",
   "execution_count": 1,
   "metadata": {},
   "outputs": [
    {
     "name": "stdout",
     "output_type": "stream",
     "text": [
      "SBND imports: 1.24 s\n"
     ]
    }
   ],
   "source": [
    "#Boiler plate imports\n",
    "import pandas as pd\n",
    "import sys\n",
    "from time import time\n",
    "import matplotlib.pyplot as plt\n",
    "import numpy as np\n",
    "from matplotlib.colors import LogNorm\n",
    "\n",
    "#SBND imports\n",
    "s0 = time()\n",
    "sys.path.append('/exp/sbnd/app/users/brindenc/analyze_sbnd/pyana')\n",
    "from sbnd.general import utils\n",
    "from sbnd.cafclasses.slice import CAFSlice\n",
    "from sbnd.cafclasses.pfp import PFP\n",
    "from pyanalib.panda_helpers import multicol_concat\n",
    "from sbnd.stats import build_matrix\n",
    "\n",
    "#Constants\n",
    "from sbnd.numu.numu_constants import *\n",
    "from sbnd.prism import PRISM_BINS,make_prism_plot\n",
    "from sbnd.constants import *\n",
    "from sbnd.volume import plot_volume_boundary\n",
    "\n",
    "#Plotters\n",
    "from sbnd.plotlibrary import makeplot\n",
    "from sbnd.general import plotters\n",
    "\n",
    "s1 = time()\n",
    "print(f'SBND imports: {s1-s0:.2f} s')\n",
    "\n",
    "%load_ext autoreload\n",
    "%autoreload 2"
   ]
  },
  {
   "cell_type": "code",
   "execution_count": 2,
   "metadata": {},
   "outputs": [],
   "source": [
    "#Constants/variables\n",
    "CUT_MODE = 'roc'\n",
    "#DATA_DIR  = '/exp/sbnd/data/users/brindenc/analyze_sbnd/numu/v09_78_04_wc_pandora'\n",
    "#DATA_DIR = '/exp/sbnd/data/users/brindenc/ML/test_fcl/debug_trackid/v4'\n",
    "DATA_DIR = '/exp/sbnd/data/users/brindenc/analyze_sbnd/numu/v09_82_02_01_pds_gain'\n",
    "FNAME = f'nom_processed_{CUT_MODE}.df'\n",
    "HDR_FNAME = 'nom.df'\n",
    "#FNAME = f'single_processed_{CUT_MODE}.df'\n",
    "#FNAME = 'single_cut_cosmics_processed.df'\n",
    "#HDR_FNAME = 'single.df'\n",
    "#FNAME = f'all_processed_{CUT_MODE}.df'\n",
    "#FNAME = 'all_processed_roc.df'\n",
    "#HDR_FNAME = 'all.df'\n",
    "#FNAME = 'test_processed.df'\n",
    "#HDR_FNAME = 'test.df'\n",
    "NOM_POT = 0.6e20 # stats for first run\n",
    "LABEL = 'SBND Work in Progress\\n0.6e20 POT'\n",
    "PLOT_DIR = f'Plots/reco_{plotters.day}_{CUT_MODE}/leading_muon'\n",
    "SAVE_PLOT = True"
   ]
  },
  {
   "cell_type": "code",
   "execution_count": 3,
   "metadata": {},
   "outputs": [
    {
     "name": "stdout",
     "output_type": "stream",
     "text": [
      "--scaled by 8.05\n",
      "--scaling to POT: 7.45e+18 -> 6.00e+19\n",
      "--scaling to POT: 7.45e+18 -> 6.00e+19\n"
     ]
    }
   ],
   "source": [
    "#Get data and POT\n",
    "pfp = PFP.load(f'{DATA_DIR}/{FNAME}','pfp'\n",
    "               ,prism_bins=PRISM_BINS\n",
    "               ,momentum_bins=MOMENTUM_BINS\n",
    "               ,costheta_bins=COSTHETA_BINS\n",
    "               ,pot=NOM_POT)\n",
    "slc = CAFSlice.load(f'{DATA_DIR}/{FNAME}','slice'\n",
    "                    ,prism_bins=PRISM_BINS\n",
    "                    ,pot=NOM_POT)\n",
    "hdr = pd.read_hdf(f'{DATA_DIR}/{HDR_FNAME}',key='hdr')\n",
    "SAMPLE_POT = hdr.pot.sum()\n",
    "\n",
    "#Scale to nominal POT\n",
    "print(f'--scaled by {NOM_POT/SAMPLE_POT:.2f}')\n",
    "pfp.scale_to_pot(NOM_POT,SAMPLE_POT)\n",
    "slc.scale_to_pot(NOM_POT,SAMPLE_POT)"
   ]
  },
  {
   "cell_type": "code",
   "execution_count": 4,
   "metadata": {},
   "outputs": [
    {
     "data": {
      "text/plain": [
       "(array([0.22224323, 0.66998959, 0.81309471, 0.85877658, 0.92076491]),\n",
       " array([1.        , 0.7206205 , 0.61017594, 0.57319694, 0.49579174]),\n",
       " array([1.        , 0.69438333, 0.69717004, 0.68751007, 0.64453142]))"
      ]
     },
     "execution_count": 4,
     "metadata": {},
     "output_type": "execute_result"
    }
   ],
   "source": [
    "CUTS = ['cosmic','fv','trk','has_muon']\n",
    "pur,eff,f1 = slc.get_pur_eff_f1(['cosmic','fv','trk','has_muon'])\n",
    "pur,eff,f1"
   ]
  },
  {
   "cell_type": "markdown",
   "metadata": {},
   "source": [
    "## 2 Apply cuts, get leading muon, assign binnings"
   ]
  },
  {
   "cell_type": "code",
   "execution_count": 5,
   "metadata": {},
   "outputs": [],
   "source": [
    "slc_cut = slc.copy()\n",
    "for cut in CUTS:\n",
    "    slc_cut.apply_cut(cut)\n",
    "#concat best_muon df with weights df\n",
    "df = multicol_concat(slc_cut.data.best_muon,pd.DataFrame(slc_cut.data.genweight),axis=1)\n",
    "df = multicol_concat(df,pd.DataFrame(slc_cut.data.truth.event_type),axis=1)\n",
    "muon = PFP(df\n",
    "              ,pot=NOM_POT\n",
    "              ,prism_bins=PRISM_BINS\n",
    "              ,momentum_bins=MOMENTUM_BINS\n",
    "              ,costheta_bins=COSTHETA_BINS)\n",
    "              "
   ]
  },
  {
   "cell_type": "code",
   "execution_count": 6,
   "metadata": {},
   "outputs": [
    {
     "name": "stderr",
     "output_type": "stream",
     "text": [
      "0it [00:00, ?it/s]"
     ]
    },
    {
     "name": "stderr",
     "output_type": "stream",
     "text": [
      "9it [00:04,  1.81it/s]\n",
      "9it [00:05,  1.75it/s]\n",
      "9it [00:02,  3.13it/s]\n",
      "9it [00:03,  2.94it/s]\n",
      "8it [00:03,  2.24it/s]\n",
      "8it [00:03,  2.28it/s]\n"
     ]
    }
   ],
   "source": [
    "#Assign costheta bins - we do this after cuts to save some time - may postprocess this in the future\n",
    "muon.assign_costheta_bins()\n",
    "muon.assign_costheta_bins(key='truth.p.costheta',assign_key='truth.costheta_bin')\n",
    "\n",
    "#Momentum bin\n",
    "muon.assign_momentum_bins()\n",
    "muon.assign_momentum_bins(key='truth.p.genp.tot',assign_key='truth.momentum_bin')\n",
    "\n",
    "#Prism bin\n",
    "muon.assign_prism_bins()\n",
    "muon.assign_prism_bins(key='truth.p.prism_theta',assign_key='truth.prism_bin')"
   ]
  },
  {
   "cell_type": "code",
   "execution_count": 7,
   "metadata": {},
   "outputs": [],
   "source": [
    "#Split by event type\n",
    "bins = EVENT_IDS \n",
    "muon_events = muon.get_split(bins,'event_type')\n",
    "muon_weights = [m.genweight for m in muon_events]\n",
    "muon_labels = [f'{EVENT_NAMES[i+1]} ({round(np.sum(m.genweight)):,})' for i,m in enumerate(muon_events)]"
   ]
  },
  {
   "cell_type": "markdown",
   "metadata": {},
   "source": [
    "## 3 PRISM"
   ]
  },
  {
   "cell_type": "code",
   "execution_count": 8,
   "metadata": {},
   "outputs": [],
   "source": [
    "weights = muon.data.genweight\n",
    "bins = np.arange(-200,220,20)\n",
    "for i,t in enumerate([True,False]):\n",
    "    if t:\n",
    "        pos = muon.data.truth.p.start\n",
    "        fname = 'truth_prism'\n",
    "    else:\n",
    "        pos = muon.data.start\n",
    "        fname = 'reco_prism'\n",
    "    fig,ax=make_prism_plot(pos,weights=weights,bins=bins,cmap='Blues')\n",
    "    ax = plot_volume_boundary(ax,lw=3,color='red',alpha=0.7)\n",
    "    ax.set_xlim(-200,200)\n",
    "    ax.set_ylim(-200,200)\n",
    "    plotters.set_style(ax)\n",
    "    ax.text(0.05,0.9,LABEL,transform=ax.transAxes,fontsize=16,color='darkred')\n",
    "    #plotters.add_label(ax,LABEL,where='topright',color='white',size=12)\n",
    "    if SAVE_PLOT:\n",
    "        plotters.save_plot(fname,fig=fig,folder_name=PLOT_DIR)\n",
    "        plt.close()"
   ]
  },
  {
   "cell_type": "markdown",
   "metadata": {},
   "source": [
    "## 4 Single var distibutions"
   ]
  },
  {
   "cell_type": "code",
   "execution_count": 9,
   "metadata": {},
   "outputs": [],
   "source": [
    "for i,dens in enumerate(['']):\n",
    "    fig,ax = plt.subplots(figsize=(6,4))\n",
    "    h = ax.hist([m.p for m in muon_events],\n",
    "                bins=np.arange(0,4,0.1),\n",
    "                weights=muon_weights,\n",
    "                histtype='barstacked',\n",
    "                lw=3,\n",
    "                alpha=0.9,\n",
    "                label=muon_labels,\n",
    "                color=EVENT_COLORS[1:],\n",
    "                density=True if i == 1 else False, #set density\n",
    "        )\n",
    "    ax.legend()\n",
    "    ax.set_xlabel(r'$p_\\mu$ [GeV]')\n",
    "    ax.set_ylabel('Normalized events' if i == 1 else 'Events')\n",
    "    ax.set_title(f'Leading Muon Momentum ({round(muon.data.genweight.sum()):,} events)')\n",
    "\n",
    "    plotters.set_style(ax,legend_loc='upper right')\n",
    "    plotters.add_label(ax,LABEL,alpha=0.9,fontsize=12,color='gray',where='bottomright')\n",
    "    if SAVE_PLOT:\n",
    "        plotters.save_plot(f'momentum',fig=fig,folder_name=PLOT_DIR)\n",
    "        plt.close()"
   ]
  },
  {
   "cell_type": "code",
   "execution_count": 10,
   "metadata": {},
   "outputs": [],
   "source": [
    "for i,dens in enumerate(['']):\n",
    "    fig,ax = plt.subplots(figsize=(6,4))\n",
    "    h = ax.hist([m.costheta for m in muon_events],\n",
    "                bins=np.arange(-1,1.1,0.1),\n",
    "                weights=muon_weights,\n",
    "                histtype='barstacked',\n",
    "                lw=3,\n",
    "                alpha=0.9,\n",
    "                color=EVENT_COLORS[1:],\n",
    "                label=muon_labels,\n",
    "                density=True if i == 1 else False, #set density\n",
    "        )\n",
    "    ax.legend()\n",
    "    ax.set_xlabel(r'$\\cos\\theta_\\mu$')\n",
    "    ax.set_ylabel('Normalized events' if i == 1 else 'Events')\n",
    "    ax.set_title(fr'Leading Muon $\\cos\\theta$ ({round(muon.data.genweight.sum()):,} events)')\n",
    "\n",
    "    plotters.set_style(ax,legend_loc='upper left')\n",
    "    plotters.add_label(ax,LABEL,alpha=0.9,fontsize=12,color='gray',where='bottomleft')\n",
    "    if SAVE_PLOT:\n",
    "        plotters.save_plot(f'costheta',fig=fig,folder_name=PLOT_DIR)\n",
    "        plt.close()"
   ]
  },
  {
   "cell_type": "markdown",
   "metadata": {},
   "source": [
    "## 5 Multivar distributions"
   ]
  },
  {
   "cell_type": "markdown",
   "metadata": {},
   "source": [
    "### 5.1 PRISM"
   ]
  },
  {
   "cell_type": "code",
   "execution_count": 11,
   "metadata": {},
   "outputs": [],
   "source": [
    "#Make list of colors from colormap the same length as thetas\n",
    "colors = plotters.get_colors('gnuplot2',len(PRISM_BINS)-1)\n",
    "\n",
    "#Prism plot for muon kinematics - let's do this all at once to avoid double counting errors\n",
    "for i,dens in enumerate(['','_dens']):\n",
    "    #Figures forr angles\n",
    "    fig_costheta,ax_costheta = plt.subplots(figsize=(8,6))\n",
    "    \n",
    "    #Figures for momenta\n",
    "    fig_momentum,ax_momentum = plt.subplots(figsize=(8,6))\n",
    "    \n",
    "    #Make a list for repeated tasks\n",
    "    axs = [ax_costheta,ax_momentum]\n",
    "    \n",
    "    #Labels for figures\n",
    "    labels = [None]*(len(PRISM_BINS)-1)\n",
    "    \n",
    "    for j,_ in enumerate(PRISM_BINS):\n",
    "        if PRISM_BINS[j] == PRISM_BINS[-1]: break #skip last bin to avoid range errors\n",
    "        #Mask prism bins\n",
    "        muon_inrange = muon.data[muon.data.prism_bin == j]\n",
    "        \n",
    "        #Set labels\n",
    "        labels[j] = f'{round(PRISM_BINS[j],2)} < ' + r'$\\theta_{PRISM}$'\\\n",
    "        + f' < {round(PRISM_BINS[j+1],2)} ({round(np.sum(muon_inrange.genweight)):,})'\n",
    "        \n",
    "        #Make histograms\n",
    "        ax_costheta.hist(muon_inrange.costheta, #cos theta values\n",
    "            bins=np.arange(-1,1.1,0.1),\n",
    "            weights=muon_inrange.genweight,\n",
    "            histtype='step',\n",
    "            lw=2,\n",
    "            alpha=0.9,\n",
    "            label=labels[j],\n",
    "            density=True if i == 1 else False, #set density\n",
    "            linestyle='-' if j % 2 == 0 else '--', #alternate linestyle to help with visibility\n",
    "            color=colors[j],\n",
    "            )\n",
    "        ax_momentum.hist(muon_inrange.p, #momentum values\n",
    "            bins=np.arange(0,4,0.1),\n",
    "            weights=muon_inrange.genweight,\n",
    "            histtype='step',\n",
    "            lw=2,\n",
    "            alpha=0.9,\n",
    "            label=labels[j],\n",
    "            density=True if i == 1 else False, #set density\n",
    "            color=colors[j],\n",
    "            linestyle='-' if j % 2 == 0 else '--', #alternate linestyle to help with visibility\n",
    "            )\n",
    "    \n",
    "    \n",
    "    #Set xlabels\n",
    "    ax_costheta.set_xlabel(r'$\\cos\\theta_\\mu$')\n",
    "    ax_momentum.set_xlabel(r'$p_\\mu$ [GeV]')\n",
    "    \n",
    "    #Set labels\n",
    "    plotters.add_label(ax_costheta,LABEL,alpha=0.8,fontsize=12,color='gray',where='bottomishleft')\n",
    "    plotters.add_label(ax_momentum,LABEL,alpha=0.8,fontsize=12,color='gray',where='bottomishright')\n",
    "    \n",
    "    for k,ax in enumerate(axs):\n",
    "        ax.set_ylabel('Normalized events' if i == 1 else 'Events')\n",
    "        ax.legend()\n",
    "    plotters.set_style(ax_costheta,legend_size=11,legend_loc='upper left')\n",
    "    plotters.set_style(ax_momentum,legend_size=11,legend_loc='upper right')\n",
    "    if SAVE_PLOT:\n",
    "        plotters.save_plot(f'prism_muon_costheta{dens}',fig=fig_costheta,folder_name=PLOT_DIR)\n",
    "        plotters.save_plot(f'prism_muon_momentum{dens}',fig=fig_momentum,folder_name=PLOT_DIR)\n",
    "        plt.close('all')\n"
   ]
  },
  {
   "cell_type": "markdown",
   "metadata": {},
   "source": [
    "### 5.2 Reco vs True Differential Plots"
   ]
  },
  {
   "cell_type": "code",
   "execution_count": 12,
   "metadata": {},
   "outputs": [],
   "source": [
    "for j,dens in enumerate(['','_dens']):\n",
    "  fig,axs = plt.subplots(nrows=3,ncols=3,figsize=(15,12),sharex=True)\n",
    "  for i,ax in enumerate(axs.flatten()):\n",
    "    #Get muons within theta bins\n",
    "    truth_muon_inrange = muon.data[(muon.data.truth.costheta_bin == i)]\n",
    "    reco_muon_inrange = muon.data[(muon.data.costheta_bin == i)]\n",
    "    \n",
    "    #Get momenta\n",
    "    ps_truth = truth_muon_inrange.truth.p.genp.tot\n",
    "    ps_reco = reco_muon_inrange.p\n",
    "    \n",
    "    #Get weights\n",
    "    weights_truth = truth_muon_inrange.genweight\n",
    "    weights_reco = reco_muon_inrange.genweight\n",
    "    \n",
    "    #Get number of events from weights\n",
    "    truth_inrange_count = np.sum(weights_truth)\n",
    "    reco_inrange_count = np.sum(weights_reco)\n",
    "    \n",
    "    ax.hist([ps_truth,ps_reco],\n",
    "            bins=np.arange(0,4,0.1),\n",
    "            weights=[weights_truth,weights_reco],\n",
    "            histtype='step',\n",
    "            lw=2,\n",
    "            label=[f'Truth ({round(truth_inrange_count):,})', \n",
    "                  f'Reco ({round(reco_inrange_count):,})'],\n",
    "            density=True if j == 1 else False)\n",
    "    \n",
    "    plotters.set_style(ax)\n",
    "    plotters.add_label(ax,f'{LABEL}\\n{COSTHETA_BINS[i]:.2f} < $\\cos\\\\theta_\\mu$ < {COSTHETA_BINS[i+1]:.2f}',fontsize=12,alpha=0.9,where='centerright')\n",
    "    ax.legend()\n",
    "  axs[2,1].set_xlabel(r'$p_\\mu$ [GeV]',fontsize=20)\n",
    "  axs[0,1].set_title(rf'{round(muon.data.genweight.sum()):,} muons',fontsize=25)\n",
    "  axs[1,0].set_ylabel('Normalized events' if j == 1 else 'Events',fontsize=20)\n",
    "  if SAVE_PLOT:\n",
    "    plotters.save_plot(f'momentum_mu_theta{dens}',fig=fig,folder_name=PLOT_DIR)\n",
    "    plt.close()"
   ]
  },
  {
   "cell_type": "code",
   "execution_count": 13,
   "metadata": {},
   "outputs": [],
   "source": [
    "for j,dens in enumerate(['','_dens']):\n",
    "  fig,axs = plt.subplots(nrows=3,ncols=3,figsize=(15,12),sharex=True)\n",
    "  for i,ax in enumerate(axs.flatten()):\n",
    "    #Get muons within theta bins\n",
    "    truth_muon_inrange = muon.data[(muon.data.truth.momentum_bin == i)]\n",
    "    reco_muon_inrange = muon.data[(muon.data.momentum_bin == i)]\n",
    "    \n",
    "    #Get momenta\n",
    "    ps_truth = truth_muon_inrange.truth.p.costheta\n",
    "    ps_reco = reco_muon_inrange.costheta\n",
    "    \n",
    "    #Get weights\n",
    "    weights_truth = truth_muon_inrange.genweight\n",
    "    weights_reco = reco_muon_inrange.genweight\n",
    "    \n",
    "    #Get number of events from weights\n",
    "    truth_inrange_count = np.sum(weights_truth)\n",
    "    reco_inrange_count = np.sum(weights_reco)\n",
    "    \n",
    "    ax.hist([ps_truth,ps_reco],\n",
    "            bins=np.arange(-1,1.1,0.1),\n",
    "            weights=[weights_truth,weights_reco],\n",
    "            histtype='step',\n",
    "            lw=2,\n",
    "            label=[f'Truth ({round(truth_inrange_count):,})', \n",
    "                  f'Reco ({round(reco_inrange_count):,})'],\n",
    "            density=True if j == 1 else False)\n",
    "    \n",
    "    plotters.set_style(ax)\n",
    "    plotters.add_label(ax,f'{LABEL}\\n{MOMENTUM_BINS[i]:.2f} < $p_\\mu$ < {MOMENTUM_BINS[i+1]:.2f}',fontsize=12,alpha=0.9,where='centerleft')\n",
    "    ax.legend()\n",
    "  axs[2,1].set_xlabel(r'$\\cos\\theta_\\mu$',fontsize=20)\n",
    "  axs[0,1].set_title(rf'{round(muon.data.genweight.sum()):,} muons',fontsize=25)\n",
    "  axs[1,0].set_ylabel('Normalized events' if j == 1 else 'Events',fontsize=20)\n",
    "  if SAVE_PLOT:\n",
    "    plotters.save_plot(f'theta_mu_momentum{dens}',fig=fig,folder_name=PLOT_DIR)\n",
    "    plt.close()"
   ]
  },
  {
   "cell_type": "markdown",
   "metadata": {},
   "source": [
    "### 5.3 Reco w/ Event Type"
   ]
  },
  {
   "cell_type": "code",
   "execution_count": 14,
   "metadata": {},
   "outputs": [],
   "source": [
    "for j,yscale in enumerate(['linear','log']):\n",
    "  fig,axs = plt.subplots(nrows=3,ncols=3,figsize=(15,12),sharex=True)\n",
    "  for i,ax in enumerate(axs.flatten()):\n",
    "    #Get muons within theta bins  \n",
    "    muons_inrange = [m[m.costheta_bin == i] for m in muon_events]\n",
    "    \n",
    "    #Get momenta\n",
    "    ps = [m.p for m in muons_inrange]\n",
    "    \n",
    "    #Get weights\n",
    "    weights = [m.genweight for m in muons_inrange]\n",
    "    \n",
    "    #Get number of events from weights\n",
    "    inrange_counts = [np.sum(w) for w in weights]\n",
    "    \n",
    "    ax.hist(ps,\n",
    "            bins=np.arange(0,4,0.1),\n",
    "            weights=weights,\n",
    "            histtype='barstacked',\n",
    "            lw=2,\n",
    "            label=EVENT_NAMES[1:],\n",
    "            color=EVENT_COLORS[1:])\n",
    "    \n",
    "    if i == 0: \n",
    "      ax.legend()\n",
    "      where = 'bottomright'\n",
    "    else:\n",
    "      where = 'centerright'\n",
    "    if yscale == 'log': ax.set_yscale('log')\n",
    "    plotters.set_style(ax)\n",
    "    plotters.add_label(ax,f'{LABEL}\\n{COSTHETA_BINS[i]:.2f} < $\\cos\\\\theta_\\mu$ < {COSTHETA_BINS[i+1]:.2f}',fontsize=12,alpha=0.9,where=where)\n",
    "  axs[2,1].set_xlabel(r'$p_\\mu$ [GeV]',fontsize=20)\n",
    "  axs[0,1].set_title(rf'{round(muon.data.genweight.sum()):,} muons',fontsize=25)\n",
    "  axs[1,0].set_ylabel('Events',fontsize=20)\n",
    "  if SAVE_PLOT:\n",
    "    plotters.save_plot(f'momentum_mu_theta_events_{yscale}',fig=fig,folder_name=PLOT_DIR)\n",
    "    plt.close()"
   ]
  },
  {
   "cell_type": "code",
   "execution_count": 15,
   "metadata": {},
   "outputs": [],
   "source": [
    "for j,yscale in enumerate(['linear','log']):\n",
    "  fig,axs = plt.subplots(nrows=3,ncols=3,figsize=(15,12),sharex=True)\n",
    "  for i,ax in enumerate(axs.flatten()):\n",
    "    #Get muons within momentum bins  \n",
    "    muons_inrange = [m[m.momentum_bin == i] for m in muon_events]\n",
    "    \n",
    "    #Get momenta\n",
    "    costhetas = [m.costheta for m in muons_inrange]\n",
    "    \n",
    "    #Get weights\n",
    "    weights = [m.genweight for m in muons_inrange]\n",
    "    \n",
    "    #Get number of events from weights\n",
    "    inrange_counts = [np.sum(w) for w in weights]\n",
    "    \n",
    "    ax.hist(costhetas,\n",
    "            bins=np.arange(-1,1.1,0.1),\n",
    "            weights=weights,\n",
    "            histtype='barstacked',\n",
    "            lw=2,\n",
    "            label=EVENT_NAMES[1:],\n",
    "            color=EVENT_COLORS[1:])\n",
    "    \n",
    "    if i == 8: \n",
    "      ax.legend()\n",
    "      where = 'bottomleft'\n",
    "    else:\n",
    "      where = 'topleft'\n",
    "    if yscale == 'log': ax.set_yscale('log')\n",
    "    plotters.set_style(ax)\n",
    "    plotters.add_label(ax,f'{LABEL}\\n{MOMENTUM_BINS[i]:.2f} < $p_\\mu$ < {MOMENTUM_BINS[i+1]:.2f}',fontsize=12,alpha=0.9,where=where)\n",
    "  axs[2,1].set_xlabel(r'$\\cos\\theta_\\mu$ [GeV]',fontsize=20)\n",
    "  axs[0,1].set_title(rf'{round(muon.data.genweight.sum()):,} muons',fontsize=25)\n",
    "  axs[1,0].set_ylabel('Events',fontsize=20)\n",
    "  if SAVE_PLOT:\n",
    "    plotters.save_plot(f'costheta_mu_momentum_events_{yscale}',fig=fig,folder_name=PLOT_DIR)\n",
    "    plt.close()"
   ]
  },
  {
   "cell_type": "markdown",
   "metadata": {},
   "source": [
    "## 6 2D histograms w uncertainties"
   ]
  },
  {
   "cell_type": "code",
   "execution_count": 16,
   "metadata": {},
   "outputs": [],
   "source": [
    "true_numucc = np.array((muon.data.event_type == 0).values,dtype=bool)\n",
    "true_is_muon = np.array((muon.data.truth.p.pdg == 13).values,dtype=bool)\n",
    "true_is_cont = np.array((muon.data.truth.p.cont_tpc).values,dtype=bool)\n",
    "is_cont = np.array((muon.data.cont_tpc).values,dtype=bool)"
   ]
  },
  {
   "cell_type": "code",
   "execution_count": 17,
   "metadata": {},
   "outputs": [],
   "source": [
    "#Energy\n",
    "no_nan = np.array((~muon.data.energy.isna() & ~muon.data.truth.p.startE.isna()).values,dtype=bool)\n",
    "for norm in [True]:\n",
    "    for use_numucc in [True,False]:\n",
    "        for use_muon in ['true_muon','']:\n",
    "            for cont in ['reco_no', 'reco_cont', 'truth_no', 'truth_cont','']:\n",
    "                fname = 'energy'\n",
    "                title = ''\n",
    "                label = LABEL\n",
    "                mask = no_nan\n",
    "                #Event filter\n",
    "                if use_numucc:\n",
    "                    fname += '_numucc'\n",
    "                    title += r'True $\\nu_\\mu$CC'\n",
    "                    mask = true_numucc & no_nan\n",
    "                #PDG filter\n",
    "                if use_muon == 'true_muon':\n",
    "                    fname += '_true_muon'\n",
    "                    label += '\\nTrue Muons'\n",
    "                    mask = mask & true_is_muon\n",
    "                #Containment filter\n",
    "                if cont == 'reco_no':\n",
    "                    fname += f'_{cont}'\n",
    "                    label += '\\nUncontained Reco'\n",
    "                    mask = mask & ~is_cont\n",
    "                elif cont == 'reco_cont':\n",
    "                    fname += f'_{cont}'\n",
    "                    label += '\\nContained Reco'\n",
    "                    mask = mask & is_cont\n",
    "                elif cont == 'truth_no':\n",
    "                    fname += f'_{cont}'\n",
    "                    label += '\\nUncontained True'\n",
    "                    mask = mask & ~true_is_cont\n",
    "                elif cont == 'truth_cont':\n",
    "                    fname += f'_{cont}'\n",
    "                    label += '\\nContained True'\n",
    "                    mask = mask & true_is_cont\n",
    "                x = muon.data.energy[mask]\n",
    "                y = muon.data.truth.p.startE[mask]\n",
    "                bins = np.arange(0,1.55,0.05)\n",
    "                #Log scale\n",
    "                if norm:\n",
    "                    fname += '_norm'\n",
    "                    norm = LogNorm()\n",
    "                    #title += ' (Log Scale)'\n",
    "                else:\n",
    "                    norm = None\n",
    "                fig,(ax,ax2) = makeplot.plot_hist2d_frac_err(x,y,xlabel=r'$E_{reco}$ [GeV]',ylabel=r'$E_{true}$ [GeV]',bins=bins,cmap='Blues',plot_line=True,norm=norm\n",
    "                                                             ,colorbar=True)\n",
    "                ax.set_title(title)\n",
    "                ax.grid()\n",
    "                plotters.set_style(ax)\n",
    "                plotters.add_label(ax,label,where='topleft',color='red',size=12)\n",
    "                if SAVE_PLOT:\n",
    "                    plotters.save_plot(fname,fig=fig,folder_name=f'{PLOT_DIR}/2dhists')\n",
    "                    plt.close()"
   ]
  },
  {
   "cell_type": "code",
   "execution_count": 18,
   "metadata": {},
   "outputs": [],
   "source": [
    "#Costheta\n",
    "no_nan = ~muon.data.costheta.isna() & ~muon.data.truth.p.costheta.isna()\n",
    "for norm in [True]:\n",
    "    for use_numucc in [True,False]:\n",
    "        for use_muon in ['true_muon','']:\n",
    "            for cont in ['reco_no', 'reco_cont', 'truth_no', 'truth_cont','']:\n",
    "                fname = 'costheta'\n",
    "                title = ''\n",
    "                label = LABEL\n",
    "                mask = no_nan\n",
    "                #Event filter\n",
    "                if use_numucc:\n",
    "                    fname += '_numucc'\n",
    "                    title += r'True $\\nu_\\mu$CC'\n",
    "                    mask = true_numucc & no_nan\n",
    "                #PDG filter\n",
    "                if use_muon == 'true_muon':\n",
    "                    fname += '_true_muon'\n",
    "                    label += '\\nTrue Muons'\n",
    "                    mask = mask & true_is_muon\n",
    "                #Containment filter\n",
    "                if cont == 'reco_no':\n",
    "                    fname += f'_{cont}'\n",
    "                    label += '\\nUncontained Reco'\n",
    "                    mask = mask & ~is_cont\n",
    "                elif cont == 'reco_cont':\n",
    "                    fname += f'_{cont}'\n",
    "                    label += '\\nContained Reco'\n",
    "                    mask = mask & is_cont\n",
    "                elif cont == 'truth_no':\n",
    "                    fname += f'_{cont}'\n",
    "                    label += '\\nUncontained True'\n",
    "                    mask = mask & ~true_is_cont\n",
    "                elif cont == 'truth_cont':\n",
    "                    fname += f'_{cont}'\n",
    "                    label += '\\nContained True'\n",
    "                    mask = mask & true_is_cont\n",
    "                x = muon.data.costheta[mask]\n",
    "                y = muon.data.truth.p.costheta[mask]\n",
    "                #Log scale\n",
    "                if norm:\n",
    "                    fname += '_norm'\n",
    "                    norm = LogNorm()\n",
    "                    #title += ' (Log Scale)'\n",
    "                else:\n",
    "                    norm = None\n",
    "                bins = np.arange(-1,1.1,0.1)\n",
    "                fig,(ax,ax2) = makeplot.plot_hist2d_frac_err(x,y,xlabel=r'$\\cos\\theta_{reco}$',ylabel=r'$\\cos\\theta_{true}$',bins=bins,cmap='Blues',plot_line=True,norm=norm\n",
    "                                                             ,colorbar=True)\n",
    "                ax.grid()\n",
    "                ax.set_title(title)\n",
    "                plotters.set_style(ax)\n",
    "                plotters.add_label(ax,label,where='topleft',color='red',size=12)\n",
    "                if SAVE_PLOT:\n",
    "                    plotters.save_plot(fname,fig=fig,folder_name=f'{PLOT_DIR}/2dhists')\n",
    "                    plt.close()\n",
    "                # bins = np.arange(0.5,1.025,0.025)\n",
    "                # fig,(ax,ax2) = makeplot.plot_hist2d_frac_err(x,y,xlabel=r'$\\cos\\theta_{reco}$',ylabel=r'$\\cos\\theta_{true}$',bins=bins,cmap='Blues',plot_line=True,norm=norm\n",
    "                #                                              ,colorbar=True)\n",
    "                # ax.set_title(title)\n",
    "                # plotters.set_style(ax)\n",
    "                # plotters.add_label(ax,label,where='topleft',color='red',size=12)\n",
    "                # if SAVE_PLOT:\n",
    "                #     plotters.save_plot(f'{fname}_zoom',fig=fig,folder_name=f'{PLOT_DIR}/2dhists')\n",
    "                #     plt.close()"
   ]
  },
  {
   "cell_type": "code",
   "execution_count": 19,
   "metadata": {},
   "outputs": [],
   "source": [
    "#cont vs uncontained\n",
    "for norm in [False]:\n",
    "    for use_numucc in [True,False]:\n",
    "        for use_muon in ['true_muon','']:\n",
    "                fname = 'cont'\n",
    "                title = ''\n",
    "                label = LABEL\n",
    "                mask = [True]*len(muon.data)\n",
    "                #Event filter\n",
    "                if use_numucc:\n",
    "                    fname += '_numucc'\n",
    "                    title += r'True $\\nu_\\mu$CC'\n",
    "                    mask = true_numucc\n",
    "                #PDG filter\n",
    "                if use_muon == 'true_muon':\n",
    "                    fname += '_true_muon'\n",
    "                    label += '\\nTrue Muons'\n",
    "                    mask = mask & true_is_muon\n",
    "                #Log scale\n",
    "                if norm:\n",
    "                    fname += '_norm'\n",
    "                    norm = LogNorm()\n",
    "                    #title += ' (Log Scale)'\n",
    "                else:\n",
    "                    norm = None\n",
    "                x = muon.data.cont_tpc.values[mask]\n",
    "                y = muon.data.truth.p.cont_tpc.values[mask]\n",
    "                hist = build_matrix(x,y,n_classes=2)\n",
    "                fig,ax = makeplot.draw_confusion_matrix_binned(hist,class_names=['Uncontained','Contained'],xlabel='Reconstructed',ylabel='True')\n",
    "                ax.set_title(title)\n",
    "                plotters.set_style(ax)\n",
    "                plotters.add_label(ax,label,where='bottomright',color='red',size=10)\n",
    "                if SAVE_PLOT:\n",
    "                    plotters.save_plot(fname,fig=fig,folder_name=f'{PLOT_DIR}/2dhists')\n",
    "                    plt.close()\n",
    "                "
   ]
  },
  {
   "cell_type": "code",
   "execution_count": 20,
   "metadata": {},
   "outputs": [
    {
     "name": "stdout",
     "output_type": "stream",
     "text": [
      "all events: {11.0: 4.157139887757223e-05, 13.0: 0.9323217626273124, 22.0: 0.00016628559551028893, 211.0: 0.047432966119309916, 321.0: 0.0002909997921430056, 2212.0: 0.019704843067969238, 1000010020.0: 4.157139887757223e-05}\n",
      "numucc events: {11.0: 4.514876518127229e-05, 13.0: 0.9623910786040002, 22.0: 0.00013544629554381688, 211.0: 0.026502325161406836, 321.0: 9.029753036254458e-05, 2212.0: 0.01083570364350535}\n"
     ]
    }
   ],
   "source": [
    "pdgs = muon.data.truth.p.pdg\n",
    "pdg,counts = np.unique(abs(pdgs),return_counts=True)\n",
    "counts_dict = dict(zip(pdg,counts/np.sum(counts)))\n",
    "print('all events:',counts_dict)\n",
    "\n",
    "pdgs = muon.data[muon.data.event_type == 0].truth.p.pdg\n",
    "pdg,counts = np.unique(abs(pdgs),return_counts=True)\n",
    "counts_dict = dict(zip(pdg,counts/np.sum(counts)))\n",
    "print('numucc events:',counts_dict)"
   ]
  },
  {
   "cell_type": "code",
   "execution_count": 28,
   "metadata": {},
   "outputs": [
    {
     "data": {
      "image/png": "[encoded data removed]",
      "text/plain": [
       "<Figure size 432x288 with 1 Axes>"
      ]
     },
     "metadata": {},
     "output_type": "display_data"
    }
   ],
   "source": [
    "# Data to plot\n",
    "labels = 'Debuggin', 'Physics', 'Coding', 'Crying'\n",
    "sizes = [20, 1, 4, 75]\n",
    "\n",
    "# Plot\n",
    "plt.pie(sizes, labels=labels, autopct='%1.1f%%', startangle=140)\n",
    "\n",
    "plt.axis('equal')  # Equal aspect ratio ensures that pie is drawn as a circle.\n",
    "plt.show()"
   ]
  },
  {
   "cell_type": "code",
   "execution_count": null,
   "metadata": {},
   "outputs": [],
   "source": [
    "# #TODO: make a line plot of correctly identified muons as function of blah. IDC now though\n",
    "# #PID - assign 0 to photon, 1 to electron, 2 to muon, 3 to pion, 4 to proton, 5 to other\n",
    "# pids = np.zeros(len(muon.data))\n",
    "# true_pids = pids.copy()\n",
    "\n",
    "# #Get pid masks\n",
    "# muon_mask = abs(muon.data.truth.p.pdg) == 13\n",
    "# pion_mask = abs(muon.data.truth.p.pdg) == 211\n",
    "# proton_mask = abs(muon.data.truth.p.pdg) == 2212\n",
    "# electron_mask = abs(muon.data.truth.p.pdg) == 11\n",
    "# photon_mask = abs(muon.data.truth.p.pdg) == 22\n",
    "\n",
    "# true_pids[muon_mask] = 2\n",
    "# true_pids[pion_mask] = 3\n",
    "# true_pids[proton_mask] = 4\n",
    "# true_pids[electron_mask] = 1\n",
    "# true_pids[photon_mask] = 0\n",
    "\n",
    "\n",
    "# for use_numucc in [True,False]:\n",
    "#     for cont in ['reco_no', 'reco_cont', 'truth_no', 'truth_cont','']:\n",
    "#         for var in ['reco_energy','reco_costheta','true_energy','true_costheta']:\n",
    "#             fname = f'pid_{var}'\n",
    "#             title = ''\n",
    "#             label = LABEL\n",
    "#             mask = no_nan\n",
    "#             #Containment filter\n",
    "#             if cont == 'reco_no':\n",
    "#                 fname += f'_{cont}'\n",
    "#                 label += '\\nUncontained Reco'\n",
    "#                 mask = mask & ~is_cont\n",
    "#             elif cont == 'reco_cont':\n",
    "#                 fname += f'_{cont}'\n",
    "#                 label += '\\nContained Reco'\n",
    "#                 mask = mask & is_cont\n",
    "#             elif cont == 'truth_no':\n",
    "#                 fname += f'_{cont}'\n",
    "#                 label += '\\nUncontained True'\n",
    "#                 mask = mask & ~true_is_cont\n",
    "#             elif cont == 'truth_cont':\n",
    "#                 fname += f'_{cont}'\n",
    "#                 label += '\\nContained True'\n",
    "#                 mask = mask & true_is_cont\n",
    "#             #Get x val\n",
    "#             if var == 'reco_energy':\n",
    "#                 x = muon.data.energy[mask]\n",
    "#             elif var == 'reco_costheta':\n",
    "#                 x = muon.data.costheta[mask]\n",
    "#             elif var == 'true_energy':\n",
    "#                 x = muon.data.truth.p.startE[mask]\n",
    "#             elif var == 'true_costheta':\n",
    "#                 x = muon.data.truth.p.costheta[mask]\n",
    "#             y = true_pids[mask]\n",
    "        \n",
    "        \n",
    "        \n"
   ]
  },
  {
   "cell_type": "code",
   "execution_count": 81,
   "metadata": {},
   "outputs": [
    {
     "data": {
      "text/plain": [
       "array([0.5, 1.5])"
      ]
     },
     "execution_count": 81,
     "metadata": {},
     "output_type": "execute_result"
    }
   ],
   "source": [
    "np.arange(0.5,2.5,1)"
   ]
  },
  {
   "cell_type": "code",
   "execution_count": 170,
   "metadata": {},
   "outputs": [
    {
     "data": {
      "text/plain": [
       "(array([0, 1, 2, 3, 4]), array([26318,   737,    22,  1093,  1783]))"
      ]
     },
     "execution_count": 170,
     "metadata": {},
     "output_type": "execute_result"
    }
   ],
   "source": [
    "np.unique(muon.data.event_type,return_counts=True)"
   ]
  },
  {
   "cell_type": "code",
   "execution_count": 178,
   "metadata": {},
   "outputs": [
    {
     "data": {
      "text/plain": [
       "(array([1.10000000e+01, 1.30000000e+01, 2.11000000e+02, 3.21000000e+02,\n",
       "        2.21200000e+03, 1.00001002e+09]),\n",
       " array([    1, 28019,  1312,     4,   615,     2]))"
      ]
     },
     "execution_count": 178,
     "metadata": {},
     "output_type": "execute_result"
    }
   ],
   "source": [
    "np.unique(abs(muon.data.truth.p.pdg),return_counts=True)"
   ]
  },
  {
   "cell_type": "code",
   "execution_count": 179,
   "metadata": {},
   "outputs": [
    {
     "data": {
      "text/plain": [
       "array([3.33856375e-05, 9.35432177e-01, 4.38019564e-02, 1.33542550e-04,\n",
       "       2.05321671e-02, 6.67712750e-05])"
      ]
     },
     "execution_count": 179,
     "metadata": {},
     "output_type": "execute_result"
    }
   ],
   "source": [
    "np.unique(abs(muon.data.truth.p.pdg),return_counts=True)[1]/len(muon.data)"
   ]
  },
  {
   "cell_type": "code",
   "execution_count": null,
   "metadata": {},
   "outputs": [],
   "source": []
  }
 ],
 "metadata": {
  "kernelspec": {
   "display_name": "Python 3",
   "language": "python",
   "name": "python3"
  },
  "language_info": {
   "codemirror_mode": {
    "name": "ipython",
    "version": 3
   },
   "file_extension": ".py",
   "mimetype": "text/x-python",
   "name": "python",
   "nbconvert_exporter": "python",
   "pygments_lexer": "ipython3",
   "version": "3.9.10"
  }
 },
 "nbformat": 4,
 "nbformat_minor": 2
}
