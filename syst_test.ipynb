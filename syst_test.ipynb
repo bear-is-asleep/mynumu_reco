{
 "cells": [
  {
   "cell_type": "code",
   "execution_count": 185,
   "metadata": {},
   "outputs": [
    {
     "name": "stdout",
     "output_type": "stream",
     "text": [
      "The autoreload extension is already loaded. To reload it, use:\n",
      "  %reload_ext autoreload\n"
     ]
    }
   ],
   "source": [
    "import pandas as pd\n",
    "import numpy as np\n",
    "import matplotlib.pyplot as plt\n",
    "import uproot\n",
    "from matplotlib.patches import Patch\n",
    "\n",
    "import sys\n",
    "sys.path.append('/exp/sbnd/app/users/brindenc/analyze_sbnd/pyana')\n",
    "\n",
    "#MY imports\n",
    "from sbnd.general import plotters\n",
    "from sbnd.plotlibrary import makeplot\n",
    "from sbnd.stats import syst\n",
    "from sbnd.cafclasses.nu import NU\n",
    "from sbnd.cafclasses.slice import CAFSlice\n",
    "\n",
    "%load_ext autoreload\n",
    "%autoreload 2"
   ]
  },
  {
   "cell_type": "markdown",
   "metadata": {},
   "source": [
    "## 1. Variables/Constants"
   ]
  },
  {
   "cell_type": "code",
   "execution_count": 215,
   "metadata": {},
   "outputs": [],
   "source": [
    "GENIE_ROOT_NAME = 'GENIEReWeight_SBN_v1_multisim_'"
   ]
  },
  {
   "cell_type": "markdown",
   "metadata": {},
   "source": [
    "## 2. Load data"
   ]
  },
  {
   "cell_type": "code",
   "execution_count": 216,
   "metadata": {},
   "outputs": [],
   "source": [
    "fname = '/exp/sbnd/data/users/brindenc/analyze_sbnd/numu/v09_89_01/test_fcl/test.df'"
   ]
  },
  {
   "cell_type": "code",
   "execution_count": 217,
   "metadata": {},
   "outputs": [],
   "source": [
    "caf = CAFSlice.load(fname)\n",
    "nu = NU.load(fname)"
   ]
  },
  {
   "cell_type": "markdown",
   "metadata": {},
   "source": [
    "## 3. Single param"
   ]
  },
  {
   "cell_type": "code",
   "execution_count": 229,
   "metadata": {},
   "outputs": [],
   "source": [
    "bins = np.arange(0,0.5,0.05)\n",
    "\n",
    "weights = nu.data['GENIEReWeight_SBN_v1_multisim_FSI_N_VariationResponse'].values.T\n",
    "Es = nu.data.E.values\n",
    "\n",
    "edges, nom_hist, cv_hist, upper_hist, lower_hist, weighted_hists = syst.get_weighted_hist(Es,weights,bins)"
   ]
  },
  {
   "cell_type": "code",
   "execution_count": 230,
   "metadata": {},
   "outputs": [
    {
     "data": {
      "text/plain": [
       "(2,)"
      ]
     },
     "execution_count": 230,
     "metadata": {},
     "output_type": "execute_result"
    }
   ],
   "source": [
    "Es.shape"
   ]
  },
  {
   "cell_type": "code",
   "execution_count": 219,
   "metadata": {},
   "outputs": [
    {
     "data": {
      "text/plain": [
       "(100, 2)"
      ]
     },
     "execution_count": 219,
     "metadata": {},
     "output_type": "execute_result"
    }
   ],
   "source": [
    "weights.shape"
   ]
  },
  {
   "cell_type": "code",
   "execution_count": 220,
   "metadata": {},
   "outputs": [
    {
     "data": {
      "text/plain": [
       "<matplotlib.legend.Legend at 0x7f70e51b2e50>"
      ]
     },
     "execution_count": 220,
     "metadata": {},
     "output_type": "execute_result"
    },
    {
     "data": {
      "image/png": "[encoded data removed]",
      "text/plain": [
       "<Figure size 432x288 with 1 Axes>"
      ]
     },
     "metadata": {
      "needs_background": "light"
     },
     "output_type": "display_data"
    }
   ],
   "source": [
    "fig,ax = plt.subplots()\n",
    "for i,hist in enumerate(weighted_hists):\n",
    "    makeplot.plot_hist_edges(edges,hist,None,None,ax=ax,alpha=0.1,color='red')\n",
    "makeplot.plot_hist_edges(edges,nom_hist,None,'Nom',ax=ax\n",
    "        ,color='black',lw=1)\n",
    "makeplot.plot_hist_edges(edges,cv_hist,[upper_hist,lower_hist],'CV',ax=ax,color='blue',lw=2)\n",
    "ax.legend()"
   ]
  },
  {
   "cell_type": "markdown",
   "metadata": {},
   "source": [
    "## 4. Multiple weights"
   ]
  },
  {
   "cell_type": "code",
   "execution_count": 251,
   "metadata": {},
   "outputs": [
    {
     "data": {
      "text/plain": [
       "['pioninexsec_Flux',\n",
       " 'nucleonqexsec_Flux',\n",
       " 'kzero_Flux',\n",
       " 'kplus_Flux',\n",
       " 'piontotxsec_Flux',\n",
       " 'kminus_Flux',\n",
       " 'pionqexsec_Flux',\n",
       " 'piminus_Flux',\n",
       " 'piplus_Flux',\n",
       " 'horncurrent_Flux',\n",
       " 'nucleoninexsec_Flux',\n",
       " 'expskin_Flux',\n",
       " 'nucleontotxsec_Flux']"
      ]
     },
     "execution_count": 251,
     "metadata": {},
     "output_type": "execute_result"
    }
   ],
   "source": [
    "keys = [k[0] for k in nu.data.keys()]\n",
    "#weight_names = [k for k in keys if 'GENIEReWeight' in k]\n",
    "weight_names = [k for k in keys if 'Flux' in k]\n",
    "#get unique weight names\n",
    "weight_names = list(set(weight_names))\n",
    "#get number of universes for each weight\n",
    "weight_lens = [len(nu.data[k].values[0]) for k in weight_names]\n",
    "#assign color for each name\n",
    "colors = plotters.get_colors('viridis',len(weight_names))\n",
    "weight_names\n",
    "#keys"
   ]
  },
  {
   "cell_type": "code",
   "execution_count": 252,
   "metadata": {},
   "outputs": [],
   "source": [
    "cv_hists = [None]*len(weight_names)\n",
    "upper_hists = [None]*len(weight_names)\n",
    "lower_hists = [None]*len(weight_names)\n",
    "weighted_hists = [None]*len(weight_names)\n",
    "for i,weight_name in enumerate(weight_names):\n",
    "    weights = nu.data[weight_name].values.T\n",
    "    edges, nom_hist, cv_hist, upper_hist, lower_hist, weighted_hist = syst.get_weighted_hist(Es,weights,bins)\n",
    "    cv_hists[i] = cv_hist\n",
    "    upper_hists[i] = upper_hist\n",
    "    lower_hists[i] = lower_hist\n",
    "    weighted_hists[i] = weighted_hist\n",
    "    \n",
    "weighted_hists = np.array(weighted_hists)"
   ]
  },
  {
   "cell_type": "code",
   "execution_count": 259,
   "metadata": {},
   "outputs": [],
   "source": [
    "_,cv_hist,upper_hist,lower_hist,weighted_hist = syst.combine_weighted_hists(nu,weight_names,'E',bins)"
   ]
  },
  {
   "cell_type": "code",
   "execution_count": 256,
   "metadata": {},
   "outputs": [
    {
     "data": {
      "text/plain": [
       "(array([0.        , 0.        , 0.        , 0.        , 0.        ,\n",
       "        0.        , 0.01471297, 0.01746579, 0.        ]),\n",
       " array([0.        , 0.        , 0.        , 0.        , 0.        ,\n",
       "        0.        , 0.01410414, 0.017174  , 0.        ]))"
      ]
     },
     "execution_count": 256,
     "metadata": {},
     "output_type": "execute_result"
    }
   ],
   "source": [
    "lower_hist,upper_hist"
   ]
  },
  {
   "cell_type": "code",
   "execution_count": 258,
   "metadata": {},
   "outputs": [
    {
     "data": {
      "text/plain": [
       "<matplotlib.legend.Legend at 0x7f70e5a34820>"
      ]
     },
     "execution_count": 258,
     "metadata": {},
     "output_type": "execute_result"
    },
    {
     "data": {
      "image/png": "[encoded data removed]",
      "text/plain": [
       "<Figure size 576x576 with 1 Axes>"
      ]
     },
     "metadata": {
      "needs_background": "light"
     },
     "output_type": "display_data"
    }
   ],
   "source": [
    "show_all = False\n",
    "fig,ax = plt.subplots(figsize=(8,8))\n",
    "\n",
    "for i,n in enumerate(weight_names):\n",
    "    if i%2 == 0: \n",
    "        ls = '-.'\n",
    "    else:\n",
    "        ls = '-'\n",
    "    _n = n.split(GENIE_ROOT_NAME)[-1]\n",
    "    makeplot.plot_hist_edges(edges,cv_hists[i],[lower_hists[i],upper_hists[i]],_n,ax=ax\n",
    "            ,color=colors[i],lw=1,linestyle=ls)\n",
    "    if show_all:\n",
    "        for j,hist in enumerate(weighted_hists[i]):\n",
    "            makeplot.plot_hist_edges(edges,hist,None,None,ax=ax,alpha=0.05,color=colors[i])\n",
    "makeplot.plot_hist_edges(edges,nom_hist,None,'Nom',ax=ax,color='k',lw=2)\n",
    "makeplot.plot_hist_edges(edges,cv_hist,[lower_hist,upper_hist],ax=ax,color='red',lw=2,label='CV')\n",
    "\n",
    "ax.legend(bbox_to_anchor=(1.05, 1))\n"
   ]
  },
  {
   "cell_type": "markdown",
   "metadata": {},
   "source": [
    "## 5 Combine uncertainties"
   ]
  },
  {
   "cell_type": "code",
   "execution_count": null,
   "metadata": {},
   "outputs": [],
   "source": []
  },
  {
   "cell_type": "markdown",
   "metadata": {},
   "source": [
    "## 5 Combine weights - Failed\n",
    "Can't multiply weights together when some are 0"
   ]
  },
  {
   "cell_type": "code",
   "execution_count": 145,
   "metadata": {},
   "outputs": [],
   "source": [
    "flux_weight_names = list(set([k for k in keys if 'Flux' in k]))\n",
    "genie_weight_names = list(set([k for k in keys if 'GENIE' in k]))"
   ]
  },
  {
   "cell_type": "code",
   "execution_count": 146,
   "metadata": {},
   "outputs": [],
   "source": [
    "#Combine genie weights into single weight\n",
    "genie_weight_name = 'GENIE'\n",
    "flux_weight_name = 'Flux'\n",
    "\n"
   ]
  },
  {
   "cell_type": "code",
   "execution_count": 181,
   "metadata": {},
   "outputs": [],
   "source": [
    "nuu = NU(nu)"
   ]
  },
  {
   "cell_type": "code",
   "execution_count": 182,
   "metadata": {},
   "outputs": [],
   "source": [
    "def combine_weights(caf,weight_names,new_name):\n",
    "    #Set up implementation of new weights\n",
    "    new_names = [f'{new_name}.{k}' for k in caf.data[weight_names[0]].keys()] #get universe names\n",
    "    new_cols = [caf.get_key(k)[0] for k in new_names]\n",
    "   \n",
    "    #Remove keys if already in df\n",
    "    if caf.check_key(new_names[0]): #assume we only need to check one\n",
    "        print('removing cols')\n",
    "        caf.data.drop(columns=new_cols,inplace=True)\n",
    "    \n",
    "    #Check that each weight name has the same number of universes\n",
    "    nuni_check = set([len(caf.data[w].keys()) for w in weight_names]) #collapses to a single value if they're all the same value\n",
    "    assert len(nuni_check) == 1, f\"Each universe must have the same number of weights in weight_names: {weight_names}\"\n",
    "    \n",
    "    #Concatenate weights into single weights for each universe and event\n",
    "    weights = np.array([caf.data[k].values.T for k in weight_names]) #W,N,E\n",
    "    new_weight = np.prod(weights,axis=0) #N,E\n",
    "    \n",
    "    #Check for weights equal to 0\n",
    "    zero_weights = new_weight == 0\n",
    "    if (zero_weights).any():\n",
    "        #Find index where weight is zero\n",
    "        zero_weight_idx = np.array(np.where(zero_weights))\n",
    "        idx_xy = [f'[{arr[0]},{arr[1]}]' for arr in zero_weight_idx.T]\n",
    "        print(f'Warning: Zero weight caused {idx_xy}')\n",
    "    \n",
    "    #Add to data\n",
    "    new_data = pd.DataFrame(new_weight.T, columns=new_cols, index=caf.data.index)\n",
    "    caf.data = pd.concat([caf.data, new_data], axis=1)\n",
    "    \n",
    "    return caf\n",
    "    "
   ]
  },
  {
   "cell_type": "code",
   "execution_count": 183,
   "metadata": {},
   "outputs": [
    {
     "name": "stdout",
     "output_type": "stream",
     "text": [
      "Warning: Zero weight caused ['[52,0]', '[56,0]', '[59,0]', '[95,0]']\n"
     ]
    }
   ],
   "source": [
    "nuu = combine_weights(nuu,genie_weight_names,'genie')\n",
    "nuu = combine_weights(nuu,flux_weight_names,'flux')"
   ]
  },
  {
   "cell_type": "code",
   "execution_count": 184,
   "metadata": {},
   "outputs": [
    {
     "data": {
      "text/html": [
       "<div>\n",
       "<style scoped>\n",
       "    .dataframe tbody tr th:only-of-type {\n",
       "        vertical-align: middle;\n",
       "    }\n",
       "\n",
       "    .dataframe tbody tr th {\n",
       "        vertical-align: top;\n",
       "    }\n",
       "\n",
       "    .dataframe thead th {\n",
       "        text-align: right;\n",
       "    }\n",
       "</style>\n",
       "<table border=\"1\" class=\"dataframe\">\n",
       "  <thead>\n",
       "    <tr style=\"text-align: right;\">\n",
       "      <th></th>\n",
       "      <th></th>\n",
       "      <th>univ_0</th>\n",
       "      <th>univ_1</th>\n",
       "      <th>univ_2</th>\n",
       "      <th>univ_3</th>\n",
       "      <th>univ_4</th>\n",
       "      <th>univ_5</th>\n",
       "      <th>univ_6</th>\n",
       "      <th>univ_7</th>\n",
       "      <th>univ_8</th>\n",
       "      <th>univ_9</th>\n",
       "      <th>...</th>\n",
       "      <th>univ_240</th>\n",
       "      <th>univ_241</th>\n",
       "      <th>univ_242</th>\n",
       "      <th>univ_243</th>\n",
       "      <th>univ_244</th>\n",
       "      <th>univ_245</th>\n",
       "      <th>univ_246</th>\n",
       "      <th>univ_247</th>\n",
       "      <th>univ_248</th>\n",
       "      <th>univ_249</th>\n",
       "    </tr>\n",
       "    <tr>\n",
       "      <th>entry</th>\n",
       "      <th>rec.mc.nu..index</th>\n",
       "      <th></th>\n",
       "      <th></th>\n",
       "      <th></th>\n",
       "      <th></th>\n",
       "      <th></th>\n",
       "      <th></th>\n",
       "      <th></th>\n",
       "      <th></th>\n",
       "      <th></th>\n",
       "      <th></th>\n",
       "      <th></th>\n",
       "      <th></th>\n",
       "      <th></th>\n",
       "      <th></th>\n",
       "      <th></th>\n",
       "      <th></th>\n",
       "      <th></th>\n",
       "      <th></th>\n",
       "      <th></th>\n",
       "      <th></th>\n",
       "      <th></th>\n",
       "    </tr>\n",
       "  </thead>\n",
       "  <tbody>\n",
       "    <tr>\n",
       "      <th rowspan=\"2\" valign=\"top\">0</th>\n",
       "      <th>0</th>\n",
       "      <td>1.355708</td>\n",
       "      <td>1.232246</td>\n",
       "      <td>1.268349</td>\n",
       "      <td>1.328756</td>\n",
       "      <td>1.165569</td>\n",
       "      <td>1.168008</td>\n",
       "      <td>1.106877</td>\n",
       "      <td>1.021251</td>\n",
       "      <td>1.211461</td>\n",
       "      <td>1.167640</td>\n",
       "      <td>...</td>\n",
       "      <td>1.339862</td>\n",
       "      <td>1.096387</td>\n",
       "      <td>1.184719</td>\n",
       "      <td>1.175395</td>\n",
       "      <td>1.285981</td>\n",
       "      <td>1.182930</td>\n",
       "      <td>1.135743</td>\n",
       "      <td>1.192358</td>\n",
       "      <td>1.251545</td>\n",
       "      <td>1.223951</td>\n",
       "    </tr>\n",
       "    <tr>\n",
       "      <th>1</th>\n",
       "      <td>1.201362</td>\n",
       "      <td>1.154138</td>\n",
       "      <td>1.250895</td>\n",
       "      <td>1.356122</td>\n",
       "      <td>1.003615</td>\n",
       "      <td>1.115223</td>\n",
       "      <td>1.177749</td>\n",
       "      <td>1.194482</td>\n",
       "      <td>1.321927</td>\n",
       "      <td>1.246255</td>\n",
       "      <td>...</td>\n",
       "      <td>1.261438</td>\n",
       "      <td>1.258120</td>\n",
       "      <td>1.166875</td>\n",
       "      <td>1.236869</td>\n",
       "      <td>1.306682</td>\n",
       "      <td>1.239908</td>\n",
       "      <td>1.307677</td>\n",
       "      <td>1.279528</td>\n",
       "      <td>1.214245</td>\n",
       "      <td>1.194618</td>\n",
       "    </tr>\n",
       "  </tbody>\n",
       "</table>\n",
       "<p>2 rows × 250 columns</p>\n",
       "</div>"
      ],
      "text/plain": [
       "                          univ_0    univ_1    univ_2    univ_3    univ_4  \\\n",
       "entry rec.mc.nu..index                                                     \n",
       "0     0                 1.355708  1.232246  1.268349  1.328756  1.165569   \n",
       "      1                 1.201362  1.154138  1.250895  1.356122  1.003615   \n",
       "\n",
       "                          univ_5    univ_6    univ_7    univ_8    univ_9  ...  \\\n",
       "entry rec.mc.nu..index                                                    ...   \n",
       "0     0                 1.168008  1.106877  1.021251  1.211461  1.167640  ...   \n",
       "      1                 1.115223  1.177749  1.194482  1.321927  1.246255  ...   \n",
       "\n",
       "                        univ_240  univ_241  univ_242  univ_243  univ_244  \\\n",
       "entry rec.mc.nu..index                                                     \n",
       "0     0                 1.339862  1.096387  1.184719  1.175395  1.285981   \n",
       "      1                 1.261438  1.258120  1.166875  1.236869  1.306682   \n",
       "\n",
       "                        univ_245  univ_246  univ_247  univ_248  univ_249  \n",
       "entry rec.mc.nu..index                                                    \n",
       "0     0                 1.182930  1.135743  1.192358  1.251545  1.223951  \n",
       "      1                 1.239908  1.307677  1.279528  1.214245  1.194618  \n",
       "\n",
       "[2 rows x 250 columns]"
      ]
     },
     "execution_count": 184,
     "metadata": {},
     "output_type": "execute_result"
    }
   ],
   "source": [
    "nuu.data.genie\n",
    "nuu.data.flux"
   ]
  },
  {
   "cell_type": "code",
   "execution_count": null,
   "metadata": {},
   "outputs": [],
   "source": []
  }
 ],
 "metadata": {
  "kernelspec": {
   "display_name": "env",
   "language": "python",
   "name": "python3"
  },
  "language_info": {
   "codemirror_mode": {
    "name": "ipython",
    "version": 3
   },
   "file_extension": ".py",
   "mimetype": "text/x-python",
   "name": "python",
   "nbconvert_exporter": "python",
   "pygments_lexer": "ipython3",
   "version": "3.9.10"
  }
 },
 "nbformat": 4,
 "nbformat_minor": 2
}
