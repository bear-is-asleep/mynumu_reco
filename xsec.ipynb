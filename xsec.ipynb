{
 "cells": [
  {
   "cell_type": "code",
   "execution_count": 36,
   "metadata": {},
   "outputs": [
    {
     "name": "stdout",
     "output_type": "stream",
     "text": [
      "SBND imports: 0.00 s\n",
      "The autoreload extension is already loaded. To reload it, use:\n",
      "  %reload_ext autoreload\n"
     ]
    }
   ],
   "source": [
    "#Boiler plate imports\n",
    "import pandas as pd\n",
    "import sys\n",
    "from time import time\n",
    "import matplotlib.pyplot as plt\n",
    "import numpy as np\n",
    "\n",
    "from tqdm import tqdm\n",
    "\n",
    "#SBND imports\n",
    "s0 = time()\n",
    "sys.path.append('/exp/sbnd/app/users/brindenc/analyze_sbnd/pyana')\n",
    "from sbnd.cafclasses.slice import CAFSlice\n",
    "from sbnd.cafclasses.pfp import PFP\n",
    "from sbnd.xsec import response,xsec\n",
    "\n",
    "#Constants\n",
    "from sbnd.numu.numu_constants import *\n",
    "from sbnd.constants import *\n",
    "from sbnd.flux.prism import PRISM_BINS\n",
    "from sbnd.flux.constants import *\n",
    "\n",
    "#Plotters\n",
    "from sbnd.plotlibrary import makeplot\n",
    "from sbnd.general import plotters\n",
    "\n",
    "s1 = time()\n",
    "print(f'SBND imports: {s1-s0:.2f} s')\n",
    "\n",
    "%load_ext autoreload\n",
    "%autoreload 2"
   ]
  },
  {
   "cell_type": "code",
   "execution_count": 37,
   "metadata": {},
   "outputs": [
    {
     "data": {
      "text/plain": [
       "(5.32188447803213e+31, 9.780976076555024)"
      ]
     },
     "execution_count": 37,
     "metadata": {},
     "output_type": "execute_result"
    }
   ],
   "source": [
    "#NUMU_INTEGRATED_FLUX/=12 #account for POT\n",
    "NUMBER_TARGETS_FV,NUMU_INTEGRATED_FLUX/1e11"
   ]
  },
  {
   "cell_type": "code",
   "execution_count": 38,
   "metadata": {},
   "outputs": [],
   "source": [
    "#Constants/variables\n",
    "CUT_MODE = 'roc'\n",
    "#DATA_DIR  = '/exp/sbnd/data/users/brindenc/analyze_sbnd/numu/v09_78_04_wc_pandora'\n",
    "#DATA_DIR = '/exp/sbnd/data/users/brindenc/ML/test_fcl/debug_trackid/v4'\n",
    "DATA_DIR = '/exp/sbnd/data/users/brindenc/analyze_sbnd/numu/v09_82_02_01_pds_gain'\n",
    "FNAME = f'nom_processed_{CUT_MODE}.df'\n",
    "HDR_FNAME = 'nom.df'\n",
    "#FNAME = f'single_processed_{CUT_MODE}.df'\n",
    "#FNAME = 'single_cut_cosmics_processed.df'\n",
    "#HDR_FNAME = 'single.df'\n",
    "#FNAME = f'all_processed_{CUT_MODE}.df'\n",
    "#FNAME = 'all_processed_roc.df'\n",
    "#HDR_FNAME = 'all.df'\n",
    "#FNAME = 'test_processed.df'\n",
    "#HDR_FNAME = 'test.df'\n",
    "#NOM_POT = 0.6e20 # stats for first run\n",
    "LABEL = 'SBND Work in Progress\\n0.6e20 POT'\n",
    "PLOT_DIR = f'Plots/reco_{plotters.day}_{CUT_MODE}/xsec'\n",
    "SAVE_PLOT = False"
   ]
  },
  {
   "cell_type": "code",
   "execution_count": 39,
   "metadata": {},
   "outputs": [
    {
     "name": "stdout",
     "output_type": "stream",
     "text": [
      "--scaled by 8.05\n",
      "--scaling to POT: 7.45e+18 -> 6.00e+19\n",
      "--scaling to POT: 7.45e+18 -> 6.00e+19\n"
     ]
    }
   ],
   "source": [
    "#Get data and POT\n",
    "pfp = PFP.load(f'{DATA_DIR}/{FNAME}','pfp'\n",
    "               ,prism_bins=PRISM_BINS\n",
    "               ,momentum_bins=MOMENTUM_BINS\n",
    "               ,costheta_bins=COSTHETA_BINS\n",
    "               ,pot=NOM_POT)\n",
    "slc = CAFSlice.load(f'{DATA_DIR}/{FNAME}','slice'\n",
    "                    ,prism_bins=PRISM_BINS\n",
    "                    ,pot=NOM_POT)\n",
    "hdr = pd.read_hdf(f'{DATA_DIR}/{HDR_FNAME}',key='hdr')\n",
    "SAMPLE_POT = hdr.pot.sum()\n",
    "\n",
    "#Scale to nominal POT\n",
    "print(f'--scaled by {NOM_POT/SAMPLE_POT:.2f}')\n",
    "pfp.scale_to_pot(NOM_POT,SAMPLE_POT)\n",
    "slc.scale_to_pot(NOM_POT,SAMPLE_POT)"
   ]
  },
  {
   "cell_type": "code",
   "execution_count": 40,
   "metadata": {},
   "outputs": [
    {
     "data": {
      "text/plain": [
       "(array([0.22224323, 0.66998959, 0.81309471, 0.85877658, 0.92076491]),\n",
       " array([1.        , 0.7206205 , 0.61017594, 0.57319694, 0.49579174]),\n",
       " array([1.        , 0.69438333, 0.69717004, 0.68751007, 0.64453142]))"
      ]
     },
     "execution_count": 40,
     "metadata": {},
     "output_type": "execute_result"
    }
   ],
   "source": [
    "CUTS = ['cosmic','fv','trk','has_muon']\n",
    "pur,eff,f1 = slc.get_pur_eff_f1(['cosmic','fv','trk','has_muon'])\n",
    "pur,eff,f1"
   ]
  },
  {
   "cell_type": "markdown",
   "metadata": {},
   "source": [
    "## 2 Get XSec for bins"
   ]
  },
  {
   "cell_type": "markdown",
   "metadata": {},
   "source": [
    "### 2.1 Set binning"
   ]
  },
  {
   "cell_type": "code",
   "execution_count": 41,
   "metadata": {},
   "outputs": [],
   "source": [
    "#First assign binnings, to get efficiency per bin - use truth value\n",
    "slc.assign_costheta_bins(key='best_muon.costheta',assign_key='best_muon.costheta_bin',costheta_bins=COSTHETA_BINS)\n",
    "slc.assign_costheta_bins(key='best_muon.truth.p.costheta',assign_key='best_muon.truth.costheta_bin',costheta_bins=COSTHETA_BINS)"
   ]
  },
  {
   "cell_type": "code",
   "execution_count": 42,
   "metadata": {},
   "outputs": [],
   "source": [
    "momentum_bins = np.array([0.,0.2,0.3,0.5,0.8,1.3,2.5])\n",
    "slc.assign_momentum_bins(key='best_muon.p',assign_key='best_muon.momentum_bin',momentum_bins=momentum_bins)\n",
    "slc.assign_momentum_bins(key='best_muon.truth.p.genp.tot',assign_key='best_muon.truth.momentum_bin',momentum_bins=momentum_bins)"
   ]
  },
  {
   "cell_type": "markdown",
   "metadata": {},
   "source": [
    "### 2.2 XSec calc"
   ]
  },
  {
   "cell_type": "markdown",
   "metadata": {},
   "source": [
    "$\\frac{d\\sigma}{dx} = \\frac{N_i-B_i}{\\epsilon_i n_t \\Phi dx_i}$"
   ]
  },
  {
   "cell_type": "code",
   "execution_count": 52,
   "metadata": {},
   "outputs": [
    {
     "name": "stdout",
     "output_type": "stream",
     "text": [
      "Applied cut on key: cut.cosmic (201,014 --> 48,050)\n",
      "Applied cut on key: cut.fv (48,050 --> 33,525)\n",
      "Applied cut on key: cut.trk (33,525 --> 29,818)\n",
      "Applied cut on key: cut.has_muon (29,818 --> 24,055)\n"
     ]
    }
   ],
   "source": [
    "slc_cut = slc.copy()\n",
    "for cut in CUTS:\n",
    "    slc_cut.apply_cut(cut)\n",
    "slc_bkg = slc_cut.copy()\n",
    "slc_bkg.data = slc_bkg.data[(slc_bkg.data.truth.event_type != 0).values]"
   ]
  },
  {
   "cell_type": "code",
   "execution_count": null,
   "metadata": {},
   "outputs": [],
   "source": []
  },
  {
   "cell_type": "code",
   "execution_count": 58,
   "metadata": {},
   "outputs": [],
   "source": [
    "#costheta\n",
    "n_i = slc_cut.get_binned_numevents('best_muon.truth.costheta_bin')\n",
    "b_i = slc_bkg.get_binned_numevents('best_muon.truth.costheta_bin')\n",
    "phi = NUMU_INTEGRATED_FLUX\n",
    "nt = NUMBER_TARGETS_FV\n",
    "dxs = np.diff(COSTHETA_BINS)\n"
   ]
  },
  {
   "cell_type": "code",
   "execution_count": 59,
   "metadata": {},
   "outputs": [
    {
     "data": {
      "text/plain": [
       "array([0.5 , 0.5 , 0.27, 0.18, 0.17, 0.14, 0.1 , 0.08, 0.06])"
      ]
     },
     "execution_count": 59,
     "metadata": {},
     "output_type": "execute_result"
    }
   ],
   "source": [
    "dxs"
   ]
  },
  {
   "cell_type": "code",
   "execution_count": 56,
   "metadata": {},
   "outputs": [
    {
     "data": {
      "text/plain": [
       "array([ 6857.1711764 ,  9239.47477759,  9336.05465331, 12120.77440335,\n",
       "       19895.45439913, 26358.25774964, 27710.37600977, 32877.39936104,\n",
       "       33231.52557205])"
      ]
     },
     "execution_count": 56,
     "metadata": {},
     "output_type": "execute_result"
    }
   ],
   "source": [
    "n_i-b_i"
   ]
  },
  {
   "cell_type": "code",
   "execution_count": null,
   "metadata": {},
   "outputs": [],
   "source": [
    "def calc_xsec()"
   ]
  },
  {
   "cell_type": "code",
   "execution_count": null,
   "metadata": {},
   "outputs": [],
   "source": [
    "slc"
   ]
  },
  {
   "cell_type": "code",
   "execution_count": 153,
   "metadata": {},
   "outputs": [
    {
     "name": "stdout",
     "output_type": "stream",
     "text": [
      "xbin (-1.0,-0.5]\n"
     ]
    },
    {
     "name": "stderr",
     "output_type": "stream",
     "text": [
      "5it [00:00,  7.47it/s]\n"
     ]
    },
    {
     "name": "stdout",
     "output_type": "stream",
     "text": [
      "ybin (0.0,0.18]\n",
      "0 [0 0 0 0 0 0 0 0 0 0 0 0 0 0 0 0 0 0 0 0 0 0 0 0 0 0 0 0 0 0 0 0 0 0 0 0 0\n",
      " 0 0 0 0 0 0 0 0 0 0 0 0 0 0 0 0 0 0 0 0 0 0 0 0 0 0 0 0]\n",
      "[0. 1.]\n",
      "0 [0 0 0 0 0 0 0 0 0 0 0 0 0 0 0 0 0 0 0 0 0 0 0 0 0 0 0 0 0 0 0 0 0 0 0 0 0\n",
      " 0 0 0 0 0 0 0 0 0 0 0 0 0 0 0 0 0 0 0 0 0 0 0 0 0 0 0 0]\n",
      "[0. 1.]\n",
      "Applied cut on key: cut.cosmic (65 --> 23)\n",
      "Applied cut on key: cut.fv (23 --> 18)\n",
      "Applied cut on key: cut.trk (18 --> 18)\n",
      "Applied cut on key: cut.has_muon (18 --> 18)\n",
      "0 [0 0 0 0 0 0 0 0 0 0 0 0 0 0 0 0 0 0 0 0 0 0 0 0 0 0 0 0 0 0 0 0 0 0 0 0 0\n",
      " 0 0 0 0 0 0 0 0 0 0 0 0 0 0 0 0 0 0 0 0 0 0 0 0 0 0 0 0]\n",
      "[0. 1.]\n",
      "0 [0 0 0 0 0 0 0 0 0 0 0 0 0 0 0 0 0 0 0 0 0 0 0 0 0 0 0 0 0 0 0 0 0 0 0 0 0\n",
      " 0 0 0 0 0 0 0 0 0 0 0 0 0 0 0 0 0 0 0 0 0 0 0 0 0 0 0 0]\n",
      "[0. 1.]\n"
     ]
    },
    {
     "name": "stderr",
     "output_type": "stream",
     "text": [
      "Calculating responses: 1it [00:00, 5991.86it/s]\n",
      "Calculating responses: 1it [00:00, 8719.97it/s]"
     ]
    },
    {
     "name": "stdout",
     "output_type": "stream",
     "text": [
      "ybin (0.18,0.3]\n"
     ]
    },
    {
     "name": "stderr",
     "output_type": "stream",
     "text": [
      "\n"
     ]
    },
    {
     "name": "stdout",
     "output_type": "stream",
     "text": [
      "0 [0 0 0 ... 0 0 0]\n",
      "[0. 1.]\n",
      "1 [1 1 1 ... 1 1 1]\n",
      "[0. 1. 2.]\n",
      "Applied cut on key: cut.cosmic (1,327 --> 636)\n",
      "Applied cut on key: cut.fv (636 --> 535)\n",
      "Applied cut on key: cut.trk (535 --> 535)\n",
      "Applied cut on key: cut.has_muon (535 --> 535)\n",
      "0 [0 0 0 ... 0 0 0]\n",
      "[0. 1.]\n",
      "1 [1 1 1 ... 1 1 1]\n",
      "[0. 1. 2.]\n"
     ]
    },
    {
     "name": "stderr",
     "output_type": "stream",
     "text": [
      "Calculating responses: 1it [00:00, 4462.03it/s]\n",
      "Calculating responses: 2it [00:00, 9986.44it/s]"
     ]
    },
    {
     "name": "stdout",
     "output_type": "stream",
     "text": [
      "ybin (0.3,0.45]\n"
     ]
    },
    {
     "name": "stderr",
     "output_type": "stream",
     "text": [
      "\n"
     ]
    },
    {
     "name": "stdout",
     "output_type": "stream",
     "text": [
      "0 [0 0 0 ... 0 0 0]\n",
      "[0. 1.]\n",
      "2 [2 2 2 ... 2 2 2]\n",
      "[0. 1. 2. 3.]\n",
      "Applied cut on key: cut.cosmic (1,622 --> 649)\n",
      "Applied cut on key: cut.fv (649 --> 539)\n",
      "Applied cut on key: cut.trk (539 --> 539)\n",
      "Applied cut on key: cut.has_muon (539 --> 539)\n",
      "0 [0 0 0 ... 0 0 0]\n",
      "[0. 1.]\n",
      "2 [2 2 2 ... 2 2 2]\n",
      "[0. 1. 2. 3.]\n"
     ]
    },
    {
     "name": "stderr",
     "output_type": "stream",
     "text": [
      "Calculating responses: 1it [00:00, 4804.47it/s]\n",
      "Calculating responses: 3it [00:00, 15907.60it/s]"
     ]
    },
    {
     "name": "stdout",
     "output_type": "stream",
     "text": [
      "ybin (0.45,0.77]\n"
     ]
    },
    {
     "name": "stderr",
     "output_type": "stream",
     "text": [
      "\n"
     ]
    },
    {
     "name": "stdout",
     "output_type": "stream",
     "text": [
      "0 [0 0 0 ... 0 0 0]\n",
      "[0. 1.]\n",
      "3 [3 3 3 ... 3 3 3]\n",
      "[0. 1. 2. 3. 4.]\n",
      "Applied cut on key: cut.cosmic (1,048 --> 322)\n",
      "Applied cut on key: cut.fv (322 --> 250)\n",
      "Applied cut on key: cut.trk (250 --> 250)\n",
      "Applied cut on key: cut.has_muon (250 --> 250)\n",
      "0 [0 0 0 ... 0 0 0]\n",
      "[0. 1.]\n",
      "3 [3 3 3 ... 3 3 3]\n",
      "[0. 1. 2. 3. 4.]\n"
     ]
    },
    {
     "name": "stderr",
     "output_type": "stream",
     "text": [
      "Calculating responses: 1it [00:00, 5698.78it/s]\n",
      "Calculating responses: 4it [00:00, 18456.78it/s]"
     ]
    },
    {
     "name": "stdout",
     "output_type": "stream",
     "text": [
      "ybin (0.77,2.5]\n"
     ]
    },
    {
     "name": "stderr",
     "output_type": "stream",
     "text": [
      "\n"
     ]
    },
    {
     "name": "stdout",
     "output_type": "stream",
     "text": [
      "0 [0 0 0 0 0 0 0 0 0 0 0 0 0 0 0 0 0 0 0 0 0 0 0 0 0 0 0 0 0 0 0 0 0 0 0 0 0\n",
      " 0 0 0 0 0 0 0 0 0 0 0 0 0 0 0 0 0 0 0 0 0 0 0 0 0 0 0 0 0 0 0 0 0 0 0 0 0\n",
      " 0 0 0 0 0 0 0 0 0 0 0 0 0 0 0 0 0 0 0 0 0 0 0 0 0 0 0 0 0 0 0 0 0 0 0 0 0\n",
      " 0 0 0 0 0 0 0 0 0 0 0 0 0 0 0 0 0 0 0 0 0 0 0 0 0 0 0 0 0 0 0 0 0 0 0 0 0\n",
      " 0 0 0 0 0 0 0 0 0 0 0 0 0 0 0 0 0 0 0 0 0 0 0 0 0 0 0 0 0 0 0 0 0 0 0 0 0\n",
      " 0 0 0 0 0 0 0 0 0 0 0 0 0 0 0 0 0 0 0 0 0 0 0 0 0 0 0 0 0 0 0 0 0 0 0 0 0\n",
      " 0 0 0 0 0 0 0 0 0 0 0 0 0 0 0 0 0 0 0 0 0 0 0 0 0 0 0 0 0 0 0 0 0 0 0 0 0\n",
      " 0 0 0 0 0 0 0 0 0 0 0 0 0 0 0 0 0 0 0 0 0 0 0 0 0 0 0 0 0 0 0 0 0 0 0 0 0\n",
      " 0 0 0 0 0 0 0 0 0 0 0 0 0 0 0 0 0 0 0 0 0 0 0 0 0 0 0 0 0 0 0 0 0 0 0 0 0\n",
      " 0 0 0 0 0 0 0 0 0 0 0 0 0 0 0 0 0 0 0 0 0 0 0 0 0 0 0 0 0 0 0 0 0 0 0 0 0\n",
      " 0 0 0 0 0 0 0 0 0 0 0 0 0 0 0 0 0 0 0 0 0 0 0 0 0 0 0 0 0 0 0 0 0 0 0 0 0\n",
      " 0 0 0 0 0 0 0 0 0 0 0 0 0 0 0 0 0 0 0 0 0 0 0 0 0 0 0 0 0 0 0 0 0 0 0 0 0\n",
      " 0 0 0 0 0 0 0 0 0 0 0 0 0 0 0 0 0 0 0 0 0 0 0 0 0 0 0 0 0 0 0 0 0 0 0 0 0\n",
      " 0 0 0 0 0 0 0 0 0 0 0 0 0 0 0 0 0 0 0 0 0 0 0 0 0 0 0 0 0 0 0 0 0 0 0 0 0\n",
      " 0 0 0 0 0 0 0 0 0 0 0 0 0 0 0 0 0 0 0 0 0 0 0 0 0 0 0 0 0 0 0 0 0 0 0 0 0\n",
      " 0 0 0 0 0 0 0 0 0 0 0 0 0 0 0 0 0 0 0 0 0 0 0 0 0 0 0 0 0 0 0 0 0 0 0 0 0\n",
      " 0 0 0 0 0 0 0 0 0 0 0 0 0 0 0 0 0 0 0 0 0 0 0 0 0 0 0 0 0 0 0 0 0 0 0 0 0\n",
      " 0 0 0 0 0 0 0 0 0 0 0 0 0 0 0 0 0 0 0 0 0 0 0 0 0 0 0 0 0 0 0 0 0 0 0 0 0\n",
      " 0 0 0 0 0 0 0 0 0 0 0 0 0 0 0 0 0 0 0 0 0 0 0 0 0 0 0 0 0 0 0 0 0 0 0 0 0\n",
      " 0 0 0 0 0 0 0 0 0 0 0 0 0 0 0 0 0 0 0 0 0 0 0 0 0 0 0 0 0 0 0 0 0 0 0 0 0\n",
      " 0 0 0 0 0 0 0 0 0 0 0 0 0 0 0 0 0 0 0 0 0 0 0 0 0 0 0 0 0 0 0 0 0 0 0 0 0\n",
      " 0 0 0 0 0 0 0 0 0 0 0 0 0 0 0 0 0 0 0 0 0 0 0 0 0 0 0 0 0 0 0 0 0 0 0]\n",
      "[0. 1.]\n",
      "4 [4 4 4 4 4 4 4 4 4 4 4 4 4 4 4 4 4 4 4 4 4 4 4 4 4 4 4 4 4 4 4 4 4 4 4 4 4\n",
      " 4 4 4 4 4 4 4 4 4 4 4 4 4 4 4 4 4 4 4 4 4 4 4 4 4 4 4 4 4 4 4 4 4 4 4 4 4\n",
      " 4 4 4 4 4 4 4 4 4 4 4 4 4 4 4 4 4 4 4 4 4 4 4 4 4 4 4 4 4 4 4 4 4 4 4 4 4\n",
      " 4 4 4 4 4 4 4 4 4 4 4 4 4 4 4 4 4 4 4 4 4 4 4 4 4 4 4 4 4 4 4 4 4 4 4 4 4\n",
      " 4 4 4 4 4 4 4 4 4 4 4 4 4 4 4 4 4 4 4 4 4 4 4 4 4 4 4 4 4 4 4 4 4 4 4 4 4\n",
      " 4 4 4 4 4 4 4 4 4 4 4 4 4 4 4 4 4 4 4 4 4 4 4 4 4 4 4 4 4 4 4 4 4 4 4 4 4\n",
      " 4 4 4 4 4 4 4 4 4 4 4 4 4 4 4 4 4 4 4 4 4 4 4 4 4 4 4 4 4 4 4 4 4 4 4 4 4\n",
      " 4 4 4 4 4 4 4 4 4 4 4 4 4 4 4 4 4 4 4 4 4 4 4 4 4 4 4 4 4 4 4 4 4 4 4 4 4\n",
      " 4 4 4 4 4 4 4 4 4 4 4 4 4 4 4 4 4 4 4 4 4 4 4 4 4 4 4 4 4 4 4 4 4 4 4 4 4\n",
      " 4 4 4 4 4 4 4 4 4 4 4 4 4 4 4 4 4 4 4 4 4 4 4 4 4 4 4 4 4 4 4 4 4 4 4 4 4\n",
      " 4 4 4 4 4 4 4 4 4 4 4 4 4 4 4 4 4 4 4 4 4 4 4 4 4 4 4 4 4 4 4 4 4 4 4 4 4\n",
      " 4 4 4 4 4 4 4 4 4 4 4 4 4 4 4 4 4 4 4 4 4 4 4 4 4 4 4 4 4 4 4 4 4 4 4 4 4\n",
      " 4 4 4 4 4 4 4 4 4 4 4 4 4 4 4 4 4 4 4 4 4 4 4 4 4 4 4 4 4 4 4 4 4 4 4 4 4\n",
      " 4 4 4 4 4 4 4 4 4 4 4 4 4 4 4 4 4 4 4 4 4 4 4 4 4 4 4 4 4 4 4 4 4 4 4 4 4\n",
      " 4 4 4 4 4 4 4 4 4 4 4 4 4 4 4 4 4 4 4 4 4 4 4 4 4 4 4 4 4 4 4 4 4 4 4 4 4\n",
      " 4 4 4 4 4 4 4 4 4 4 4 4 4 4 4 4 4 4 4 4 4 4 4 4 4 4 4 4 4 4 4 4 4 4 4 4 4\n",
      " 4 4 4 4 4 4 4 4 4 4 4 4 4 4 4 4 4 4 4 4 4 4 4 4 4 4 4 4 4 4 4 4 4 4 4 4 4\n",
      " 4 4 4 4 4 4 4 4 4 4 4 4 4 4 4 4 4 4 4 4 4 4 4 4 4 4 4 4 4 4 4 4 4 4 4 4 4\n",
      " 4 4 4 4 4 4 4 4 4 4 4 4 4 4 4 4 4 4 4 4 4 4 4 4 4 4 4 4 4 4 4 4 4 4 4 4 4\n",
      " 4 4 4 4 4 4 4 4 4 4 4 4 4 4 4 4 4 4 4 4 4 4 4 4 4 4 4 4 4 4 4 4 4 4 4 4 4\n",
      " 4 4 4 4 4 4 4 4 4 4 4 4 4 4 4 4 4 4 4 4 4 4 4 4 4 4 4 4 4 4 4 4 4 4 4 4 4\n",
      " 4 4 4 4 4 4 4 4 4 4 4 4 4 4 4 4 4 4 4 4 4 4 4 4 4 4 4 4 4 4 4 4 4 4 4]\n",
      "[0. 1. 2. 3. 4. 5.]\n",
      "Applied cut on key: cut.cosmic (812 --> 220)\n",
      "Applied cut on key: cut.fv (220 --> 150)\n",
      "Applied cut on key: cut.trk (150 --> 150)\n",
      "Applied cut on key: cut.has_muon (150 --> 150)\n",
      "0 [0 0 0 0 0 0 0 0 0 0 0 0 0 0 0 0 0 0 0 0 0 0 0 0 0 0 0 0 0 0 0 0 0 0 0 0 0\n",
      " 0 0 0 0 0 0 0 0 0 0 0 0 0 0 0 0 0 0 0 0 0 0 0 0 0 0 0 0 0 0 0 0 0 0 0 0 0\n",
      " 0 0 0 0 0 0 0 0 0 0 0 0 0 0 0 0 0 0 0 0 0 0 0 0 0 0 0 0 0 0 0 0 0 0 0 0 0\n",
      " 0 0 0 0 0 0 0 0 0 0 0 0 0 0 0 0 0 0 0 0 0 0 0 0 0 0 0 0 0 0 0 0 0 0 0 0 0\n",
      " 0 0 0 0 0 0 0 0 0 0 0 0 0 0 0 0 0 0 0 0 0 0 0 0 0 0 0 0 0 0 0 0 0 0 0 0 0\n",
      " 0 0 0 0 0 0 0 0 0 0 0 0 0 0 0 0 0 0 0 0 0 0 0 0 0 0 0 0 0 0 0 0 0 0 0 0 0\n",
      " 0 0 0 0 0 0 0 0 0 0 0 0 0 0 0 0 0 0 0 0 0 0 0 0 0 0 0 0 0 0 0 0 0 0 0 0 0\n",
      " 0 0 0 0 0 0 0 0 0 0 0 0 0 0 0 0 0 0 0 0 0 0 0 0 0 0 0 0 0 0 0 0 0 0 0 0 0\n",
      " 0 0 0 0 0 0 0 0 0 0 0 0 0 0 0 0 0 0 0 0 0 0 0 0 0 0 0 0 0 0 0 0 0 0 0 0 0\n",
      " 0 0 0 0 0 0 0 0 0 0 0 0 0 0 0 0 0 0 0 0 0 0 0 0 0 0 0 0 0 0 0 0 0 0 0 0 0\n",
      " 0 0 0 0 0 0 0 0 0 0 0 0 0 0 0 0 0 0 0 0 0 0 0 0 0 0 0 0 0 0 0 0 0 0 0 0 0\n",
      " 0 0 0 0 0 0 0 0 0 0 0 0 0 0 0 0 0 0 0 0 0 0 0 0 0 0 0 0 0 0 0 0 0 0 0 0 0\n",
      " 0 0 0 0 0 0 0 0 0 0 0 0 0 0 0 0 0 0 0 0 0 0 0 0 0 0 0 0 0 0 0 0 0 0 0 0 0\n",
      " 0 0 0 0 0 0 0 0 0 0 0 0 0 0 0 0 0 0 0 0 0 0 0 0 0 0 0 0 0 0 0 0 0 0 0 0 0\n",
      " 0 0 0 0 0 0 0 0 0 0 0 0 0 0 0 0 0 0 0 0 0 0 0 0 0 0 0 0 0 0 0 0 0 0 0 0 0\n",
      " 0 0 0 0 0 0 0 0 0 0 0 0 0 0 0 0 0 0 0 0 0 0 0 0 0 0 0 0 0 0 0 0 0 0 0 0 0\n",
      " 0 0 0 0 0 0 0 0 0 0 0 0 0 0 0 0 0 0 0 0 0 0 0 0 0 0 0 0 0 0 0 0 0 0 0 0 0\n",
      " 0 0 0 0 0 0 0 0 0 0 0 0 0 0 0 0 0 0 0 0 0 0 0 0 0 0 0 0 0 0 0 0 0 0 0 0 0\n",
      " 0 0 0 0 0 0 0 0 0 0 0 0 0 0 0 0 0 0 0 0 0 0 0 0 0 0 0 0 0 0 0 0 0 0 0 0 0\n",
      " 0 0 0 0 0 0 0 0 0 0 0 0 0 0 0 0 0 0 0 0 0 0 0 0 0 0 0 0 0 0 0 0 0 0 0 0 0\n",
      " 0 0 0 0 0 0 0 0 0 0 0 0 0 0 0 0 0 0 0 0 0 0 0 0 0 0 0 0 0 0 0 0 0 0 0 0 0\n",
      " 0 0 0 0 0 0 0 0 0 0 0 0 0 0 0 0 0 0 0 0 0 0 0 0 0 0 0 0 0 0 0 0 0 0 0]\n",
      "[0. 1.]\n",
      "4 [4 4 4 4 4 4 4 4 4 4 4 4 4 4 4 4 4 4 4 4 4 4 4 4 4 4 4 4 4 4 4 4 4 4 4 4 4\n",
      " 4 4 4 4 4 4 4 4 4 4 4 4 4 4 4 4 4 4 4 4 4 4 4 4 4 4 4 4 4 4 4 4 4 4 4 4 4\n",
      " 4 4 4 4 4 4 4 4 4 4 4 4 4 4 4 4 4 4 4 4 4 4 4 4 4 4 4 4 4 4 4 4 4 4 4 4 4\n",
      " 4 4 4 4 4 4 4 4 4 4 4 4 4 4 4 4 4 4 4 4 4 4 4 4 4 4 4 4 4 4 4 4 4 4 4 4 4\n",
      " 4 4 4 4 4 4 4 4 4 4 4 4 4 4 4 4 4 4 4 4 4 4 4 4 4 4 4 4 4 4 4 4 4 4 4 4 4\n",
      " 4 4 4 4 4 4 4 4 4 4 4 4 4 4 4 4 4 4 4 4 4 4 4 4 4 4 4 4 4 4 4 4 4 4 4 4 4\n",
      " 4 4 4 4 4 4 4 4 4 4 4 4 4 4 4 4 4 4 4 4 4 4 4 4 4 4 4 4 4 4 4 4 4 4 4 4 4\n",
      " 4 4 4 4 4 4 4 4 4 4 4 4 4 4 4 4 4 4 4 4 4 4 4 4 4 4 4 4 4 4 4 4 4 4 4 4 4\n",
      " 4 4 4 4 4 4 4 4 4 4 4 4 4 4 4 4 4 4 4 4 4 4 4 4 4 4 4 4 4 4 4 4 4 4 4 4 4\n",
      " 4 4 4 4 4 4 4 4 4 4 4 4 4 4 4 4 4 4 4 4 4 4 4 4 4 4 4 4 4 4 4 4 4 4 4 4 4\n",
      " 4 4 4 4 4 4 4 4 4 4 4 4 4 4 4 4 4 4 4 4 4 4 4 4 4 4 4 4 4 4 4 4 4 4 4 4 4\n",
      " 4 4 4 4 4 4 4 4 4 4 4 4 4 4 4 4 4 4 4 4 4 4 4 4 4 4 4 4 4 4 4 4 4 4 4 4 4\n",
      " 4 4 4 4 4 4 4 4 4 4 4 4 4 4 4 4 4 4 4 4 4 4 4 4 4 4 4 4 4 4 4 4 4 4 4 4 4\n",
      " 4 4 4 4 4 4 4 4 4 4 4 4 4 4 4 4 4 4 4 4 4 4 4 4 4 4 4 4 4 4 4 4 4 4 4 4 4\n",
      " 4 4 4 4 4 4 4 4 4 4 4 4 4 4 4 4 4 4 4 4 4 4 4 4 4 4 4 4 4 4 4 4 4 4 4 4 4\n",
      " 4 4 4 4 4 4 4 4 4 4 4 4 4 4 4 4 4 4 4 4 4 4 4 4 4 4 4 4 4 4 4 4 4 4 4 4 4\n",
      " 4 4 4 4 4 4 4 4 4 4 4 4 4 4 4 4 4 4 4 4 4 4 4 4 4 4 4 4 4 4 4 4 4 4 4 4 4\n",
      " 4 4 4 4 4 4 4 4 4 4 4 4 4 4 4 4 4 4 4 4 4 4 4 4 4 4 4 4 4 4 4 4 4 4 4 4 4\n",
      " 4 4 4 4 4 4 4 4 4 4 4 4 4 4 4 4 4 4 4 4 4 4 4 4 4 4 4 4 4 4 4 4 4 4 4 4 4\n",
      " 4 4 4 4 4 4 4 4 4 4 4 4 4 4 4 4 4 4 4 4 4 4 4 4 4 4 4 4 4 4 4 4 4 4 4 4 4\n",
      " 4 4 4 4 4 4 4 4 4 4 4 4 4 4 4 4 4 4 4 4 4 4 4 4 4 4 4 4 4 4 4 4 4 4 4 4 4\n",
      " 4 4 4 4 4 4 4 4 4 4 4 4 4 4 4 4 4 4 4 4 4 4 4 4 4 4 4 4 4 4 4 4 4 4 4]\n",
      "[0. 1. 2. 3. 4. 5.]\n"
     ]
    },
    {
     "name": "stderr",
     "output_type": "stream",
     "text": [
      "Calculating responses: 1it [00:00, 5005.14it/s]\n",
      "Calculating responses: 5it [00:00, 21290.88it/s]"
     ]
    },
    {
     "name": "stdout",
     "output_type": "stream",
     "text": [
      "xbin (-0.5,0.0]\n"
     ]
    },
    {
     "name": "stderr",
     "output_type": "stream",
     "text": [
      "\n",
      "5it [00:00,  6.00it/s]\n"
     ]
    },
    {
     "name": "stdout",
     "output_type": "stream",
     "text": [
      "ybin (0.0,0.18]\n",
      "1 [1 1 1 1 1 1 1 1 1 1 1 1 1 1 1 1 1 1 1 1 1 1 1 1 1 1 1 1 1 1 1 1 1 1 1 1 1\n",
      " 1 1 1 1 1 1 1 1 1 1 1 1 1 1 1 1 1 1 1 1 1 1 1]\n",
      "[0. 1. 2.]\n",
      "0 [0 0 0 0 0 0 0 0 0 0 0 0 0 0 0 0 0 0 0 0 0 0 0 0 0 0 0 0 0 0 0 0 0 0 0 0 0\n",
      " 0 0 0 0 0 0 0 0 0 0 0 0 0 0 0 0 0 0 0 0 0 0 0]\n",
      "[0. 1.]\n",
      "Applied cut on key: cut.cosmic (60 --> 14)\n",
      "Applied cut on key: cut.fv (14 --> 12)\n",
      "Applied cut on key: cut.trk (12 --> 12)\n",
      "Applied cut on key: cut.has_muon (12 --> 12)\n",
      "1 [1 1 1 1 1 1 1 1 1 1 1 1 1 1 1 1 1 1 1 1 1 1 1 1 1 1 1 1 1 1 1 1 1 1 1 1 1\n",
      " 1 1 1 1 1 1 1 1 1 1 1 1 1 1 1 1 1 1 1 1 1 1 1]\n",
      "[0. 1. 2.]\n",
      "0 [0 0 0 0 0 0 0 0 0 0 0 0 0 0 0 0 0 0 0 0 0 0 0 0 0 0 0 0 0 0 0 0 0 0 0 0 0\n",
      " 0 0 0 0 0 0 0 0 0 0 0 0 0 0 0 0 0 0 0 0 0 0 0]\n",
      "[0. 1.]\n"
     ]
    },
    {
     "name": "stderr",
     "output_type": "stream",
     "text": [
      "Calculating responses: 2it [00:00, 11538.66it/s]\n",
      "Calculating responses: 1it [00:00, 8371.86it/s]"
     ]
    },
    {
     "name": "stdout",
     "output_type": "stream",
     "text": [
      "ybin (0.18,0.3]\n"
     ]
    },
    {
     "name": "stderr",
     "output_type": "stream",
     "text": [
      "\n"
     ]
    },
    {
     "name": "stdout",
     "output_type": "stream",
     "text": [
      "1 [1 1 1 ... 1 1 1]\n",
      "[0. 1. 2.]\n",
      "1 [1 1 1 ... 1 1 1]\n",
      "[0. 1. 2.]\n",
      "Applied cut on key: cut.cosmic (1,728 --> 422)\n",
      "Applied cut on key: cut.fv (422 --> 348)\n",
      "Applied cut on key: cut.trk (348 --> 348)\n",
      "Applied cut on key: cut.has_muon (348 --> 348)\n",
      "1 [1 1 1 ... 1 1 1]\n",
      "[0. 1. 2.]\n",
      "1 [1 1 1 ... 1 1 1]\n",
      "[0. 1. 2.]\n"
     ]
    },
    {
     "name": "stderr",
     "output_type": "stream",
     "text": [
      "Calculating responses: 2it [00:00, 16677.15it/s]\n",
      "Calculating responses: 2it [00:00, 13231.24it/s]"
     ]
    },
    {
     "name": "stdout",
     "output_type": "stream",
     "text": [
      "ybin (0.3,0.45]\n"
     ]
    },
    {
     "name": "stderr",
     "output_type": "stream",
     "text": [
      "\n"
     ]
    },
    {
     "name": "stdout",
     "output_type": "stream",
     "text": [
      "1 [1 1 1 ... 1 1 1]\n",
      "[0. 1. 2.]\n",
      "2 [2 2 2 ... 2 2 2]\n",
      "[0. 1. 2. 3.]\n",
      "Applied cut on key: cut.cosmic (2,997 --> 727)\n",
      "Applied cut on key: cut.fv (727 --> 624)\n",
      "Applied cut on key: cut.trk (624 --> 624)\n",
      "Applied cut on key: cut.has_muon (624 --> 624)\n",
      "1 [1 1 1 ... 1 1 1]\n",
      "[0. 1. 2.]\n",
      "2 [2 2 2 ... 2 2 2]\n",
      "[0. 1. 2. 3.]\n"
     ]
    },
    {
     "name": "stderr",
     "output_type": "stream",
     "text": [
      "Calculating responses: 2it [00:00, 17586.18it/s]\n",
      "Calculating responses: 3it [00:00, 29537.35it/s]"
     ]
    },
    {
     "name": "stdout",
     "output_type": "stream",
     "text": [
      "ybin (0.45,0.77]\n"
     ]
    },
    {
     "name": "stderr",
     "output_type": "stream",
     "text": [
      "\n"
     ]
    },
    {
     "name": "stdout",
     "output_type": "stream",
     "text": [
      "1 [1 1 1 ... 1 1 1]\n",
      "[0. 1. 2.]\n",
      "3 [3 3 3 ... 3 3 3]\n",
      "[0. 1. 2. 3. 4.]\n",
      "Applied cut on key: cut.cosmic (2,053 --> 176)\n",
      "Applied cut on key: cut.fv (176 --> 151)\n",
      "Applied cut on key: cut.trk (151 --> 151)\n",
      "Applied cut on key: cut.has_muon (151 --> 151)\n",
      "1 [1 1 1 ... 1 1 1]\n",
      "[0. 1. 2.]\n",
      "3 [3 3 3 ... 3 3 3]\n",
      "[0. 1. 2. 3. 4.]\n"
     ]
    },
    {
     "name": "stderr",
     "output_type": "stream",
     "text": [
      "Calculating responses: 2it [00:00, 17084.74it/s]\n",
      "Calculating responses: 4it [00:00, 32704.12it/s]"
     ]
    },
    {
     "name": "stdout",
     "output_type": "stream",
     "text": [
      "ybin (0.77,2.5]\n"
     ]
    },
    {
     "name": "stderr",
     "output_type": "stream",
     "text": [
      "\n"
     ]
    },
    {
     "name": "stdout",
     "output_type": "stream",
     "text": [
      "1 [1 1 1 1 1 1 1 1 1 1 1 1 1 1 1 1 1 1 1 1 1 1 1 1 1 1 1 1 1 1 1 1 1 1 1 1 1\n",
      " 1 1 1 1 1 1 1 1 1 1 1 1 1 1 1 1 1 1 1 1 1 1 1 1 1 1 1 1 1 1 1 1 1 1 1 1 1\n",
      " 1 1 1 1 1 1 1 1 1 1 1 1 1 1 1 1 1 1 1 1 1 1 1 1 1 1 1 1 1 1 1 1 1 1 1 1 1\n",
      " 1 1 1 1 1 1 1 1 1 1 1 1 1 1 1 1 1 1 1 1 1 1 1 1 1 1 1 1 1 1 1 1 1 1 1 1 1\n",
      " 1 1 1 1 1 1 1 1 1 1 1 1 1 1 1 1 1 1 1 1 1 1 1 1 1 1 1 1 1 1 1 1 1 1 1 1 1\n",
      " 1 1 1 1 1 1 1 1 1 1 1 1 1 1 1 1 1 1 1 1 1 1 1 1 1 1 1 1 1 1 1 1 1 1 1 1 1\n",
      " 1 1 1 1 1 1 1 1 1 1 1 1 1 1 1 1 1 1 1 1 1 1 1 1 1 1 1 1 1 1 1 1 1 1 1 1 1\n",
      " 1 1 1 1 1 1 1 1 1 1 1 1 1 1 1 1 1 1 1 1 1 1 1 1 1 1 1 1 1 1 1 1 1 1 1 1 1\n",
      " 1 1 1 1 1 1 1 1 1 1 1 1 1 1 1 1 1 1 1 1 1 1 1 1 1 1 1 1 1 1 1 1 1 1 1 1 1\n",
      " 1 1 1 1 1 1 1 1 1 1 1 1 1 1 1 1 1 1 1 1 1 1 1 1 1 1 1 1 1 1 1 1 1 1 1 1 1\n",
      " 1 1 1 1 1 1 1 1 1 1 1 1 1 1 1 1 1 1 1 1 1 1 1 1 1 1 1 1 1 1 1 1 1 1 1 1 1\n",
      " 1 1 1 1 1 1 1 1 1 1 1 1 1 1 1 1 1 1 1 1 1 1 1 1 1 1 1 1 1 1 1 1 1 1 1 1 1\n",
      " 1 1 1 1 1 1 1 1 1 1 1 1 1 1 1 1 1 1 1 1 1 1 1 1 1 1 1 1 1 1 1 1 1 1 1 1 1\n",
      " 1 1 1 1 1 1 1 1 1 1 1 1 1 1 1 1 1 1 1 1 1 1 1 1 1 1 1 1 1 1 1 1 1 1 1 1 1\n",
      " 1 1 1 1 1 1 1 1 1 1 1 1 1 1 1 1 1 1 1 1 1 1 1 1 1 1 1 1 1 1 1 1 1 1 1 1 1\n",
      " 1 1 1 1 1 1 1 1 1 1 1 1 1 1 1 1 1 1 1 1 1 1 1 1 1 1 1 1 1 1 1 1 1 1 1 1 1\n",
      " 1 1 1 1 1 1 1 1 1 1 1 1 1 1 1 1 1 1 1 1 1 1 1 1 1 1 1 1 1 1 1 1 1 1 1 1 1\n",
      " 1 1 1 1 1 1 1 1 1 1 1 1 1 1 1 1 1 1 1 1 1 1 1 1 1 1 1 1 1 1 1 1 1 1 1 1 1\n",
      " 1 1 1 1 1 1 1 1 1 1 1 1 1 1 1 1 1 1 1 1 1 1 1 1 1 1 1 1 1 1 1 1 1 1 1 1 1\n",
      " 1 1 1 1 1 1 1 1 1 1 1 1 1 1 1 1 1 1 1 1 1 1 1 1 1 1 1 1 1 1 1 1 1 1 1 1 1\n",
      " 1 1 1 1 1 1 1 1 1 1 1 1 1 1 1 1 1 1 1 1 1 1 1 1 1 1 1 1 1 1 1 1 1 1 1 1 1\n",
      " 1 1 1 1 1 1 1 1 1 1 1 1 1 1 1 1 1 1 1 1 1 1 1 1 1 1 1 1 1 1 1 1 1 1 1 1 1\n",
      " 1 1 1 1 1 1 1 1 1 1 1 1 1 1 1 1 1 1 1 1 1 1 1 1 1 1 1 1 1 1 1 1 1 1 1 1 1\n",
      " 1 1 1 1 1 1 1 1 1 1 1 1 1 1 1 1 1 1 1 1 1 1 1 1 1 1 1 1 1 1 1 1 1 1 1 1 1\n",
      " 1 1 1 1 1 1 1 1 1 1 1 1 1 1 1 1 1 1 1 1 1 1 1 1 1 1 1 1 1 1 1 1 1 1 1 1 1\n",
      " 1 1 1 1 1 1 1 1 1 1 1 1 1 1 1]\n",
      "[0. 1. 2.]\n",
      "4 [4 4 4 4 4 4 4 4 4 4 4 4 4 4 4 4 4 4 4 4 4 4 4 4 4 4 4 4 4 4 4 4 4 4 4 4 4\n",
      " 4 4 4 4 4 4 4 4 4 4 4 4 4 4 4 4 4 4 4 4 4 4 4 4 4 4 4 4 4 4 4 4 4 4 4 4 4\n",
      " 4 4 4 4 4 4 4 4 4 4 4 4 4 4 4 4 4 4 4 4 4 4 4 4 4 4 4 4 4 4 4 4 4 4 4 4 4\n",
      " 4 4 4 4 4 4 4 4 4 4 4 4 4 4 4 4 4 4 4 4 4 4 4 4 4 4 4 4 4 4 4 4 4 4 4 4 4\n",
      " 4 4 4 4 4 4 4 4 4 4 4 4 4 4 4 4 4 4 4 4 4 4 4 4 4 4 4 4 4 4 4 4 4 4 4 4 4\n",
      " 4 4 4 4 4 4 4 4 4 4 4 4 4 4 4 4 4 4 4 4 4 4 4 4 4 4 4 4 4 4 4 4 4 4 4 4 4\n",
      " 4 4 4 4 4 4 4 4 4 4 4 4 4 4 4 4 4 4 4 4 4 4 4 4 4 4 4 4 4 4 4 4 4 4 4 4 4\n",
      " 4 4 4 4 4 4 4 4 4 4 4 4 4 4 4 4 4 4 4 4 4 4 4 4 4 4 4 4 4 4 4 4 4 4 4 4 4\n",
      " 4 4 4 4 4 4 4 4 4 4 4 4 4 4 4 4 4 4 4 4 4 4 4 4 4 4 4 4 4 4 4 4 4 4 4 4 4\n",
      " 4 4 4 4 4 4 4 4 4 4 4 4 4 4 4 4 4 4 4 4 4 4 4 4 4 4 4 4 4 4 4 4 4 4 4 4 4\n",
      " 4 4 4 4 4 4 4 4 4 4 4 4 4 4 4 4 4 4 4 4 4 4 4 4 4 4 4 4 4 4 4 4 4 4 4 4 4\n",
      " 4 4 4 4 4 4 4 4 4 4 4 4 4 4 4 4 4 4 4 4 4 4 4 4 4 4 4 4 4 4 4 4 4 4 4 4 4\n",
      " 4 4 4 4 4 4 4 4 4 4 4 4 4 4 4 4 4 4 4 4 4 4 4 4 4 4 4 4 4 4 4 4 4 4 4 4 4\n",
      " 4 4 4 4 4 4 4 4 4 4 4 4 4 4 4 4 4 4 4 4 4 4 4 4 4 4 4 4 4 4 4 4 4 4 4 4 4\n",
      " 4 4 4 4 4 4 4 4 4 4 4 4 4 4 4 4 4 4 4 4 4 4 4 4 4 4 4 4 4 4 4 4 4 4 4 4 4\n",
      " 4 4 4 4 4 4 4 4 4 4 4 4 4 4 4 4 4 4 4 4 4 4 4 4 4 4 4 4 4 4 4 4 4 4 4 4 4\n",
      " 4 4 4 4 4 4 4 4 4 4 4 4 4 4 4 4 4 4 4 4 4 4 4 4 4 4 4 4 4 4 4 4 4 4 4 4 4\n",
      " 4 4 4 4 4 4 4 4 4 4 4 4 4 4 4 4 4 4 4 4 4 4 4 4 4 4 4 4 4 4 4 4 4 4 4 4 4\n",
      " 4 4 4 4 4 4 4 4 4 4 4 4 4 4 4 4 4 4 4 4 4 4 4 4 4 4 4 4 4 4 4 4 4 4 4 4 4\n",
      " 4 4 4 4 4 4 4 4 4 4 4 4 4 4 4 4 4 4 4 4 4 4 4 4 4 4 4 4 4 4 4 4 4 4 4 4 4\n",
      " 4 4 4 4 4 4 4 4 4 4 4 4 4 4 4 4 4 4 4 4 4 4 4 4 4 4 4 4 4 4 4 4 4 4 4 4 4\n",
      " 4 4 4 4 4 4 4 4 4 4 4 4 4 4 4 4 4 4 4 4 4 4 4 4 4 4 4 4 4 4 4 4 4 4 4 4 4\n",
      " 4 4 4 4 4 4 4 4 4 4 4 4 4 4 4 4 4 4 4 4 4 4 4 4 4 4 4 4 4 4 4 4 4 4 4 4 4\n",
      " 4 4 4 4 4 4 4 4 4 4 4 4 4 4 4 4 4 4 4 4 4 4 4 4 4 4 4 4 4 4 4 4 4 4 4 4 4\n",
      " 4 4 4 4 4 4 4 4 4 4 4 4 4 4 4 4 4 4 4 4 4 4 4 4 4 4 4 4 4 4 4 4 4 4 4 4 4\n",
      " 4 4 4 4 4 4 4 4 4 4 4 4 4 4 4]\n",
      "[0. 1. 2. 3. 4. 5.]\n",
      "Applied cut on key: cut.cosmic (940 --> 23)\n",
      "Applied cut on key: cut.fv (23 --> 18)\n",
      "Applied cut on key: cut.trk (18 --> 18)\n",
      "Applied cut on key: cut.has_muon (18 --> 18)\n",
      "1 [1 1 1 1 1 1 1 1 1 1 1 1 1 1 1 1 1 1 1 1 1 1 1 1 1 1 1 1 1 1 1 1 1 1 1 1 1\n",
      " 1 1 1 1 1 1 1 1 1 1 1 1 1 1 1 1 1 1 1 1 1 1 1 1 1 1 1 1 1 1 1 1 1 1 1 1 1\n",
      " 1 1 1 1 1 1 1 1 1 1 1 1 1 1 1 1 1 1 1 1 1 1 1 1 1 1 1 1 1 1 1 1 1 1 1 1 1\n",
      " 1 1 1 1 1 1 1 1 1 1 1 1 1 1 1 1 1 1 1 1 1 1 1 1 1 1 1 1 1 1 1 1 1 1 1 1 1\n",
      " 1 1 1 1 1 1 1 1 1 1 1 1 1 1 1 1 1 1 1 1 1 1 1 1 1 1 1 1 1 1 1 1 1 1 1 1 1\n",
      " 1 1 1 1 1 1 1 1 1 1 1 1 1 1 1 1 1 1 1 1 1 1 1 1 1 1 1 1 1 1 1 1 1 1 1 1 1\n",
      " 1 1 1 1 1 1 1 1 1 1 1 1 1 1 1 1 1 1 1 1 1 1 1 1 1 1 1 1 1 1 1 1 1 1 1 1 1\n",
      " 1 1 1 1 1 1 1 1 1 1 1 1 1 1 1 1 1 1 1 1 1 1 1 1 1 1 1 1 1 1 1 1 1 1 1 1 1\n",
      " 1 1 1 1 1 1 1 1 1 1 1 1 1 1 1 1 1 1 1 1 1 1 1 1 1 1 1 1 1 1 1 1 1 1 1 1 1\n",
      " 1 1 1 1 1 1 1 1 1 1 1 1 1 1 1 1 1 1 1 1 1 1 1 1 1 1 1 1 1 1 1 1 1 1 1 1 1\n",
      " 1 1 1 1 1 1 1 1 1 1 1 1 1 1 1 1 1 1 1 1 1 1 1 1 1 1 1 1 1 1 1 1 1 1 1 1 1\n",
      " 1 1 1 1 1 1 1 1 1 1 1 1 1 1 1 1 1 1 1 1 1 1 1 1 1 1 1 1 1 1 1 1 1 1 1 1 1\n",
      " 1 1 1 1 1 1 1 1 1 1 1 1 1 1 1 1 1 1 1 1 1 1 1 1 1 1 1 1 1 1 1 1 1 1 1 1 1\n",
      " 1 1 1 1 1 1 1 1 1 1 1 1 1 1 1 1 1 1 1 1 1 1 1 1 1 1 1 1 1 1 1 1 1 1 1 1 1\n",
      " 1 1 1 1 1 1 1 1 1 1 1 1 1 1 1 1 1 1 1 1 1 1 1 1 1 1 1 1 1 1 1 1 1 1 1 1 1\n",
      " 1 1 1 1 1 1 1 1 1 1 1 1 1 1 1 1 1 1 1 1 1 1 1 1 1 1 1 1 1 1 1 1 1 1 1 1 1\n",
      " 1 1 1 1 1 1 1 1 1 1 1 1 1 1 1 1 1 1 1 1 1 1 1 1 1 1 1 1 1 1 1 1 1 1 1 1 1\n",
      " 1 1 1 1 1 1 1 1 1 1 1 1 1 1 1 1 1 1 1 1 1 1 1 1 1 1 1 1 1 1 1 1 1 1 1 1 1\n",
      " 1 1 1 1 1 1 1 1 1 1 1 1 1 1 1 1 1 1 1 1 1 1 1 1 1 1 1 1 1 1 1 1 1 1 1 1 1\n",
      " 1 1 1 1 1 1 1 1 1 1 1 1 1 1 1 1 1 1 1 1 1 1 1 1 1 1 1 1 1 1 1 1 1 1 1 1 1\n",
      " 1 1 1 1 1 1 1 1 1 1 1 1 1 1 1 1 1 1 1 1 1 1 1 1 1 1 1 1 1 1 1 1 1 1 1 1 1\n",
      " 1 1 1 1 1 1 1 1 1 1 1 1 1 1 1 1 1 1 1 1 1 1 1 1 1 1 1 1 1 1 1 1 1 1 1 1 1\n",
      " 1 1 1 1 1 1 1 1 1 1 1 1 1 1 1 1 1 1 1 1 1 1 1 1 1 1 1 1 1 1 1 1 1 1 1 1 1\n",
      " 1 1 1 1 1 1 1 1 1 1 1 1 1 1 1 1 1 1 1 1 1 1 1 1 1 1 1 1 1 1 1 1 1 1 1 1 1\n",
      " 1 1 1 1 1 1 1 1 1 1 1 1 1 1 1 1 1 1 1 1 1 1 1 1 1 1 1 1 1 1 1 1 1 1 1 1 1\n",
      " 1 1 1 1 1 1 1 1 1 1 1 1 1 1 1]\n",
      "[0. 1. 2.]\n",
      "4 [4 4 4 4 4 4 4 4 4 4 4 4 4 4 4 4 4 4 4 4 4 4 4 4 4 4 4 4 4 4 4 4 4 4 4 4 4\n",
      " 4 4 4 4 4 4 4 4 4 4 4 4 4 4 4 4 4 4 4 4 4 4 4 4 4 4 4 4 4 4 4 4 4 4 4 4 4\n",
      " 4 4 4 4 4 4 4 4 4 4 4 4 4 4 4 4 4 4 4 4 4 4 4 4 4 4 4 4 4 4 4 4 4 4 4 4 4\n",
      " 4 4 4 4 4 4 4 4 4 4 4 4 4 4 4 4 4 4 4 4 4 4 4 4 4 4 4 4 4 4 4 4 4 4 4 4 4\n",
      " 4 4 4 4 4 4 4 4 4 4 4 4 4 4 4 4 4 4 4 4 4 4 4 4 4 4 4 4 4 4 4 4 4 4 4 4 4\n",
      " 4 4 4 4 4 4 4 4 4 4 4 4 4 4 4 4 4 4 4 4 4 4 4 4 4 4 4 4 4 4 4 4 4 4 4 4 4\n",
      " 4 4 4 4 4 4 4 4 4 4 4 4 4 4 4 4 4 4 4 4 4 4 4 4 4 4 4 4 4 4 4 4 4 4 4 4 4\n",
      " 4 4 4 4 4 4 4 4 4 4 4 4 4 4 4 4 4 4 4 4 4 4 4 4 4 4 4 4 4 4 4 4 4 4 4 4 4\n",
      " 4 4 4 4 4 4 4 4 4 4 4 4 4 4 4 4 4 4 4 4 4 4 4 4 4 4 4 4 4 4 4 4 4 4 4 4 4\n",
      " 4 4 4 4 4 4 4 4 4 4 4 4 4 4 4 4 4 4 4 4 4 4 4 4 4 4 4 4 4 4 4 4 4 4 4 4 4\n",
      " 4 4 4 4 4 4 4 4 4 4 4 4 4 4 4 4 4 4 4 4 4 4 4 4 4 4 4 4 4 4 4 4 4 4 4 4 4\n",
      " 4 4 4 4 4 4 4 4 4 4 4 4 4 4 4 4 4 4 4 4 4 4 4 4 4 4 4 4 4 4 4 4 4 4 4 4 4\n",
      " 4 4 4 4 4 4 4 4 4 4 4 4 4 4 4 4 4 4 4 4 4 4 4 4 4 4 4 4 4 4 4 4 4 4 4 4 4\n",
      " 4 4 4 4 4 4 4 4 4 4 4 4 4 4 4 4 4 4 4 4 4 4 4 4 4 4 4 4 4 4 4 4 4 4 4 4 4\n",
      " 4 4 4 4 4 4 4 4 4 4 4 4 4 4 4 4 4 4 4 4 4 4 4 4 4 4 4 4 4 4 4 4 4 4 4 4 4\n",
      " 4 4 4 4 4 4 4 4 4 4 4 4 4 4 4 4 4 4 4 4 4 4 4 4 4 4 4 4 4 4 4 4 4 4 4 4 4\n",
      " 4 4 4 4 4 4 4 4 4 4 4 4 4 4 4 4 4 4 4 4 4 4 4 4 4 4 4 4 4 4 4 4 4 4 4 4 4\n",
      " 4 4 4 4 4 4 4 4 4 4 4 4 4 4 4 4 4 4 4 4 4 4 4 4 4 4 4 4 4 4 4 4 4 4 4 4 4\n",
      " 4 4 4 4 4 4 4 4 4 4 4 4 4 4 4 4 4 4 4 4 4 4 4 4 4 4 4 4 4 4 4 4 4 4 4 4 4\n",
      " 4 4 4 4 4 4 4 4 4 4 4 4 4 4 4 4 4 4 4 4 4 4 4 4 4 4 4 4 4 4 4 4 4 4 4 4 4\n",
      " 4 4 4 4 4 4 4 4 4 4 4 4 4 4 4 4 4 4 4 4 4 4 4 4 4 4 4 4 4 4 4 4 4 4 4 4 4\n",
      " 4 4 4 4 4 4 4 4 4 4 4 4 4 4 4 4 4 4 4 4 4 4 4 4 4 4 4 4 4 4 4 4 4 4 4 4 4\n",
      " 4 4 4 4 4 4 4 4 4 4 4 4 4 4 4 4 4 4 4 4 4 4 4 4 4 4 4 4 4 4 4 4 4 4 4 4 4\n",
      " 4 4 4 4 4 4 4 4 4 4 4 4 4 4 4 4 4 4 4 4 4 4 4 4 4 4 4 4 4 4 4 4 4 4 4 4 4\n",
      " 4 4 4 4 4 4 4 4 4 4 4 4 4 4 4 4 4 4 4 4 4 4 4 4 4 4 4 4 4 4 4 4 4 4 4 4 4\n",
      " 4 4 4 4 4 4 4 4 4 4 4 4 4 4 4]\n",
      "[0. 1. 2. 3. 4. 5.]\n"
     ]
    },
    {
     "name": "stderr",
     "output_type": "stream",
     "text": [
      "Calculating responses: 2it [00:00, 14027.77it/s]\n",
      "Calculating responses: 5it [00:00, 39125.97it/s]"
     ]
    },
    {
     "name": "stdout",
     "output_type": "stream",
     "text": [
      "xbin (0.0,0.27]\n"
     ]
    },
    {
     "name": "stderr",
     "output_type": "stream",
     "text": [
      "\n",
      "5it [00:02,  1.74it/s]\n"
     ]
    },
    {
     "name": "stdout",
     "output_type": "stream",
     "text": [
      "ybin (0.0,0.18]\n",
      "2 [2 2 2 2 2 2 2 2 2 2 2 2 2 2 2 2 2 2 2 2 2 2 2 2 2 2 2 2 2 2 2 2 2 2 2 2 2\n",
      " 2 2 2 2 2 2 2 2 2 2 2 2 2 2 2 2 2 2 2 2 2]\n",
      "[0. 1. 2. 3.]\n",
      "0 [0 0 0 0 0 0 0 0 0 0 0 0 0 0 0 0 0 0 0 0 0 0 0 0 0 0 0 0 0 0 0 0 0 0 0 0 0\n",
      " 0 0 0 0 0 0 0 0 0 0 0 0 0 0 0 0 0 0 0 0 0]\n",
      "[0. 1.]\n",
      "Applied cut on key: cut.cosmic (58 --> 10)\n",
      "Applied cut on key: cut.fv (10 --> 9)\n",
      "Applied cut on key: cut.trk (9 --> 9)\n",
      "Applied cut on key: cut.has_muon (9 --> 9)\n",
      "2 [2 2 2 2 2 2 2 2 2 2 2 2 2 2 2 2 2 2 2 2 2 2 2 2 2 2 2 2 2 2 2 2 2 2 2 2 2\n",
      " 2 2 2 2 2 2 2 2 2 2 2 2 2 2 2 2 2 2 2 2 2]\n",
      "[0. 1. 2. 3.]\n",
      "0 [0 0 0 0 0 0 0 0 0 0 0 0 0 0 0 0 0 0 0 0 0 0 0 0 0 0 0 0 0 0 0 0 0 0 0 0 0\n",
      " 0 0 0 0 0 0 0 0 0 0 0 0 0 0 0 0 0 0 0 0 0]\n",
      "[0. 1.]\n"
     ]
    },
    {
     "name": "stderr",
     "output_type": "stream",
     "text": [
      "Calculating responses: 3it [00:00, 17722.41it/s]\n",
      "Calculating responses: 1it [00:00, 6615.62it/s]"
     ]
    },
    {
     "name": "stdout",
     "output_type": "stream",
     "text": [
      "ybin (0.18,0.3]\n"
     ]
    },
    {
     "name": "stderr",
     "output_type": "stream",
     "text": [
      "\n"
     ]
    },
    {
     "name": "stdout",
     "output_type": "stream",
     "text": [
      "2 [2 2 2 ... 2 2 2]\n",
      "[0. 1. 2. 3.]\n",
      "1 [1 1 1 ... 1 1 1]\n",
      "[0. 1. 2.]\n",
      "Applied cut on key: cut.cosmic (1,801 --> 311)\n",
      "Applied cut on key: cut.fv (311 --> 241)\n",
      "Applied cut on key: cut.trk (241 --> 241)\n",
      "Applied cut on key: cut.has_muon (241 --> 241)\n",
      "2 [2 2 2 ... 2 2 2]\n",
      "[0. 1. 2. 3.]\n",
      "1 [1 1 1 ... 1 1 1]\n",
      "[0. 1. 2.]\n"
     ]
    },
    {
     "name": "stderr",
     "output_type": "stream",
     "text": [
      "Calculating responses: 3it [00:00, 19722.43it/s]\n",
      "Calculating responses: 2it [00:00, 16352.06it/s]"
     ]
    },
    {
     "name": "stdout",
     "output_type": "stream",
     "text": [
      "ybin (0.3,0.45]\n"
     ]
    },
    {
     "name": "stderr",
     "output_type": "stream",
     "text": [
      "\n"
     ]
    },
    {
     "name": "stdout",
     "output_type": "stream",
     "text": [
      "2 [2 2 2 ... 2 2 2]\n",
      "[0. 1. 2. 3.]\n",
      "2 [2 2 2 ... 2 2 2]\n",
      "[0. 1. 2. 3.]\n",
      "Applied cut on key: cut.cosmic (4,798 --> 770)\n",
      "Applied cut on key: cut.fv (770 --> 615)\n",
      "Applied cut on key: cut.trk (615 --> 615)\n",
      "Applied cut on key: cut.has_muon (615 --> 615)\n",
      "2 [2 2 2 ... 2 2 2]\n",
      "[0. 1. 2. 3.]\n",
      "2 [2 2 2 ... 2 2 2]\n",
      "[0. 1. 2. 3.]\n"
     ]
    },
    {
     "name": "stderr",
     "output_type": "stream",
     "text": [
      "Calculating responses: 3it [00:00, 15553.66it/s]\n",
      "Calculating responses: 3it [00:00, 21041.66it/s]"
     ]
    },
    {
     "name": "stdout",
     "output_type": "stream",
     "text": [
      "ybin (0.45,0.77]\n"
     ]
    },
    {
     "name": "stderr",
     "output_type": "stream",
     "text": [
      "\n"
     ]
    },
    {
     "name": "stdout",
     "output_type": "stream",
     "text": [
      "2 [2 2 2 ... 2 2 2]\n",
      "[0. 1. 2. 3.]\n",
      "3 [3 3 3 ... 3 3 3]\n",
      "[0. 1. 2. 3. 4.]\n",
      "Applied cut on key: cut.cosmic (6,373 --> 456)\n",
      "Applied cut on key: cut.fv (456 --> 386)\n",
      "Applied cut on key: cut.trk (386 --> 386)\n",
      "Applied cut on key: cut.has_muon (386 --> 386)\n",
      "2 [2 2 2 ... 2 2 2]\n",
      "[0. 1. 2. 3.]\n",
      "3 [3 3 3 ... 3 3 3]\n",
      "[0. 1. 2. 3. 4.]\n"
     ]
    },
    {
     "name": "stderr",
     "output_type": "stream",
     "text": [
      "Calculating responses: 3it [00:00, 19152.07it/s]\n",
      "Calculating responses: 4it [00:00, 32201.95it/s]"
     ]
    },
    {
     "name": "stdout",
     "output_type": "stream",
     "text": [
      "ybin (0.77,2.5]\n"
     ]
    },
    {
     "name": "stderr",
     "output_type": "stream",
     "text": [
      "\n"
     ]
    },
    {
     "name": "stdout",
     "output_type": "stream",
     "text": [
      "2 [2 2 2 ... 2 2 2]\n",
      "[0. 1. 2. 3.]\n",
      "4 [4 4 4 ... 4 4 4]\n",
      "[0. 1. 2. 3. 4. 5.]\n",
      "Applied cut on key: cut.cosmic (4,021 --> 42)\n",
      "Applied cut on key: cut.fv (42 --> 34)\n",
      "Applied cut on key: cut.trk (34 --> 34)\n",
      "Applied cut on key: cut.has_muon (34 --> 34)\n",
      "2 [2 2 2 ... 2 2 2]\n",
      "[0. 1. 2. 3.]\n",
      "4 [4 4 4 ... 4 4 4]\n",
      "[0. 1. 2. 3. 4. 5.]\n"
     ]
    },
    {
     "name": "stderr",
     "output_type": "stream",
     "text": [
      "Calculating responses: 3it [00:00, 28339.89it/s]\n",
      "Calculating responses: 5it [00:00, 45789.34it/s]"
     ]
    },
    {
     "name": "stdout",
     "output_type": "stream",
     "text": [
      "xbin (0.27,0.45]\n"
     ]
    },
    {
     "name": "stderr",
     "output_type": "stream",
     "text": [
      "\n",
      "4it [00:01,  2.18it/s]\n"
     ]
    },
    {
     "name": "stdout",
     "output_type": "stream",
     "text": [
      "ybin (0.0,0.3]\n",
      "3 [3 3 3 ... 3 3 3]\n",
      "[0. 1. 2. 3. 4.]\n",
      "0 [0 0 0 ... 0 0 0]\n",
      "[0. 1.]\n",
      "Applied cut on key: cut.cosmic (1,891 --> 351)\n",
      "Applied cut on key: cut.fv (351 --> 253)\n",
      "Applied cut on key: cut.trk (253 --> 253)\n",
      "Applied cut on key: cut.has_muon (253 --> 253)\n",
      "3 [3 3 3 ... 3 3 3]\n",
      "[0. 1. 2. 3. 4.]\n",
      "0 [0 0 0 ... 0 0 0]\n",
      "[0. 1.]\n"
     ]
    },
    {
     "name": "stderr",
     "output_type": "stream",
     "text": [
      "Calculating responses: 4it [00:00, 36235.89it/s]\n",
      "Calculating responses: 1it [00:00, 10810.06it/s]"
     ]
    },
    {
     "name": "stdout",
     "output_type": "stream",
     "text": [
      "ybin (0.3,0.45]\n"
     ]
    },
    {
     "name": "stderr",
     "output_type": "stream",
     "text": [
      "\n"
     ]
    },
    {
     "name": "stdout",
     "output_type": "stream",
     "text": [
      "3 [3 3 3 ... 3 3 3]\n",
      "[0. 1. 2. 3. 4.]\n",
      "1 [1 1 1 ... 1 1 1]\n",
      "[0. 1. 2.]\n",
      "Applied cut on key: cut.cosmic (4,334 --> 908)\n",
      "Applied cut on key: cut.fv (908 --> 695)\n",
      "Applied cut on key: cut.trk (695 --> 695)\n",
      "Applied cut on key: cut.has_muon (695 --> 695)\n",
      "3 [3 3 3 ... 3 3 3]\n",
      "[0. 1. 2. 3. 4.]\n",
      "1 [1 1 1 ... 1 1 1]\n",
      "[0. 1. 2.]\n"
     ]
    },
    {
     "name": "stderr",
     "output_type": "stream",
     "text": [
      "Calculating responses: 4it [00:00, 35620.42it/s]\n",
      "Calculating responses: 2it [00:00, 20262.34it/s]"
     ]
    },
    {
     "name": "stdout",
     "output_type": "stream",
     "text": [
      "ybin (0.45,0.77]\n"
     ]
    },
    {
     "name": "stderr",
     "output_type": "stream",
     "text": [
      "\n"
     ]
    },
    {
     "name": "stdout",
     "output_type": "stream",
     "text": [
      "3 [3 3 3 ... 3 3 3]\n",
      "[0. 1. 2. 3. 4.]\n",
      "2 [2 2 2 ... 2 2 2]\n",
      "[0. 1. 2. 3.]\n",
      "Applied cut on key: cut.cosmic (5,593 --> 843)\n",
      "Applied cut on key: cut.fv (843 --> 686)\n",
      "Applied cut on key: cut.trk (686 --> 686)\n",
      "Applied cut on key: cut.has_muon (686 --> 686)\n",
      "3 [3 3 3 ... 3 3 3]\n",
      "[0. 1. 2. 3. 4.]\n",
      "2 [2 2 2 ... 2 2 2]\n",
      "[0. 1. 2. 3.]\n"
     ]
    },
    {
     "name": "stderr",
     "output_type": "stream",
     "text": [
      "Calculating responses: 4it [00:00, 33621.68it/s]\n",
      "Calculating responses: 3it [00:00, 29059.84it/s]"
     ]
    },
    {
     "name": "stdout",
     "output_type": "stream",
     "text": [
      "ybin (0.77,2.5]\n"
     ]
    },
    {
     "name": "stderr",
     "output_type": "stream",
     "text": [
      "\n"
     ]
    },
    {
     "name": "stdout",
     "output_type": "stream",
     "text": [
      "3 [3 3 3 ... 3 3 3]\n",
      "[0. 1. 2. 3. 4.]\n",
      "3 [3 3 3 ... 3 3 3]\n",
      "[0. 1. 2. 3. 4.]\n",
      "Applied cut on key: cut.cosmic (3,884 --> 100)\n",
      "Applied cut on key: cut.fv (100 --> 84)\n",
      "Applied cut on key: cut.trk (84 --> 84)\n",
      "Applied cut on key: cut.has_muon (84 --> 84)\n",
      "3 [3 3 3 ... 3 3 3]\n",
      "[0. 1. 2. 3. 4.]\n",
      "3 [3 3 3 ... 3 3 3]\n",
      "[0. 1. 2. 3. 4.]\n"
     ]
    },
    {
     "name": "stderr",
     "output_type": "stream",
     "text": [
      "Calculating responses: 4it [00:00, 33893.37it/s]\n",
      "Calculating responses: 4it [00:00, 37532.92it/s]"
     ]
    },
    {
     "name": "stdout",
     "output_type": "stream",
     "text": [
      "xbin (0.45,0.62]\n"
     ]
    },
    {
     "name": "stderr",
     "output_type": "stream",
     "text": [
      "\n",
      "4it [00:01,  2.09it/s]\n"
     ]
    },
    {
     "name": "stdout",
     "output_type": "stream",
     "text": [
      "ybin (0.0,0.3]\n",
      "4 [4 4 4 ... 4 4 4]\n",
      "[0. 1. 2. 3. 4. 5.]\n",
      "0 [0 0 0 ... 0 0 0]\n",
      "[0. 1.]\n",
      "Applied cut on key: cut.cosmic (1,667 --> 378)\n",
      "Applied cut on key: cut.fv (378 --> 277)\n",
      "Applied cut on key: cut.trk (277 --> 277)\n",
      "Applied cut on key: cut.has_muon (277 --> 277)\n",
      "4 [4 4 4 ... 4 4 4]\n",
      "[0. 1. 2. 3. 4. 5.]\n",
      "0 [0 0 0 ... 0 0 0]\n",
      "[0. 1.]\n"
     ]
    },
    {
     "name": "stderr",
     "output_type": "stream",
     "text": [
      "Calculating responses: 5it [00:00, 39794.16it/s]\n",
      "Calculating responses: 1it [00:00, 10230.01it/s]"
     ]
    },
    {
     "name": "stdout",
     "output_type": "stream",
     "text": [
      "ybin (0.3,0.45]\n"
     ]
    },
    {
     "name": "stderr",
     "output_type": "stream",
     "text": [
      "\n"
     ]
    },
    {
     "name": "stdout",
     "output_type": "stream",
     "text": [
      "4 [4 4 4 ... 4 4 4]\n",
      "[0. 1. 2. 3. 4. 5.]\n",
      "1 [1 1 1 ... 1 1 1]\n",
      "[0. 1. 2.]\n",
      "Applied cut on key: cut.cosmic (3,944 --> 1,104)\n",
      "Applied cut on key: cut.fv (1,104 --> 853)\n",
      "Applied cut on key: cut.trk (853 --> 853)\n",
      "Applied cut on key: cut.has_muon (853 --> 853)\n",
      "4 [4 4 4 ... 4 4 4]\n",
      "[0. 1. 2. 3. 4. 5.]\n",
      "1 [1 1 1 ... 1 1 1]\n",
      "[0. 1. 2.]\n"
     ]
    },
    {
     "name": "stderr",
     "output_type": "stream",
     "text": [
      "Calculating responses: 5it [00:00, 27060.03it/s]\n",
      "Calculating responses: 2it [00:00, 17886.16it/s]"
     ]
    },
    {
     "name": "stdout",
     "output_type": "stream",
     "text": [
      "ybin (0.45,0.77]\n"
     ]
    },
    {
     "name": "stderr",
     "output_type": "stream",
     "text": [
      "\n"
     ]
    },
    {
     "name": "stdout",
     "output_type": "stream",
     "text": [
      "4 [4 4 4 ... 4 4 4]\n",
      "[0. 1. 2. 3. 4. 5.]\n",
      "2 [2 2 2 ... 2 2 2]\n",
      "[0. 1. 2. 3.]\n",
      "Applied cut on key: cut.cosmic (5,673 --> 1,603)\n",
      "Applied cut on key: cut.fv (1,603 --> 1,311)\n",
      "Applied cut on key: cut.trk (1,311 --> 1,311)\n",
      "Applied cut on key: cut.has_muon (1,311 --> 1,311)\n",
      "4 [4 4 4 ... 4 4 4]\n",
      "[0. 1. 2. 3. 4. 5.]\n",
      "2 [2 2 2 ... 2 2 2]\n",
      "[0. 1. 2. 3.]\n"
     ]
    },
    {
     "name": "stderr",
     "output_type": "stream",
     "text": [
      "Calculating responses: 5it [00:00, 31726.96it/s]\n",
      "Calculating responses: 3it [00:00, 19909.67it/s]"
     ]
    },
    {
     "name": "stdout",
     "output_type": "stream",
     "text": [
      "ybin (0.77,2.5]\n"
     ]
    },
    {
     "name": "stderr",
     "output_type": "stream",
     "text": [
      "\n"
     ]
    },
    {
     "name": "stdout",
     "output_type": "stream",
     "text": [
      "4 [4 4 4 ... 4 4 4]\n",
      "[0. 1. 2. 3. 4. 5.]\n",
      "3 [3 3 3 ... 3 3 3]\n",
      "[0. 1. 2. 3. 4.]\n",
      "Applied cut on key: cut.cosmic (4,316 --> 321)\n",
      "Applied cut on key: cut.fv (321 --> 260)\n",
      "Applied cut on key: cut.trk (260 --> 260)\n",
      "Applied cut on key: cut.has_muon (260 --> 260)\n",
      "4 [4 4 4 ... 4 4 4]\n",
      "[0. 1. 2. 3. 4. 5.]\n",
      "3 [3 3 3 ... 3 3 3]\n",
      "[0. 1. 2. 3. 4.]\n"
     ]
    },
    {
     "name": "stderr",
     "output_type": "stream",
     "text": [
      "Calculating responses: 5it [00:00, 23405.71it/s]\n",
      "Calculating responses: 4it [00:00, 31714.96it/s]"
     ]
    },
    {
     "name": "stdout",
     "output_type": "stream",
     "text": [
      "xbin (0.62,0.76]\n"
     ]
    },
    {
     "name": "stderr",
     "output_type": "stream",
     "text": [
      "\n",
      "4it [00:02,  1.69it/s]\n"
     ]
    },
    {
     "name": "stdout",
     "output_type": "stream",
     "text": [
      "ybin (0.0,0.3]\n",
      "5 [5 5 5 ... 5 5 5]\n",
      "[0. 1. 2. 3. 4. 5. 6.]\n",
      "0 [0 0 0 ... 0 0 0]\n",
      "[0. 1.]\n",
      "Applied cut on key: cut.cosmic (1,174 --> 374)\n",
      "Applied cut on key: cut.fv (374 --> 248)\n",
      "Applied cut on key: cut.trk (248 --> 248)\n",
      "Applied cut on key: cut.has_muon (248 --> 248)\n",
      "5 [5 5 5 ... 5 5 5]\n",
      "[0. 1. 2. 3. 4. 5. 6.]\n",
      "0 [0 0 0 ... 0 0 0]\n",
      "[0. 1.]\n"
     ]
    },
    {
     "name": "stderr",
     "output_type": "stream",
     "text": [
      "Calculating responses: 6it [00:00, 34663.67it/s]\n",
      "Calculating responses: 1it [00:00, 8683.86it/s]"
     ]
    },
    {
     "name": "stdout",
     "output_type": "stream",
     "text": [
      "ybin (0.3,0.45]\n"
     ]
    },
    {
     "name": "stderr",
     "output_type": "stream",
     "text": [
      "\n"
     ]
    },
    {
     "name": "stdout",
     "output_type": "stream",
     "text": [
      "5 [5 5 5 ... 5 5 5]\n",
      "[0. 1. 2. 3. 4. 5. 6.]\n",
      "1 [1 1 1 ... 1 1 1]\n",
      "[0. 1. 2.]\n",
      "Applied cut on key: cut.cosmic (2,818 --> 1,072)\n",
      "Applied cut on key: cut.fv (1,072 --> 802)\n",
      "Applied cut on key: cut.trk (802 --> 802)\n",
      "Applied cut on key: cut.has_muon (802 --> 802)\n",
      "5 [5 5 5 ... 5 5 5]\n",
      "[0. 1. 2. 3. 4. 5. 6.]\n",
      "1 [1 1 1 ... 1 1 1]\n",
      "[0. 1. 2.]\n"
     ]
    },
    {
     "name": "stderr",
     "output_type": "stream",
     "text": [
      "Calculating responses: 6it [00:00, 27624.40it/s]\n",
      "Calculating responses: 2it [00:00, 12446.01it/s]"
     ]
    },
    {
     "name": "stdout",
     "output_type": "stream",
     "text": [
      "ybin (0.45,0.77]\n"
     ]
    },
    {
     "name": "stderr",
     "output_type": "stream",
     "text": [
      "\n"
     ]
    },
    {
     "name": "stdout",
     "output_type": "stream",
     "text": [
      "5 [5 5 5 ... 5 5 5]\n",
      "[0. 1. 2. 3. 4. 5. 6.]\n",
      "2 [2 2 2 ... 2 2 2]\n",
      "[0. 1. 2. 3.]\n",
      "Applied cut on key: cut.cosmic (5,008 --> 2,196)\n",
      "Applied cut on key: cut.fv (2,196 --> 1,741)\n",
      "Applied cut on key: cut.trk (1,741 --> 1,741)\n",
      "Applied cut on key: cut.has_muon (1,741 --> 1,741)\n",
      "5 [5 5 5 ... 5 5 5]\n",
      "[0. 1. 2. 3. 4. 5. 6.]\n",
      "2 [2 2 2 ... 2 2 2]\n",
      "[0. 1. 2. 3.]\n"
     ]
    },
    {
     "name": "stderr",
     "output_type": "stream",
     "text": [
      "Calculating responses: 6it [00:00, 26024.64it/s]\n",
      "Calculating responses: 3it [00:00, 18157.16it/s]"
     ]
    },
    {
     "name": "stdout",
     "output_type": "stream",
     "text": [
      "ybin (0.77,2.5]\n"
     ]
    },
    {
     "name": "stderr",
     "output_type": "stream",
     "text": [
      "\n"
     ]
    },
    {
     "name": "stdout",
     "output_type": "stream",
     "text": [
      "5 [5 5 5 ... 5 5 5]\n",
      "[0. 1. 2. 3. 4. 5. 6.]\n",
      "3 [3 3 3 ... 3 3 3]\n",
      "[0. 1. 2. 3. 4.]\n",
      "Applied cut on key: cut.cosmic (4,885 --> 883)\n",
      "Applied cut on key: cut.fv (883 --> 725)\n",
      "Applied cut on key: cut.trk (725 --> 725)\n",
      "Applied cut on key: cut.has_muon (725 --> 725)\n",
      "5 [5 5 5 ... 5 5 5]\n",
      "[0. 1. 2. 3. 4. 5. 6.]\n",
      "3 [3 3 3 ... 3 3 3]\n",
      "[0. 1. 2. 3. 4.]\n"
     ]
    },
    {
     "name": "stderr",
     "output_type": "stream",
     "text": [
      "Calculating responses: 6it [00:00, 25165.82it/s]\n",
      "Calculating responses: 4it [00:00, 21931.00it/s]"
     ]
    },
    {
     "name": "stdout",
     "output_type": "stream",
     "text": [
      "xbin (0.76,0.86]\n"
     ]
    },
    {
     "name": "stderr",
     "output_type": "stream",
     "text": [
      "\n",
      "5it [00:02,  2.32it/s]\n"
     ]
    },
    {
     "name": "stdout",
     "output_type": "stream",
     "text": [
      "ybin (0.0,0.3]\n",
      "6 [6 6 6 6 6 6 6 6 6 6 6 6 6 6 6 6 6 6 6 6 6 6 6 6 6 6 6 6 6 6 6 6 6 6 6 6 6\n",
      " 6 6 6 6 6 6 6 6 6 6 6 6 6 6 6 6 6 6 6 6 6 6 6 6 6 6 6 6 6 6 6 6 6 6 6 6 6\n",
      " 6 6 6 6 6 6 6 6 6 6 6 6 6 6 6 6 6 6 6 6 6 6 6 6 6 6 6 6 6 6 6 6 6 6 6 6 6\n",
      " 6 6 6 6 6 6 6 6 6 6 6 6 6 6 6 6 6 6 6 6 6 6 6 6 6 6 6 6 6 6 6 6 6 6 6 6 6\n",
      " 6 6 6 6 6 6 6 6 6 6 6 6 6 6 6 6 6 6 6 6 6 6 6 6 6 6 6 6 6 6 6 6 6 6 6 6 6\n",
      " 6 6 6 6 6 6 6 6 6 6 6 6 6 6 6 6 6 6 6 6 6 6 6 6 6 6 6 6 6 6 6 6 6 6 6 6 6\n",
      " 6 6 6 6 6 6 6 6 6 6 6 6 6 6 6 6 6 6 6 6 6 6 6 6 6 6 6 6 6 6 6 6 6 6 6 6 6\n",
      " 6 6 6 6 6 6 6 6 6 6 6 6 6 6 6 6 6 6 6 6 6 6 6 6 6 6 6 6 6 6 6 6 6 6 6 6 6\n",
      " 6 6 6 6 6 6 6 6 6 6 6 6 6 6 6 6 6 6 6 6 6 6 6 6 6 6 6 6 6 6 6 6 6 6 6 6 6\n",
      " 6 6 6 6 6 6 6 6 6 6 6 6 6 6 6 6 6 6 6 6 6 6 6 6 6 6 6 6 6 6 6 6 6 6 6 6 6\n",
      " 6 6 6 6 6 6 6 6 6 6 6 6 6 6 6 6 6 6 6 6 6 6 6 6 6 6 6 6 6 6 6 6 6 6 6 6 6\n",
      " 6 6 6 6 6 6 6 6 6 6 6 6 6 6 6 6 6 6 6 6 6 6 6 6 6 6 6 6 6 6 6 6 6 6 6 6 6\n",
      " 6 6 6 6 6 6 6 6 6 6 6 6 6 6 6 6 6 6 6 6 6 6 6 6 6 6 6 6 6 6 6 6 6 6 6 6 6\n",
      " 6 6 6 6 6 6 6 6 6 6 6 6 6 6 6 6 6 6 6 6 6 6 6 6 6 6 6 6 6 6 6 6 6 6 6 6 6\n",
      " 6 6 6 6 6 6 6 6 6 6 6 6 6 6 6 6 6 6 6 6 6 6 6 6 6 6 6 6 6 6 6 6 6 6 6 6 6\n",
      " 6 6 6 6 6 6 6 6 6 6 6 6 6 6 6 6 6 6 6 6 6 6 6 6 6 6 6 6 6 6 6 6 6 6 6 6 6\n",
      " 6 6 6 6 6 6 6 6 6 6 6 6 6 6 6 6 6 6 6 6 6 6 6 6 6 6 6 6 6 6 6 6 6 6 6 6 6\n",
      " 6 6 6 6 6]\n",
      "[0. 1. 2. 3. 4. 5. 6. 7.]\n",
      "0 [0 0 0 0 0 0 0 0 0 0 0 0 0 0 0 0 0 0 0 0 0 0 0 0 0 0 0 0 0 0 0 0 0 0 0 0 0\n",
      " 0 0 0 0 0 0 0 0 0 0 0 0 0 0 0 0 0 0 0 0 0 0 0 0 0 0 0 0 0 0 0 0 0 0 0 0 0\n",
      " 0 0 0 0 0 0 0 0 0 0 0 0 0 0 0 0 0 0 0 0 0 0 0 0 0 0 0 0 0 0 0 0 0 0 0 0 0\n",
      " 0 0 0 0 0 0 0 0 0 0 0 0 0 0 0 0 0 0 0 0 0 0 0 0 0 0 0 0 0 0 0 0 0 0 0 0 0\n",
      " 0 0 0 0 0 0 0 0 0 0 0 0 0 0 0 0 0 0 0 0 0 0 0 0 0 0 0 0 0 0 0 0 0 0 0 0 0\n",
      " 0 0 0 0 0 0 0 0 0 0 0 0 0 0 0 0 0 0 0 0 0 0 0 0 0 0 0 0 0 0 0 0 0 0 0 0 0\n",
      " 0 0 0 0 0 0 0 0 0 0 0 0 0 0 0 0 0 0 0 0 0 0 0 0 0 0 0 0 0 0 0 0 0 0 0 0 0\n",
      " 0 0 0 0 0 0 0 0 0 0 0 0 0 0 0 0 0 0 0 0 0 0 0 0 0 0 0 0 0 0 0 0 0 0 0 0 0\n",
      " 0 0 0 0 0 0 0 0 0 0 0 0 0 0 0 0 0 0 0 0 0 0 0 0 0 0 0 0 0 0 0 0 0 0 0 0 0\n",
      " 0 0 0 0 0 0 0 0 0 0 0 0 0 0 0 0 0 0 0 0 0 0 0 0 0 0 0 0 0 0 0 0 0 0 0 0 0\n",
      " 0 0 0 0 0 0 0 0 0 0 0 0 0 0 0 0 0 0 0 0 0 0 0 0 0 0 0 0 0 0 0 0 0 0 0 0 0\n",
      " 0 0 0 0 0 0 0 0 0 0 0 0 0 0 0 0 0 0 0 0 0 0 0 0 0 0 0 0 0 0 0 0 0 0 0 0 0\n",
      " 0 0 0 0 0 0 0 0 0 0 0 0 0 0 0 0 0 0 0 0 0 0 0 0 0 0 0 0 0 0 0 0 0 0 0 0 0\n",
      " 0 0 0 0 0 0 0 0 0 0 0 0 0 0 0 0 0 0 0 0 0 0 0 0 0 0 0 0 0 0 0 0 0 0 0 0 0\n",
      " 0 0 0 0 0 0 0 0 0 0 0 0 0 0 0 0 0 0 0 0 0 0 0 0 0 0 0 0 0 0 0 0 0 0 0 0 0\n",
      " 0 0 0 0 0 0 0 0 0 0 0 0 0 0 0 0 0 0 0 0 0 0 0 0 0 0 0 0 0 0 0 0 0 0 0 0 0\n",
      " 0 0 0 0 0 0 0 0 0 0 0 0 0 0 0 0 0 0 0 0 0 0 0 0 0 0 0 0 0 0 0 0 0 0 0 0 0\n",
      " 0 0 0 0 0]\n",
      "[0. 1.]\n",
      "Applied cut on key: cut.cosmic (634 --> 299)\n",
      "Applied cut on key: cut.fv (299 --> 187)\n",
      "Applied cut on key: cut.trk (187 --> 187)\n",
      "Applied cut on key: cut.has_muon (187 --> 187)\n",
      "6 [6 6 6 6 6 6 6 6 6 6 6 6 6 6 6 6 6 6 6 6 6 6 6 6 6 6 6 6 6 6 6 6 6 6 6 6 6\n",
      " 6 6 6 6 6 6 6 6 6 6 6 6 6 6 6 6 6 6 6 6 6 6 6 6 6 6 6 6 6 6 6 6 6 6 6 6 6\n",
      " 6 6 6 6 6 6 6 6 6 6 6 6 6 6 6 6 6 6 6 6 6 6 6 6 6 6 6 6 6 6 6 6 6 6 6 6 6\n",
      " 6 6 6 6 6 6 6 6 6 6 6 6 6 6 6 6 6 6 6 6 6 6 6 6 6 6 6 6 6 6 6 6 6 6 6 6 6\n",
      " 6 6 6 6 6 6 6 6 6 6 6 6 6 6 6 6 6 6 6 6 6 6 6 6 6 6 6 6 6 6 6 6 6 6 6 6 6\n",
      " 6 6 6 6 6 6 6 6 6 6 6 6 6 6 6 6 6 6 6 6 6 6 6 6 6 6 6 6 6 6 6 6 6 6 6 6 6\n",
      " 6 6 6 6 6 6 6 6 6 6 6 6 6 6 6 6 6 6 6 6 6 6 6 6 6 6 6 6 6 6 6 6 6 6 6 6 6\n",
      " 6 6 6 6 6 6 6 6 6 6 6 6 6 6 6 6 6 6 6 6 6 6 6 6 6 6 6 6 6 6 6 6 6 6 6 6 6\n",
      " 6 6 6 6 6 6 6 6 6 6 6 6 6 6 6 6 6 6 6 6 6 6 6 6 6 6 6 6 6 6 6 6 6 6 6 6 6\n",
      " 6 6 6 6 6 6 6 6 6 6 6 6 6 6 6 6 6 6 6 6 6 6 6 6 6 6 6 6 6 6 6 6 6 6 6 6 6\n",
      " 6 6 6 6 6 6 6 6 6 6 6 6 6 6 6 6 6 6 6 6 6 6 6 6 6 6 6 6 6 6 6 6 6 6 6 6 6\n",
      " 6 6 6 6 6 6 6 6 6 6 6 6 6 6 6 6 6 6 6 6 6 6 6 6 6 6 6 6 6 6 6 6 6 6 6 6 6\n",
      " 6 6 6 6 6 6 6 6 6 6 6 6 6 6 6 6 6 6 6 6 6 6 6 6 6 6 6 6 6 6 6 6 6 6 6 6 6\n",
      " 6 6 6 6 6 6 6 6 6 6 6 6 6 6 6 6 6 6 6 6 6 6 6 6 6 6 6 6 6 6 6 6 6 6 6 6 6\n",
      " 6 6 6 6 6 6 6 6 6 6 6 6 6 6 6 6 6 6 6 6 6 6 6 6 6 6 6 6 6 6 6 6 6 6 6 6 6\n",
      " 6 6 6 6 6 6 6 6 6 6 6 6 6 6 6 6 6 6 6 6 6 6 6 6 6 6 6 6 6 6 6 6 6 6 6 6 6\n",
      " 6 6 6 6 6 6 6 6 6 6 6 6 6 6 6 6 6 6 6 6 6 6 6 6 6 6 6 6 6 6 6 6 6 6 6 6 6\n",
      " 6 6 6 6 6]\n",
      "[0. 1. 2. 3. 4. 5. 6. 7.]\n",
      "0 [0 0 0 0 0 0 0 0 0 0 0 0 0 0 0 0 0 0 0 0 0 0 0 0 0 0 0 0 0 0 0 0 0 0 0 0 0\n",
      " 0 0 0 0 0 0 0 0 0 0 0 0 0 0 0 0 0 0 0 0 0 0 0 0 0 0 0 0 0 0 0 0 0 0 0 0 0\n",
      " 0 0 0 0 0 0 0 0 0 0 0 0 0 0 0 0 0 0 0 0 0 0 0 0 0 0 0 0 0 0 0 0 0 0 0 0 0\n",
      " 0 0 0 0 0 0 0 0 0 0 0 0 0 0 0 0 0 0 0 0 0 0 0 0 0 0 0 0 0 0 0 0 0 0 0 0 0\n",
      " 0 0 0 0 0 0 0 0 0 0 0 0 0 0 0 0 0 0 0 0 0 0 0 0 0 0 0 0 0 0 0 0 0 0 0 0 0\n",
      " 0 0 0 0 0 0 0 0 0 0 0 0 0 0 0 0 0 0 0 0 0 0 0 0 0 0 0 0 0 0 0 0 0 0 0 0 0\n",
      " 0 0 0 0 0 0 0 0 0 0 0 0 0 0 0 0 0 0 0 0 0 0 0 0 0 0 0 0 0 0 0 0 0 0 0 0 0\n",
      " 0 0 0 0 0 0 0 0 0 0 0 0 0 0 0 0 0 0 0 0 0 0 0 0 0 0 0 0 0 0 0 0 0 0 0 0 0\n",
      " 0 0 0 0 0 0 0 0 0 0 0 0 0 0 0 0 0 0 0 0 0 0 0 0 0 0 0 0 0 0 0 0 0 0 0 0 0\n",
      " 0 0 0 0 0 0 0 0 0 0 0 0 0 0 0 0 0 0 0 0 0 0 0 0 0 0 0 0 0 0 0 0 0 0 0 0 0\n",
      " 0 0 0 0 0 0 0 0 0 0 0 0 0 0 0 0 0 0 0 0 0 0 0 0 0 0 0 0 0 0 0 0 0 0 0 0 0\n",
      " 0 0 0 0 0 0 0 0 0 0 0 0 0 0 0 0 0 0 0 0 0 0 0 0 0 0 0 0 0 0 0 0 0 0 0 0 0\n",
      " 0 0 0 0 0 0 0 0 0 0 0 0 0 0 0 0 0 0 0 0 0 0 0 0 0 0 0 0 0 0 0 0 0 0 0 0 0\n",
      " 0 0 0 0 0 0 0 0 0 0 0 0 0 0 0 0 0 0 0 0 0 0 0 0 0 0 0 0 0 0 0 0 0 0 0 0 0\n",
      " 0 0 0 0 0 0 0 0 0 0 0 0 0 0 0 0 0 0 0 0 0 0 0 0 0 0 0 0 0 0 0 0 0 0 0 0 0\n",
      " 0 0 0 0 0 0 0 0 0 0 0 0 0 0 0 0 0 0 0 0 0 0 0 0 0 0 0 0 0 0 0 0 0 0 0 0 0\n",
      " 0 0 0 0 0 0 0 0 0 0 0 0 0 0 0 0 0 0 0 0 0 0 0 0 0 0 0 0 0 0 0 0 0 0 0 0 0\n",
      " 0 0 0 0 0]\n",
      "[0. 1.]\n"
     ]
    },
    {
     "name": "stderr",
     "output_type": "stream",
     "text": [
      "Calculating responses: 7it [00:00, 41178.30it/s]\n",
      "Calculating responses: 1it [00:00, 6775.94it/s]"
     ]
    },
    {
     "name": "stdout",
     "output_type": "stream",
     "text": [
      "ybin (0.3,0.45]\n"
     ]
    },
    {
     "name": "stderr",
     "output_type": "stream",
     "text": [
      "\n"
     ]
    },
    {
     "name": "stdout",
     "output_type": "stream",
     "text": [
      "6 [6 6 6 ... 6 6 6]\n",
      "[0. 1. 2. 3. 4. 5. 6. 7.]\n",
      "1 [1 1 1 ... 1 1 1]\n",
      "[0. 1. 2.]\n",
      "Applied cut on key: cut.cosmic (1,661 --> 823)\n",
      "Applied cut on key: cut.fv (823 --> 506)\n",
      "Applied cut on key: cut.trk (506 --> 506)\n",
      "Applied cut on key: cut.has_muon (506 --> 506)\n",
      "6 [6 6 6 ... 6 6 6]\n",
      "[0. 1. 2. 3. 4. 5. 6. 7.]\n",
      "1 [1 1 1 ... 1 1 1]\n",
      "[0. 1. 2.]\n"
     ]
    },
    {
     "name": "stderr",
     "output_type": "stream",
     "text": [
      "Calculating responses: 7it [00:00, 42063.22it/s]\n",
      "Calculating responses: 2it [00:00, 14463.12it/s]"
     ]
    },
    {
     "name": "stdout",
     "output_type": "stream",
     "text": [
      "ybin (0.45,0.77]\n"
     ]
    },
    {
     "name": "stderr",
     "output_type": "stream",
     "text": [
      "\n"
     ]
    },
    {
     "name": "stdout",
     "output_type": "stream",
     "text": [
      "6 [6 6 6 ... 6 6 6]\n",
      "[0. 1. 2. 3. 4. 5. 6. 7.]\n",
      "2 [2 2 2 ... 2 2 2]\n",
      "[0. 1. 2. 3.]\n",
      "Applied cut on key: cut.cosmic (3,684 --> 1,967)\n",
      "Applied cut on key: cut.fv (1,967 --> 1,459)\n",
      "Applied cut on key: cut.trk (1,459 --> 1,459)\n",
      "Applied cut on key: cut.has_muon (1,459 --> 1,459)\n",
      "6 [6 6 6 ... 6 6 6]\n",
      "[0. 1. 2. 3. 4. 5. 6. 7.]\n",
      "2 [2 2 2 ... 2 2 2]\n",
      "[0. 1. 2. 3.]\n"
     ]
    },
    {
     "name": "stderr",
     "output_type": "stream",
     "text": [
      "Calculating responses: 7it [00:00, 44150.57it/s]\n",
      "Calculating responses: 3it [00:00, 7244.05it/s]"
     ]
    },
    {
     "name": "stdout",
     "output_type": "stream",
     "text": [
      "ybin (0.77,1.28]\n"
     ]
    },
    {
     "name": "stderr",
     "output_type": "stream",
     "text": [
      "\n"
     ]
    },
    {
     "name": "stdout",
     "output_type": "stream",
     "text": [
      "6 [6 6 6 ... 6 6 6]\n",
      "[0. 1. 2. 3. 4. 5. 6. 7.]\n",
      "3 [3 3 3 ... 3 3 3]\n",
      "[0. 1. 2. 3. 4.]\n",
      "Applied cut on key: cut.cosmic (3,182 --> 1,454)\n",
      "Applied cut on key: cut.fv (1,454 --> 1,177)\n",
      "Applied cut on key: cut.trk (1,177 --> 1,177)\n",
      "Applied cut on key: cut.has_muon (1,177 --> 1,177)\n",
      "6 [6 6 6 ... 6 6 6]\n",
      "[0. 1. 2. 3. 4. 5. 6. 7.]\n",
      "3 [3 3 3 ... 3 3 3]\n",
      "[0. 1. 2. 3. 4.]\n"
     ]
    },
    {
     "name": "stderr",
     "output_type": "stream",
     "text": [
      "Calculating responses: 7it [00:00, 41823.54it/s]\n",
      "Calculating responses: 4it [00:00, 36472.21it/s]"
     ]
    },
    {
     "name": "stdout",
     "output_type": "stream",
     "text": [
      "ybin (1.28,2.5]\n"
     ]
    },
    {
     "name": "stderr",
     "output_type": "stream",
     "text": [
      "\n"
     ]
    },
    {
     "name": "stdout",
     "output_type": "stream",
     "text": [
      "6 [6 6 6 ... 6 6 6]\n",
      "[0. 1. 2. 3. 4. 5. 6. 7.]\n",
      "4 [4 4 4 ... 4 4 4]\n",
      "[0. 1. 2. 3. 4. 5.]\n",
      "Applied cut on key: cut.cosmic (2,597 --> 282)\n",
      "Applied cut on key: cut.fv (282 --> 225)\n",
      "Applied cut on key: cut.trk (225 --> 225)\n",
      "Applied cut on key: cut.has_muon (225 --> 225)\n",
      "6 [6 6 6 ... 6 6 6]\n",
      "[0. 1. 2. 3. 4. 5. 6. 7.]\n",
      "4 [4 4 4 ... 4 4 4]\n",
      "[0. 1. 2. 3. 4. 5.]\n"
     ]
    },
    {
     "name": "stderr",
     "output_type": "stream",
     "text": [
      "Calculating responses: 7it [00:00, 42799.02it/s]\n",
      "Calculating responses: 5it [00:00, 35971.73it/s]"
     ]
    },
    {
     "name": "stdout",
     "output_type": "stream",
     "text": [
      "xbin (0.86,0.94]\n"
     ]
    },
    {
     "name": "stderr",
     "output_type": "stream",
     "text": [
      "\n",
      "5it [00:01,  2.55it/s]\n"
     ]
    },
    {
     "name": "stdout",
     "output_type": "stream",
     "text": [
      "ybin (0.0,0.3]\n",
      "7 [7 7 7 7 7 7 7 7 7 7 7 7 7 7 7 7 7 7 7 7 7 7 7 7 7 7 7 7 7 7 7 7 7 7 7 7 7\n",
      " 7 7 7 7 7 7 7 7 7 7 7 7 7 7 7 7 7 7 7 7 7 7 7 7 7 7 7 7 7 7 7 7 7 7 7 7 7\n",
      " 7 7 7 7 7 7 7 7 7 7 7 7 7 7 7 7 7 7 7 7 7 7 7 7 7 7 7 7 7 7 7 7 7 7 7 7 7\n",
      " 7 7 7 7 7 7 7 7 7 7 7 7 7 7 7 7 7 7 7 7 7 7 7 7 7 7 7 7 7 7 7 7 7 7 7 7 7\n",
      " 7 7 7 7 7 7 7 7 7 7 7 7 7 7 7 7 7 7 7 7 7 7 7 7 7 7 7 7 7 7 7 7 7 7 7 7 7\n",
      " 7 7 7 7 7 7 7 7 7 7 7 7 7 7 7 7 7 7 7 7 7 7 7 7 7 7 7 7 7 7 7 7 7 7 7 7 7\n",
      " 7 7 7 7 7 7 7 7 7 7 7 7 7 7 7 7 7 7 7 7 7 7 7 7 7 7 7 7 7 7 7 7 7 7 7 7 7\n",
      " 7 7 7 7 7 7 7 7 7 7 7 7 7 7 7 7 7 7 7 7 7 7 7 7 7 7 7 7 7 7 7 7 7 7 7 7 7\n",
      " 7 7 7 7 7 7 7 7 7 7 7 7 7 7 7 7 7 7 7 7 7 7 7 7 7 7 7 7 7 7 7 7 7 7 7 7 7\n",
      " 7 7 7 7 7 7 7 7 7 7 7 7 7 7 7 7 7 7 7 7 7 7 7 7 7 7 7 7 7 7 7 7 7 7 7 7 7\n",
      " 7 7 7 7 7 7 7 7 7 7 7 7 7 7 7 7 7 7 7 7 7 7 7 7 7 7 7 7 7 7 7 7 7 7 7 7 7\n",
      " 7 7 7 7 7 7 7 7 7 7 7 7 7 7 7 7 7 7 7 7 7 7 7 7 7 7 7 7 7 7 7 7 7 7 7 7 7\n",
      " 7 7 7 7 7 7 7 7 7 7 7 7 7 7 7 7 7 7 7 7 7 7 7 7 7 7 7 7 7 7 7 7 7 7 7 7 7\n",
      " 7 7 7 7 7 7 7 7 7 7 7 7 7 7 7 7 7 7 7 7 7 7 7 7 7 7 7 7 7 7 7 7 7 7 7 7 7\n",
      " 7 7 7 7 7 7 7 7 7 7 7 7 7 7 7 7 7 7 7 7 7 7 7 7 7 7 7 7 7 7 7]\n",
      "[0. 1. 2. 3. 4. 5. 6. 7. 8.]\n",
      "0 [0 0 0 0 0 0 0 0 0 0 0 0 0 0 0 0 0 0 0 0 0 0 0 0 0 0 0 0 0 0 0 0 0 0 0 0 0\n",
      " 0 0 0 0 0 0 0 0 0 0 0 0 0 0 0 0 0 0 0 0 0 0 0 0 0 0 0 0 0 0 0 0 0 0 0 0 0\n",
      " 0 0 0 0 0 0 0 0 0 0 0 0 0 0 0 0 0 0 0 0 0 0 0 0 0 0 0 0 0 0 0 0 0 0 0 0 0\n",
      " 0 0 0 0 0 0 0 0 0 0 0 0 0 0 0 0 0 0 0 0 0 0 0 0 0 0 0 0 0 0 0 0 0 0 0 0 0\n",
      " 0 0 0 0 0 0 0 0 0 0 0 0 0 0 0 0 0 0 0 0 0 0 0 0 0 0 0 0 0 0 0 0 0 0 0 0 0\n",
      " 0 0 0 0 0 0 0 0 0 0 0 0 0 0 0 0 0 0 0 0 0 0 0 0 0 0 0 0 0 0 0 0 0 0 0 0 0\n",
      " 0 0 0 0 0 0 0 0 0 0 0 0 0 0 0 0 0 0 0 0 0 0 0 0 0 0 0 0 0 0 0 0 0 0 0 0 0\n",
      " 0 0 0 0 0 0 0 0 0 0 0 0 0 0 0 0 0 0 0 0 0 0 0 0 0 0 0 0 0 0 0 0 0 0 0 0 0\n",
      " 0 0 0 0 0 0 0 0 0 0 0 0 0 0 0 0 0 0 0 0 0 0 0 0 0 0 0 0 0 0 0 0 0 0 0 0 0\n",
      " 0 0 0 0 0 0 0 0 0 0 0 0 0 0 0 0 0 0 0 0 0 0 0 0 0 0 0 0 0 0 0 0 0 0 0 0 0\n",
      " 0 0 0 0 0 0 0 0 0 0 0 0 0 0 0 0 0 0 0 0 0 0 0 0 0 0 0 0 0 0 0 0 0 0 0 0 0\n",
      " 0 0 0 0 0 0 0 0 0 0 0 0 0 0 0 0 0 0 0 0 0 0 0 0 0 0 0 0 0 0 0 0 0 0 0 0 0\n",
      " 0 0 0 0 0 0 0 0 0 0 0 0 0 0 0 0 0 0 0 0 0 0 0 0 0 0 0 0 0 0 0 0 0 0 0 0 0\n",
      " 0 0 0 0 0 0 0 0 0 0 0 0 0 0 0 0 0 0 0 0 0 0 0 0 0 0 0 0 0 0 0 0 0 0 0 0 0\n",
      " 0 0 0 0 0 0 0 0 0 0 0 0 0 0 0 0 0 0 0 0 0 0 0 0 0 0 0 0 0 0 0]\n",
      "[0. 1.]\n",
      "Applied cut on key: cut.cosmic (549 --> 311)\n",
      "Applied cut on key: cut.fv (311 --> 146)\n",
      "Applied cut on key: cut.trk (146 --> 146)\n",
      "Applied cut on key: cut.has_muon (146 --> 146)\n",
      "7 [7 7 7 7 7 7 7 7 7 7 7 7 7 7 7 7 7 7 7 7 7 7 7 7 7 7 7 7 7 7 7 7 7 7 7 7 7\n",
      " 7 7 7 7 7 7 7 7 7 7 7 7 7 7 7 7 7 7 7 7 7 7 7 7 7 7 7 7 7 7 7 7 7 7 7 7 7\n",
      " 7 7 7 7 7 7 7 7 7 7 7 7 7 7 7 7 7 7 7 7 7 7 7 7 7 7 7 7 7 7 7 7 7 7 7 7 7\n",
      " 7 7 7 7 7 7 7 7 7 7 7 7 7 7 7 7 7 7 7 7 7 7 7 7 7 7 7 7 7 7 7 7 7 7 7 7 7\n",
      " 7 7 7 7 7 7 7 7 7 7 7 7 7 7 7 7 7 7 7 7 7 7 7 7 7 7 7 7 7 7 7 7 7 7 7 7 7\n",
      " 7 7 7 7 7 7 7 7 7 7 7 7 7 7 7 7 7 7 7 7 7 7 7 7 7 7 7 7 7 7 7 7 7 7 7 7 7\n",
      " 7 7 7 7 7 7 7 7 7 7 7 7 7 7 7 7 7 7 7 7 7 7 7 7 7 7 7 7 7 7 7 7 7 7 7 7 7\n",
      " 7 7 7 7 7 7 7 7 7 7 7 7 7 7 7 7 7 7 7 7 7 7 7 7 7 7 7 7 7 7 7 7 7 7 7 7 7\n",
      " 7 7 7 7 7 7 7 7 7 7 7 7 7 7 7 7 7 7 7 7 7 7 7 7 7 7 7 7 7 7 7 7 7 7 7 7 7\n",
      " 7 7 7 7 7 7 7 7 7 7 7 7 7 7 7 7 7 7 7 7 7 7 7 7 7 7 7 7 7 7 7 7 7 7 7 7 7\n",
      " 7 7 7 7 7 7 7 7 7 7 7 7 7 7 7 7 7 7 7 7 7 7 7 7 7 7 7 7 7 7 7 7 7 7 7 7 7\n",
      " 7 7 7 7 7 7 7 7 7 7 7 7 7 7 7 7 7 7 7 7 7 7 7 7 7 7 7 7 7 7 7 7 7 7 7 7 7\n",
      " 7 7 7 7 7 7 7 7 7 7 7 7 7 7 7 7 7 7 7 7 7 7 7 7 7 7 7 7 7 7 7 7 7 7 7 7 7\n",
      " 7 7 7 7 7 7 7 7 7 7 7 7 7 7 7 7 7 7 7 7 7 7 7 7 7 7 7 7 7 7 7 7 7 7 7 7 7\n",
      " 7 7 7 7 7 7 7 7 7 7 7 7 7 7 7 7 7 7 7 7 7 7 7 7 7 7 7 7 7 7 7]\n",
      "[0. 1. 2. 3. 4. 5. 6. 7. 8.]\n",
      "0 [0 0 0 0 0 0 0 0 0 0 0 0 0 0 0 0 0 0 0 0 0 0 0 0 0 0 0 0 0 0 0 0 0 0 0 0 0\n",
      " 0 0 0 0 0 0 0 0 0 0 0 0 0 0 0 0 0 0 0 0 0 0 0 0 0 0 0 0 0 0 0 0 0 0 0 0 0\n",
      " 0 0 0 0 0 0 0 0 0 0 0 0 0 0 0 0 0 0 0 0 0 0 0 0 0 0 0 0 0 0 0 0 0 0 0 0 0\n",
      " 0 0 0 0 0 0 0 0 0 0 0 0 0 0 0 0 0 0 0 0 0 0 0 0 0 0 0 0 0 0 0 0 0 0 0 0 0\n",
      " 0 0 0 0 0 0 0 0 0 0 0 0 0 0 0 0 0 0 0 0 0 0 0 0 0 0 0 0 0 0 0 0 0 0 0 0 0\n",
      " 0 0 0 0 0 0 0 0 0 0 0 0 0 0 0 0 0 0 0 0 0 0 0 0 0 0 0 0 0 0 0 0 0 0 0 0 0\n",
      " 0 0 0 0 0 0 0 0 0 0 0 0 0 0 0 0 0 0 0 0 0 0 0 0 0 0 0 0 0 0 0 0 0 0 0 0 0\n",
      " 0 0 0 0 0 0 0 0 0 0 0 0 0 0 0 0 0 0 0 0 0 0 0 0 0 0 0 0 0 0 0 0 0 0 0 0 0\n",
      " 0 0 0 0 0 0 0 0 0 0 0 0 0 0 0 0 0 0 0 0 0 0 0 0 0 0 0 0 0 0 0 0 0 0 0 0 0\n",
      " 0 0 0 0 0 0 0 0 0 0 0 0 0 0 0 0 0 0 0 0 0 0 0 0 0 0 0 0 0 0 0 0 0 0 0 0 0\n",
      " 0 0 0 0 0 0 0 0 0 0 0 0 0 0 0 0 0 0 0 0 0 0 0 0 0 0 0 0 0 0 0 0 0 0 0 0 0\n",
      " 0 0 0 0 0 0 0 0 0 0 0 0 0 0 0 0 0 0 0 0 0 0 0 0 0 0 0 0 0 0 0 0 0 0 0 0 0\n",
      " 0 0 0 0 0 0 0 0 0 0 0 0 0 0 0 0 0 0 0 0 0 0 0 0 0 0 0 0 0 0 0 0 0 0 0 0 0\n",
      " 0 0 0 0 0 0 0 0 0 0 0 0 0 0 0 0 0 0 0 0 0 0 0 0 0 0 0 0 0 0 0 0 0 0 0 0 0\n",
      " 0 0 0 0 0 0 0 0 0 0 0 0 0 0 0 0 0 0 0 0 0 0 0 0 0 0 0 0 0 0 0]\n",
      "[0. 1.]\n"
     ]
    },
    {
     "name": "stderr",
     "output_type": "stream",
     "text": [
      "Calculating responses: 8it [00:00, 42853.68it/s]\n",
      "Calculating responses: 1it [00:00, 6168.09it/s]"
     ]
    },
    {
     "name": "stdout",
     "output_type": "stream",
     "text": [
      "ybin (0.3,0.45]\n"
     ]
    },
    {
     "name": "stderr",
     "output_type": "stream",
     "text": [
      "\n"
     ]
    },
    {
     "name": "stdout",
     "output_type": "stream",
     "text": [
      "7 [7 7 7 ... 7 7 7]\n",
      "[0. 1. 2. 3. 4. 5. 6. 7. 8.]\n",
      "1 [1 1 1 ... 1 1 1]\n",
      "[0. 1. 2.]\n",
      "Applied cut on key: cut.cosmic (1,430 --> 873)\n",
      "Applied cut on key: cut.fv (873 --> 464)\n",
      "Applied cut on key: cut.trk (464 --> 464)\n",
      "Applied cut on key: cut.has_muon (464 --> 464)\n",
      "7 [7 7 7 ... 7 7 7]\n",
      "[0. 1. 2. 3. 4. 5. 6. 7. 8.]\n",
      "1 [1 1 1 ... 1 1 1]\n",
      "[0. 1. 2.]\n"
     ]
    },
    {
     "name": "stderr",
     "output_type": "stream",
     "text": [
      "Calculating responses: 8it [00:00, 41838.44it/s]\n",
      "Calculating responses: 2it [00:00, 14979.66it/s]"
     ]
    },
    {
     "name": "stdout",
     "output_type": "stream",
     "text": [
      "ybin (0.45,0.77]\n"
     ]
    },
    {
     "name": "stderr",
     "output_type": "stream",
     "text": [
      "\n"
     ]
    },
    {
     "name": "stdout",
     "output_type": "stream",
     "text": [
      "7 [7 7 7 ... 7 7 7]\n",
      "[0. 1. 2. 3. 4. 5. 6. 7. 8.]\n",
      "2 [2 2 2 ... 2 2 2]\n",
      "[0. 1. 2. 3.]\n",
      "Applied cut on key: cut.cosmic (3,375 --> 2,281)\n",
      "Applied cut on key: cut.fv (2,281 --> 1,449)\n",
      "Applied cut on key: cut.trk (1,449 --> 1,449)\n",
      "Applied cut on key: cut.has_muon (1,449 --> 1,449)\n",
      "7 [7 7 7 ... 7 7 7]\n",
      "[0. 1. 2. 3. 4. 5. 6. 7. 8.]\n",
      "2 [2 2 2 ... 2 2 2]\n",
      "[0. 1. 2. 3.]\n"
     ]
    },
    {
     "name": "stderr",
     "output_type": "stream",
     "text": [
      "Calculating responses: 8it [00:00, 30812.15it/s]\n",
      "Calculating responses: 3it [00:00, 16980.99it/s]"
     ]
    },
    {
     "name": "stdout",
     "output_type": "stream",
     "text": [
      "ybin (0.77,1.28]\n"
     ]
    },
    {
     "name": "stderr",
     "output_type": "stream",
     "text": [
      "\n"
     ]
    },
    {
     "name": "stdout",
     "output_type": "stream",
     "text": [
      "7 [7 7 7 ... 7 7 7]\n",
      "[0. 1. 2. 3. 4. 5. 6. 7. 8.]\n",
      "3 [3 3 3 ... 3 3 3]\n",
      "[0. 1. 2. 3. 4.]\n",
      "Applied cut on key: cut.cosmic (3,495 --> 2,141)\n",
      "Applied cut on key: cut.fv (2,141 --> 1,582)\n",
      "Applied cut on key: cut.trk (1,582 --> 1,582)\n",
      "Applied cut on key: cut.has_muon (1,582 --> 1,582)\n",
      "7 [7 7 7 ... 7 7 7]\n",
      "[0. 1. 2. 3. 4. 5. 6. 7. 8.]\n",
      "3 [3 3 3 ... 3 3 3]\n",
      "[0. 1. 2. 3. 4.]\n"
     ]
    },
    {
     "name": "stderr",
     "output_type": "stream",
     "text": [
      "Calculating responses: 8it [00:00, 50382.03it/s]\n",
      "Calculating responses: 4it [00:00, 24600.02it/s]"
     ]
    },
    {
     "name": "stdout",
     "output_type": "stream",
     "text": [
      "ybin (1.28,2.5]\n"
     ]
    },
    {
     "name": "stderr",
     "output_type": "stream",
     "text": [
      "\n"
     ]
    },
    {
     "name": "stdout",
     "output_type": "stream",
     "text": [
      "7 [7 7 7 ... 7 7 7]\n",
      "[0. 1. 2. 3. 4. 5. 6. 7. 8.]\n",
      "4 [4 4 4 ... 4 4 4]\n",
      "[0. 1. 2. 3. 4. 5.]\n",
      "Applied cut on key: cut.cosmic (2,188 --> 792)\n",
      "Applied cut on key: cut.fv (792 --> 642)\n",
      "Applied cut on key: cut.trk (642 --> 642)\n",
      "Applied cut on key: cut.has_muon (642 --> 642)\n",
      "7 [7 7 7 ... 7 7 7]\n",
      "[0. 1. 2. 3. 4. 5. 6. 7. 8.]\n",
      "4 [4 4 4 ... 4 4 4]\n",
      "[0. 1. 2. 3. 4. 5.]\n"
     ]
    },
    {
     "name": "stderr",
     "output_type": "stream",
     "text": [
      "Calculating responses: 8it [00:00, 39429.41it/s]\n",
      "Calculating responses: 5it [00:00, 33182.78it/s]"
     ]
    },
    {
     "name": "stdout",
     "output_type": "stream",
     "text": [
      "xbin (0.94,1.0]\n"
     ]
    },
    {
     "name": "stderr",
     "output_type": "stream",
     "text": [
      "\n",
      "5it [00:01,  3.16it/s]\n"
     ]
    },
    {
     "name": "stdout",
     "output_type": "stream",
     "text": [
      "ybin (0.0,0.3]\n",
      "8 [8 8 8 8 8 8 8 8 8 8 8 8 8 8 8 8 8 8 8 8 8 8 8 8 8 8 8 8 8 8 8 8 8 8 8 8 8\n",
      " 8 8 8 8 8 8 8 8 8 8 8 8 8 8 8 8 8 8 8 8 8 8 8 8 8 8 8 8 8 8 8 8 8 8 8 8 8\n",
      " 8 8 8 8 8 8 8 8 8 8 8 8 8 8 8 8 8 8 8 8 8 8 8 8 8 8 8 8 8 8 8 8 8 8 8 8 8\n",
      " 8 8 8 8 8 8 8 8 8 8 8 8 8 8 8 8 8 8 8 8 8 8 8 8 8 8 8 8 8 8 8 8 8 8 8 8 8\n",
      " 8 8 8 8 8 8 8 8 8 8 8 8 8 8 8 8 8 8 8 8 8 8 8 8 8 8 8 8 8 8 8 8 8 8 8 8 8\n",
      " 8 8 8 8 8 8 8 8 8 8 8 8 8 8 8 8 8 8 8 8 8 8 8 8 8 8 8 8 8 8 8 8 8 8 8 8 8\n",
      " 8 8 8 8 8 8 8 8 8 8 8 8 8 8 8 8 8 8 8 8 8 8 8 8 8 8 8 8 8 8 8 8 8 8 8 8 8\n",
      " 8 8 8 8 8 8 8 8 8 8 8 8 8 8 8 8 8 8 8 8 8 8 8 8 8 8 8 8 8 8 8 8 8 8 8 8 8\n",
      " 8 8 8 8 8 8 8 8 8 8 8 8 8 8 8 8 8 8 8 8 8 8 8 8 8 8 8 8 8 8 8 8 8 8 8 8 8\n",
      " 8 8 8 8 8 8 8 8 8 8 8 8 8 8 8 8 8 8 8 8 8 8 8 8 8 8 8 8 8 8 8 8 8 8 8 8 8\n",
      " 8 8 8 8 8 8 8 8 8 8 8 8 8 8 8 8 8 8 8 8 8 8 8 8 8 8 8 8 8 8 8 8 8 8 8 8 8\n",
      " 8 8 8 8 8 8 8 8 8 8 8 8 8 8 8 8 8 8 8 8 8 8 8 8 8 8 8 8 8 8 8]\n",
      "[0. 1. 2. 3. 4. 5. 6. 7. 8. 9.]\n",
      "0 [0 0 0 0 0 0 0 0 0 0 0 0 0 0 0 0 0 0 0 0 0 0 0 0 0 0 0 0 0 0 0 0 0 0 0 0 0\n",
      " 0 0 0 0 0 0 0 0 0 0 0 0 0 0 0 0 0 0 0 0 0 0 0 0 0 0 0 0 0 0 0 0 0 0 0 0 0\n",
      " 0 0 0 0 0 0 0 0 0 0 0 0 0 0 0 0 0 0 0 0 0 0 0 0 0 0 0 0 0 0 0 0 0 0 0 0 0\n",
      " 0 0 0 0 0 0 0 0 0 0 0 0 0 0 0 0 0 0 0 0 0 0 0 0 0 0 0 0 0 0 0 0 0 0 0 0 0\n",
      " 0 0 0 0 0 0 0 0 0 0 0 0 0 0 0 0 0 0 0 0 0 0 0 0 0 0 0 0 0 0 0 0 0 0 0 0 0\n",
      " 0 0 0 0 0 0 0 0 0 0 0 0 0 0 0 0 0 0 0 0 0 0 0 0 0 0 0 0 0 0 0 0 0 0 0 0 0\n",
      " 0 0 0 0 0 0 0 0 0 0 0 0 0 0 0 0 0 0 0 0 0 0 0 0 0 0 0 0 0 0 0 0 0 0 0 0 0\n",
      " 0 0 0 0 0 0 0 0 0 0 0 0 0 0 0 0 0 0 0 0 0 0 0 0 0 0 0 0 0 0 0 0 0 0 0 0 0\n",
      " 0 0 0 0 0 0 0 0 0 0 0 0 0 0 0 0 0 0 0 0 0 0 0 0 0 0 0 0 0 0 0 0 0 0 0 0 0\n",
      " 0 0 0 0 0 0 0 0 0 0 0 0 0 0 0 0 0 0 0 0 0 0 0 0 0 0 0 0 0 0 0 0 0 0 0 0 0\n",
      " 0 0 0 0 0 0 0 0 0 0 0 0 0 0 0 0 0 0 0 0 0 0 0 0 0 0 0 0 0 0 0 0 0 0 0 0 0\n",
      " 0 0 0 0 0 0 0 0 0 0 0 0 0 0 0 0 0 0 0 0 0 0 0 0 0 0 0 0 0 0 0]\n",
      "[0. 1.]\n",
      "Applied cut on key: cut.cosmic (438 --> 313)\n",
      "Applied cut on key: cut.fv (313 --> 134)\n",
      "Applied cut on key: cut.trk (134 --> 134)\n",
      "Applied cut on key: cut.has_muon (134 --> 134)\n",
      "8 [8 8 8 8 8 8 8 8 8 8 8 8 8 8 8 8 8 8 8 8 8 8 8 8 8 8 8 8 8 8 8 8 8 8 8 8 8\n",
      " 8 8 8 8 8 8 8 8 8 8 8 8 8 8 8 8 8 8 8 8 8 8 8 8 8 8 8 8 8 8 8 8 8 8 8 8 8\n",
      " 8 8 8 8 8 8 8 8 8 8 8 8 8 8 8 8 8 8 8 8 8 8 8 8 8 8 8 8 8 8 8 8 8 8 8 8 8\n",
      " 8 8 8 8 8 8 8 8 8 8 8 8 8 8 8 8 8 8 8 8 8 8 8 8 8 8 8 8 8 8 8 8 8 8 8 8 8\n",
      " 8 8 8 8 8 8 8 8 8 8 8 8 8 8 8 8 8 8 8 8 8 8 8 8 8 8 8 8 8 8 8 8 8 8 8 8 8\n",
      " 8 8 8 8 8 8 8 8 8 8 8 8 8 8 8 8 8 8 8 8 8 8 8 8 8 8 8 8 8 8 8 8 8 8 8 8 8\n",
      " 8 8 8 8 8 8 8 8 8 8 8 8 8 8 8 8 8 8 8 8 8 8 8 8 8 8 8 8 8 8 8 8 8 8 8 8 8\n",
      " 8 8 8 8 8 8 8 8 8 8 8 8 8 8 8 8 8 8 8 8 8 8 8 8 8 8 8 8 8 8 8 8 8 8 8 8 8\n",
      " 8 8 8 8 8 8 8 8 8 8 8 8 8 8 8 8 8 8 8 8 8 8 8 8 8 8 8 8 8 8 8 8 8 8 8 8 8\n",
      " 8 8 8 8 8 8 8 8 8 8 8 8 8 8 8 8 8 8 8 8 8 8 8 8 8 8 8 8 8 8 8 8 8 8 8 8 8\n",
      " 8 8 8 8 8 8 8 8 8 8 8 8 8 8 8 8 8 8 8 8 8 8 8 8 8 8 8 8 8 8 8 8 8 8 8 8 8\n",
      " 8 8 8 8 8 8 8 8 8 8 8 8 8 8 8 8 8 8 8 8 8 8 8 8 8 8 8 8 8 8 8]\n",
      "[0. 1. 2. 3. 4. 5. 6. 7. 8. 9.]\n",
      "0 [0 0 0 0 0 0 0 0 0 0 0 0 0 0 0 0 0 0 0 0 0 0 0 0 0 0 0 0 0 0 0 0 0 0 0 0 0\n",
      " 0 0 0 0 0 0 0 0 0 0 0 0 0 0 0 0 0 0 0 0 0 0 0 0 0 0 0 0 0 0 0 0 0 0 0 0 0\n",
      " 0 0 0 0 0 0 0 0 0 0 0 0 0 0 0 0 0 0 0 0 0 0 0 0 0 0 0 0 0 0 0 0 0 0 0 0 0\n",
      " 0 0 0 0 0 0 0 0 0 0 0 0 0 0 0 0 0 0 0 0 0 0 0 0 0 0 0 0 0 0 0 0 0 0 0 0 0\n",
      " 0 0 0 0 0 0 0 0 0 0 0 0 0 0 0 0 0 0 0 0 0 0 0 0 0 0 0 0 0 0 0 0 0 0 0 0 0\n",
      " 0 0 0 0 0 0 0 0 0 0 0 0 0 0 0 0 0 0 0 0 0 0 0 0 0 0 0 0 0 0 0 0 0 0 0 0 0\n",
      " 0 0 0 0 0 0 0 0 0 0 0 0 0 0 0 0 0 0 0 0 0 0 0 0 0 0 0 0 0 0 0 0 0 0 0 0 0\n",
      " 0 0 0 0 0 0 0 0 0 0 0 0 0 0 0 0 0 0 0 0 0 0 0 0 0 0 0 0 0 0 0 0 0 0 0 0 0\n",
      " 0 0 0 0 0 0 0 0 0 0 0 0 0 0 0 0 0 0 0 0 0 0 0 0 0 0 0 0 0 0 0 0 0 0 0 0 0\n",
      " 0 0 0 0 0 0 0 0 0 0 0 0 0 0 0 0 0 0 0 0 0 0 0 0 0 0 0 0 0 0 0 0 0 0 0 0 0\n",
      " 0 0 0 0 0 0 0 0 0 0 0 0 0 0 0 0 0 0 0 0 0 0 0 0 0 0 0 0 0 0 0 0 0 0 0 0 0\n",
      " 0 0 0 0 0 0 0 0 0 0 0 0 0 0 0 0 0 0 0 0 0 0 0 0 0 0 0 0 0 0 0]\n",
      "[0. 1.]\n"
     ]
    },
    {
     "name": "stderr",
     "output_type": "stream",
     "text": [
      "Calculating responses: 9it [00:00, 44567.57it/s]\n",
      "Calculating responses: 1it [00:00, 6043.67it/s]"
     ]
    },
    {
     "name": "stdout",
     "output_type": "stream",
     "text": [
      "ybin (0.3,0.45]\n"
     ]
    },
    {
     "name": "stderr",
     "output_type": "stream",
     "text": [
      "\n"
     ]
    },
    {
     "name": "stdout",
     "output_type": "stream",
     "text": [
      "8 [8 8 8 ... 8 8 8]\n",
      "[0. 1. 2. 3. 4. 5. 6. 7. 8. 9.]\n",
      "1 [1 1 1 ... 1 1 1]\n",
      "[0. 1. 2.]\n",
      "Applied cut on key: cut.cosmic (1,224 --> 884)\n",
      "Applied cut on key: cut.fv (884 --> 429)\n",
      "Applied cut on key: cut.trk (429 --> 429)\n",
      "Applied cut on key: cut.has_muon (429 --> 429)\n",
      "8 [8 8 8 ... 8 8 8]\n",
      "[0. 1. 2. 3. 4. 5. 6. 7. 8. 9.]\n",
      "1 [1 1 1 ... 1 1 1]\n",
      "[0. 1. 2.]\n"
     ]
    },
    {
     "name": "stderr",
     "output_type": "stream",
     "text": [
      "Calculating responses: 9it [00:00, 39988.07it/s]\n",
      "Calculating responses: 2it [00:00, 13957.75it/s]"
     ]
    },
    {
     "name": "stdout",
     "output_type": "stream",
     "text": [
      "ybin (0.45,0.77]\n"
     ]
    },
    {
     "name": "stderr",
     "output_type": "stream",
     "text": [
      "\n"
     ]
    },
    {
     "name": "stdout",
     "output_type": "stream",
     "text": [
      "8 [8 8 8 ... 8 8 8]\n",
      "[0. 1. 2. 3. 4. 5. 6. 7. 8. 9.]\n",
      "2 [2 2 2 ... 2 2 2]\n",
      "[0. 1. 2. 3.]\n",
      "Applied cut on key: cut.cosmic (2,849 --> 2,217)\n",
      "Applied cut on key: cut.fv (2,217 --> 1,152)\n",
      "Applied cut on key: cut.trk (1,152 --> 1,152)\n",
      "Applied cut on key: cut.has_muon (1,152 --> 1,152)\n",
      "8 [8 8 8 ... 8 8 8]\n",
      "[0. 1. 2. 3. 4. 5. 6. 7. 8. 9.]\n",
      "2 [2 2 2 ... 2 2 2]\n",
      "[0. 1. 2. 3.]\n"
     ]
    },
    {
     "name": "stderr",
     "output_type": "stream",
     "text": [
      "Calculating responses: 9it [00:00, 41573.50it/s]\n",
      "Calculating responses: 3it [00:00, 28212.81it/s]"
     ]
    },
    {
     "name": "stdout",
     "output_type": "stream",
     "text": [
      "ybin (0.77,1.28]\n"
     ]
    },
    {
     "name": "stderr",
     "output_type": "stream",
     "text": [
      "\n"
     ]
    },
    {
     "name": "stdout",
     "output_type": "stream",
     "text": [
      "8 [8 8 8 ... 8 8 8]\n",
      "[0. 1. 2. 3. 4. 5. 6. 7. 8. 9.]\n",
      "3 [3 3 3 ... 3 3 3]\n",
      "[0. 1. 2. 3. 4.]\n",
      "Applied cut on key: cut.cosmic (3,483 --> 2,562)\n",
      "Applied cut on key: cut.fv (2,562 --> 1,475)\n",
      "Applied cut on key: cut.trk (1,475 --> 1,475)\n",
      "Applied cut on key: cut.has_muon (1,475 --> 1,475)\n",
      "8 [8 8 8 ... 8 8 8]\n",
      "[0. 1. 2. 3. 4. 5. 6. 7. 8. 9.]\n",
      "3 [3 3 3 ... 3 3 3]\n",
      "[0. 1. 2. 3. 4.]\n"
     ]
    },
    {
     "name": "stderr",
     "output_type": "stream",
     "text": [
      "Calculating responses: 9it [00:00, 40072.97it/s]\n",
      "Calculating responses: 4it [00:00, 19972.88it/s]"
     ]
    },
    {
     "name": "stdout",
     "output_type": "stream",
     "text": [
      "ybin (1.28,2.5]\n"
     ]
    },
    {
     "name": "stderr",
     "output_type": "stream",
     "text": [
      "\n"
     ]
    },
    {
     "name": "stdout",
     "output_type": "stream",
     "text": [
      "8 [8 8 8 ... 8 8 8]\n",
      "[0. 1. 2. 3. 4. 5. 6. 7. 8. 9.]\n",
      "4 [4 4 4 ... 4 4 4]\n",
      "[0. 1. 2. 3. 4. 5.]\n",
      "Applied cut on key: cut.cosmic (2,216 --> 1,361)\n",
      "Applied cut on key: cut.fv (1,361 --> 855)\n",
      "Applied cut on key: cut.trk (855 --> 855)\n",
      "Applied cut on key: cut.has_muon (855 --> 855)\n",
      "8 [8 8 8 ... 8 8 8]\n",
      "[0. 1. 2. 3. 4. 5. 6. 7. 8. 9.]\n",
      "4 [4 4 4 ... 4 4 4]\n",
      "[0. 1. 2. 3. 4. 5.]\n"
     ]
    },
    {
     "name": "stderr",
     "output_type": "stream",
     "text": [
      "Calculating responses: 9it [00:00, 46834.66it/s]\n",
      "Calculating responses: 5it [00:00, 35305.59it/s]\n"
     ]
    }
   ],
   "source": [
    "d2x_dpdc_dict,meta_dict = xsec.get_d2xsec_dxdy_dict(slc,\n",
    "            'best_muon.costheta',\n",
    "            'best_muon.p',\n",
    "            ''\n",
    "            COSTHETA_BINS,\n",
    "            EdgesP,\n",
    "            'best_muon.costheta_bin',\n",
    "            'best_muon.momentum_bin',\n",
    "            costheta_smearing_matrix,\n",
    "            momentum_smearing_matrix,\n",
    "            cuts=CUTS)"
   ]
  },
  {
   "cell_type": "code",
   "execution_count": 47,
   "metadata": {},
   "outputs": [
    {
     "name": "stderr",
     "output_type": "stream",
     "text": [
      "0it [00:00, ?it/s]"
     ]
    },
    {
     "name": "stderr",
     "output_type": "stream",
     "text": [
      "5it [00:00, 10.77it/s]\n",
      "5it [00:00,  5.89it/s]\n",
      "5it [00:02,  2.49it/s]\n",
      "4it [00:01,  2.77it/s]\n",
      "4it [00:01,  2.71it/s]\n",
      "4it [00:01,  2.77it/s]\n",
      "5it [00:01,  3.08it/s]\n",
      "5it [00:01,  3.68it/s]\n",
      "5it [00:01,  4.46it/s]\n",
      "10it [00:38,  3.81s/it]\n"
     ]
    }
   ],
   "source": [
    "#Get variables for double differential cross section\n",
    "d2x_dpdc_dict = {} # keys are (costheta_bin,momentum_bin)\n",
    "\n",
    "for i,c in tqdm(enumerate(COSTHETA_BINS)):\n",
    "    if i == len(COSTHETA_BINS)-1: continue\n",
    "    mom_bins = EdgesP[i]\n",
    "    _slc = slc.copy()\n",
    "    _slc.data = _slc.data[_slc.data.best_muon.costheta_bin == i]\n",
    "    _slc.assign_momentum_bins(momentum_bins=mom_bins) #have to reassign since microboone uses wtf bins\n",
    "    for j,p in enumerate(mom_bins): #We will use MicroBoone binning for now\n",
    "        if j == len(mom_bins)-1: continue\n",
    "        dc = COSTHETA_BINS[i+1] - c\n",
    "        dp = mom_bins[j+1] - p\n",
    "        #Get efficiency\n",
    "        _slc_ = _slc.copy()\n",
    "        _slc_.data = _slc_.data[_slc_.data.best_muon.momentum_bin == j]\n",
    "        pur,eff,_ = _slc_.get_pur_eff_f1(CUTS)\n",
    "        #Get n_i,b_i\n",
    "        _slc_cut = _slc_.copy()\n",
    "        for cut in CUTS:\n",
    "            _slc_cut.apply_cut(cut)\n",
    "        n_i = _slc_cut.data.genweight[_slc_cut.data.truth.event_type == 0].sum()\n",
    "        b_i = _slc_cut.data.genweight[_slc_cut.data.truth.event_type != 0].sum()\n",
    "        #Get d2dx_dpdc\n",
    "        d2x_dpdc = (n_i-b_i)/(dc*dp*eff[-1]*NUMBER_TARGETS_FV*NUMU_INTEGRATED_FLUX)\n",
    "        #Get unc\n",
    "        stat_unc = 1/np.sqrt(n_i + b_i)\n",
    "        d2x_dpdc_dict[(i,j)] = {'dc':dc,'dp':dp,'eff':eff[-1],'pur':pur[-1],'n_i':n_i,'b_i':b_i,'stat_unc':stat_unc,'d2x_dpdc':d2x_dpdc,'mom_bins':mom_bins}\n"
   ]
  },
  {
   "cell_type": "code",
   "execution_count": null,
   "metadata": {},
   "outputs": [],
   "source": []
  },
  {
   "cell_type": "code",
   "execution_count": 65,
   "metadata": {},
   "outputs": [
    {
     "name": "stderr",
     "output_type": "stream",
     "text": [
      "0it [00:00, ?it/s]"
     ]
    },
    {
     "name": "stderr",
     "output_type": "stream",
     "text": [
      "7it [00:11,  1.59s/it]\n"
     ]
    }
   ],
   "source": [
    "#Get variables for single differential cross section\n",
    "dx_dp_dict = {} # keys are (momentum_bin)\n",
    "for i,p in tqdm(enumerate(momentum_bins)):\n",
    "    if i == len(momentum_bins)-1: continue\n",
    "    dp = momentum_bins[i+1] - p\n",
    "    #Get efficiency\n",
    "    _slc = slc.copy()\n",
    "    _slc.data = _slc.data[_slc.data.best_muon.momentum_bin == i]\n",
    "    pur,eff,_ = _slc.get_pur_eff_f1(CUTS)\n",
    "    #Get n_i,b_i\n",
    "    _slc_cut = _slc.copy()\n",
    "    for cut in CUTS:\n",
    "        _slc_cut.apply_cut(cut)\n",
    "    n_i = _slc_cut.data.genweight[_slc_cut.data.truth.event_type == 0].sum()\n",
    "    b_i = _slc_cut.data.genweight[_slc_cut.data.truth.event_type != 0].sum()\n",
    "    #Get xsec\n",
    "    dx_dp = (n_i-b_i)/(dp*eff[-1]*NUMBER_TARGETS_FV*NUMU_INTEGRATED_FLUX)\n",
    "    #Get unc\n",
    "    stat_unc = 1/np.sqrt(n_i + b_i)\n",
    "    dx_dp_dict[i] = {'dp':dp,'eff':eff[-1],'pur':pur[-1],'n_i':n_i,'b_i':b_i,'stat_unc':stat_unc,'dx_dp':dx_dp}"
   ]
  },
  {
   "cell_type": "code",
   "execution_count": 49,
   "metadata": {},
   "outputs": [
    {
     "name": "stderr",
     "output_type": "stream",
     "text": [
      "0it [00:00, ?it/s]"
     ]
    },
    {
     "name": "stderr",
     "output_type": "stream",
     "text": [
      "10it [00:15,  1.57s/it]\n"
     ]
    }
   ],
   "source": [
    "dx_dc_dict = {} # keys are (costheta_bin)\n",
    "for i,c in tqdm(enumerate(COSTHETA_BINS)):\n",
    "    if i == len(COSTHETA_BINS)-1: continue\n",
    "    dc = COSTHETA_BINS[i+1] - c\n",
    "    #Get efficiency\n",
    "    _slc = slc.copy()\n",
    "    _slc.data = _slc.data[_slc.data.best_muon.costheta_bin == i]\n",
    "    pur,eff,_ = _slc.get_pur_eff_f1(CUTS)\n",
    "    #Get n_i,b_i\n",
    "    _slc_cut = _slc.copy()\n",
    "    for cut in CUTS:\n",
    "        _slc_cut.apply_cut(cut)\n",
    "    n_i = _slc_cut.data.genweight[_slc_cut.data.truth.event_type == 0].sum()\n",
    "    b_i = _slc_cut.data.genweight[_slc_cut.data.truth.event_type != 0].sum()\n",
    "    #Get xsec\n",
    "    dx_dc = (n_i-b_i)/(dc*eff[-1]*NUMBER_TARGETS_FV*NUMU_INTEGRATED_FLUX)\n",
    "    #Get unc\n",
    "    stat_unc = 1/np.sqrt(n_i + b_i)\n",
    "    dx_dc_dict[i] = {'dc':dc,'eff':eff[-1],'pur':pur[-1],'n_i':n_i,'b_i':b_i,'stat_unc':stat_unc,'dx_dc':dx_dc}"
   ]
  },
  {
   "cell_type": "code",
   "execution_count": 50,
   "metadata": {},
   "outputs": [
    {
     "data": {
      "text/plain": [
       "({'dc': 0.5,\n",
       "  'dp': 0.18,\n",
       "  'eff': 0.4074074074074073,\n",
       "  'pur': 0.6111111111111109,\n",
       "  'n_i': 88.5315527469295,\n",
       "  'b_i': 56.33826083895514,\n",
       "  'stat_unc': 0.08308278564283073,\n",
       "  'd2x_dpdc': 1.6867329050888078e-41,\n",
       "  'mom_bins': [0.0, 0.18, 0.3, 0.45, 0.77, 2.5]},\n",
       " {'dc': 0.06000000000000005,\n",
       "  'eff': 0.7918276072372433,\n",
       "  'pur': 0.9197166469893743,\n",
       "  'n_i': 31348.217995390034,\n",
       "  'b_i': 2736.429812177821,\n",
       "  'stat_unc': 0.005416523036918624,\n",
       "  'dx_dc': 1.156952347585777e-38},\n",
       " {'dp': 1.0,\n",
       "  'eff': 0.7602230483271376,\n",
       "  'pur': 0.9359267734553777,\n",
       "  'n_i': 3291.7640975903787,\n",
       "  'b_i': 225.35304335582063,\n",
       "  'stat_unc': 0.01686190287498597,\n",
       "  'dx_dp': 7.748929322763298e-41})"
      ]
     },
     "execution_count": 50,
     "metadata": {},
     "output_type": "execute_result"
    }
   ],
   "source": [
    "d2x_dpdc_dict[(0,0)],dx_dc_dict[8],dx_dp_dict[8]"
   ]
  },
  {
   "cell_type": "markdown",
   "metadata": {},
   "source": [
    "## 3. Single Differential Plots\n",
    "$\\frac{d\\sigma}{dx} = \\frac{N_i-B_i}{\\epsilon_i n_t \\Phi dx_i}$"
   ]
  },
  {
   "cell_type": "code",
   "execution_count": 51,
   "metadata": {},
   "outputs": [
    {
     "data": {
      "image/png": "[encoded data removed]",
      "text/plain": [
       "<Figure size 432x288 with 1 Axes>"
      ]
     },
     "metadata": {
      "needs_background": "light"
     },
     "output_type": "display_data"
    }
   ],
   "source": [
    "#dx_dc\n",
    "dx_dcs = np.zeros(len(COSTHETA_BINS)-1)\n",
    "errs = dx_dcs.copy()\n",
    "scale = 1e38\n",
    "for i in range(len(COSTHETA_BINS)-1):\n",
    "    dx_dcs[i] = dx_dc_dict[i]['dx_dc']*scale\n",
    "    #TODO: incorperate systematic unc\n",
    "    errs[i] = dx_dc_dict[i]['stat_unc']*dx_dc_dict[i]['dx_dc']*scale\n",
    "\n",
    "fig,ax = plt.subplots(figsize=(6,4))\n",
    "makeplot.plot_hist_edges(COSTHETA_BINS,dx_dcs,errs,'',ax=ax)\n",
    "ax.set_xlabel(r'$\\cos\\theta_\\mu$')\n",
    "ax.set_ylabel(r'$\\frac{d\\sigma}{d\\cos\\theta_\\mu}$ [$10^{-38}$ cm$^2$]')\n",
    "ax.set_title(r'$\\nu_\\mu$ CC Inclusive')\n",
    "plotters.set_style(ax)\n",
    "plotters.add_label(ax,LABEL+'\\nNo Folding',where='topleft')\n",
    "if SAVE_PLOT:\n",
    "    plotters.save_plot(f'dx_dc',fig=fig,folder_name=PLOT_DIR)\n",
    "    #plt.close()"
   ]
  },
  {
   "cell_type": "code",
   "execution_count": 66,
   "metadata": {},
   "outputs": [
    {
     "data": {
      "image/png": "[encoded data removed]",
      "text/plain": [
       "<Figure size 432x288 with 1 Axes>"
      ]
     },
     "metadata": {
      "needs_background": "light"
     },
     "output_type": "display_data"
    }
   ],
   "source": [
    "#dx_dp\n",
    "dx_dps = np.zeros(len(momentum_bins)-1)\n",
    "errs = dx_dps.copy()\n",
    "scale = 1e38\n",
    "for i in range(len(momentum_bins)-1):\n",
    "    dx_dps[i] = dx_dp_dict[i]['dx_dp']*scale\n",
    "    errs[i] = dx_dp_dict[i]['stat_unc']*dx_dp_dict[i]['dx_dp']*scale\n",
    "\n",
    "fig,ax = plt.subplots(figsize=(6,4))\n",
    "makeplot.plot_hist_edges(momentum_bins,dx_dps,errs,'',ax=ax)\n",
    "ax.set_xlabel(r'$p_\\mu$ [GeV]')\n",
    "ax.set_ylabel(r'$\\frac{d\\sigma}{dp_\\mu}$ [$10^{-38}$ cm$^2$/GeV]')\n",
    "ax.set_title(r'$\\nu_\\mu$ CC Inclusive')\n",
    "plotters.set_style(ax)\n",
    "plotters.add_label(ax,LABEL+'\\nNo Folding',where='topright')\n",
    "if SAVE_PLOT:\n",
    "    plotters.save_plot(f'dx_dp',fig=fig,folder_name=PLOT_DIR)\n",
    "    #plt.close()"
   ]
  },
  {
   "cell_type": "markdown",
   "metadata": {},
   "source": [
    "## 4. Double Differential"
   ]
  },
  {
   "cell_type": "code",
   "execution_count": 53,
   "metadata": {},
   "outputs": [
    {
     "data": {
      "image/png": "[encoded data removed]",
      "text/plain": [
       "<Figure size 432x288 with 1 Axes>"
      ]
     },
     "metadata": {
      "needs_background": "light"
     },
     "output_type": "display_data"
    },
    {
     "data": {
      "image/png": "[encoded data removed]",
      "text/plain": [
       "<Figure size 432x288 with 1 Axes>"
      ]
     },
     "metadata": {
      "needs_background": "light"
     },
     "output_type": "display_data"
    },
    {
     "data": {
      "image/png": "[encoded data removed]",
      "text/plain": [
       "<Figure size 432x288 with 1 Axes>"
      ]
     },
     "metadata": {
      "needs_background": "light"
     },
     "output_type": "display_data"
    },
    {
     "data": {
      "image/png": "[encoded data removed]",
      "text/plain": [
       "<Figure size 432x288 with 1 Axes>"
      ]
     },
     "metadata": {
      "needs_background": "light"
     },
     "output_type": "display_data"
    },
    {
     "data": {
      "image/png": "[encoded data removed]",
      "text/plain": [
       "<Figure size 432x288 with 1 Axes>"
      ]
     },
     "metadata": {
      "needs_background": "light"
     },
     "output_type": "display_data"
    },
    {
     "data": {
      "image/png": "[encoded data removed]",
      "text/plain": [
       "<Figure size 432x288 with 1 Axes>"
      ]
     },
     "metadata": {
      "needs_background": "light"
     },
     "output_type": "display_data"
    },
    {
     "data": {
      "image/png": "[encoded data removed]",
      "text/plain": [
       "<Figure size 432x288 with 1 Axes>"
      ]
     },
     "metadata": {
      "needs_background": "light"
     },
     "output_type": "display_data"
    },
    {
     "data": {
      "image/png": "[encoded data removed]",
      "text/plain": [
       "<Figure size 432x288 with 1 Axes>"
      ]
     },
     "metadata": {
      "needs_background": "light"
     },
     "output_type": "display_data"
    },
    {
     "data": {
      "image/png": "[encoded data removed]",
      "text/plain": [
       "<Figure size 432x288 with 1 Axes>"
      ]
     },
     "metadata": {
      "needs_background": "light"
     },
     "output_type": "display_data"
    }
   ],
   "source": [
    "#d2x_dpdc\n",
    "d2x_dpdc = np.zeros((len(COSTHETA_BINS)-1,len(MOMENTUM_BINS)-1))\n",
    "errs = d2x_dpdc.copy()\n",
    "scale = 1e38\n",
    "for i in range(len(COSTHETA_BINS)-1):\n",
    "    mom_bins = EdgesP[i]\n",
    "    for j in range(len(mom_bins)-1):\n",
    "        d2x_dpdc[i,j] = d2x_dpdc_dict[(i,j)]['d2x_dpdc']*scale\n",
    "        errs[i,j] = d2x_dpdc_dict[(i,j)]['stat_unc']*d2x_dpdc_dict[(i,j)]['d2x_dpdc']*scale#*8.05\n",
    "\n",
    "#Make plots in costheta bins\n",
    "for i,c in enumerate(COSTHETA_BINS):\n",
    "    if i == len(COSTHETA_BINS)-1: continue\n",
    "    mom_bins = np.array(EdgesP[i])\n",
    "    _d2x_dpdc = d2x_dpdc[i][:len(mom_bins)-1]\n",
    "    _errs = errs[i][:len(mom_bins)-1]\n",
    "    fig,ax = plt.subplots(figsize=(6,4))\n",
    "    \n",
    "    makeplot.plot_hist_edges(mom_bins,_d2x_dpdc,_errs,'',ax=ax)\n",
    "    ax.set_xlabel(r'$p_\\mu$ [GeV]')\n",
    "    ax.set_ylabel(r'$\\frac{d^2\\sigma}{dp_\\mu \\ d\\cos\\theta_\\mu}$ [$10^{-38}$ cm$^2$/GeV/n]')\n",
    "    ax.set_title(r'$\\nu_\\mu$ CC Inclusive')\n",
    "    plotters.set_style(ax)\n",
    "    plotters.add_label(ax,LABEL+'\\nNo Folding\\n'+fr'{c} < $\\cos\\theta_\\mu$ < {COSTHETA_BINS[i+1]}',where='topright')\n",
    "    #plotters.add_label(ax,f'$\\cos\\\\theta_{{\\mu}}$ bin {i}',where='topleft')\n",
    "    if SAVE_PLOT:\n",
    "        plotters.save_plot(f'd2dx_dpdc_costheta_{i}',fig=fig,folder_name=PLOT_DIR)\n",
    "        #plt.close()\n"
   ]
  },
  {
   "cell_type": "code",
   "execution_count": 56,
   "metadata": {},
   "outputs": [
    {
     "data": {
      "text/plain": [
       "9.780976076555024"
      ]
     },
     "execution_count": 56,
     "metadata": {},
     "output_type": "execute_result"
    }
   ],
   "source": [
    "NUMU_INTEGRATED_FLUX/1e11"
   ]
  },
  {
   "cell_type": "code",
   "execution_count": 16,
   "metadata": {},
   "outputs": [
    {
     "data": {
      "text/plain": [
       "{'dc': 0.5,\n",
       " 'dp': 0.18,\n",
       " 'eff': 0.4074074074074073,\n",
       " 'pur': 0.6111111111111109,\n",
       " 'n_i': 88.5315527469295,\n",
       " 'b_i': 56.33826083895514,\n",
       " 'stat_unc': 0.08308278564283073,\n",
       " 'd2x_dpdc': 5.084410192372961e-40,\n",
       " 'mom_bins': [0.0, 0.18, 0.3, 0.45, 0.77, 2.5]}"
      ]
     },
     "execution_count": 16,
     "metadata": {},
     "output_type": "execute_result"
    }
   ],
   "source": [
    "d2x_dpdc_dict[(0,0)]"
   ]
  },
  {
   "cell_type": "code",
   "execution_count": 111,
   "metadata": {},
   "outputs": [
    {
     "data": {
      "text/plain": [
       "MultiIndex([(    'cont_tpc',            '',              '',    ''),\n",
       "            (    'costheta',            '',              '',    ''),\n",
       "            (      'dazzle',   'muonScore',              '',    ''),\n",
       "            (      'dazzle',         'pdg',              '',    ''),\n",
       "            (      'dazzle',   'pionScore',              '',    ''),\n",
       "            (      'dazzle', 'protonScore',              '',    ''),\n",
       "            (         'dir',           'x',              '',    ''),\n",
       "            (         'dir',           'y',              '',    ''),\n",
       "            (         'dir',           'z',              '',    ''),\n",
       "            (         'end',           'x',              '',    ''),\n",
       "            (         'end',           'y',              '',    ''),\n",
       "            (         'end',           'z',              '',    ''),\n",
       "            (      'energy',            '',              '',    ''),\n",
       "            (         'len',            '',              '',    ''),\n",
       "            (           'p',            '',              '',    ''),\n",
       "            ( 'prism_theta',            '',              '',    ''),\n",
       "            (       'start',           'x',              '',    ''),\n",
       "            (       'start',           'y',              '',    ''),\n",
       "            (       'start',           'z',              '',    ''),\n",
       "            (       'theta',            '',              '',    ''),\n",
       "            (       'truth',           'p',      'cont_tpc',    ''),\n",
       "            (       'truth',           'p',      'costheta',    ''),\n",
       "            (       'truth',           'p',           'end',   'x'),\n",
       "            (       'truth',           'p',           'end',   'y'),\n",
       "            (       'truth',           'p',           'end',   'z'),\n",
       "            (       'truth',           'p',          'endE',    ''),\n",
       "            (       'truth',           'p',   'end_process',    ''),\n",
       "            (       'truth',           'p',          'genp', 'tot'),\n",
       "            (       'truth',           'p',          'genp',   'x'),\n",
       "            (       'truth',           'p',          'genp',   'y'),\n",
       "            (       'truth',           'p',          'genp',   'z'),\n",
       "            (       'truth',           'p',           'pdg',    ''),\n",
       "            (       'truth',           'p',   'prism_theta',    ''),\n",
       "            (       'truth',           'p',         'start',   'x'),\n",
       "            (       'truth',           'p',         'start',   'y'),\n",
       "            (       'truth',           'p',         'start',   'z'),\n",
       "            (       'truth',           'p',        'startE',    ''),\n",
       "            (       'truth',           'p', 'start_process',    ''),\n",
       "            (       'truth',           'p',         'theta',    ''),\n",
       "            ('costheta_bin',            '',              '',    ''),\n",
       "            ('momentum_bin',            '',              '',    '')],\n",
       "           )"
      ]
     },
     "execution_count": 111,
     "metadata": {},
     "output_type": "execute_result"
    }
   ],
   "source": [
    "slc.data.best_muon.keys()"
   ]
  },
  {
   "cell_type": "code",
   "execution_count": null,
   "metadata": {},
   "outputs": [],
   "source": []
  }
 ],
 "metadata": {
  "kernelspec": {
   "display_name": "Python 3",
   "language": "python",
   "name": "python3"
  },
  "language_info": {
   "codemirror_mode": {
    "name": "ipython",
    "version": 3
   },
   "file_extension": ".py",
   "mimetype": "text/x-python",
   "name": "python",
   "nbconvert_exporter": "python",
   "pygments_lexer": "ipython3",
   "version": "3.9.10"
  }
 },
 "nbformat": 4,
 "nbformat_minor": 2
}
