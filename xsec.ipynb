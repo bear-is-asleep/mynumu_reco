{
 "cells": [
  {
   "cell_type": "code",
   "execution_count": 1,
   "metadata": {},
   "outputs": [
    {
     "name": "stdout",
     "output_type": "stream",
     "text": [
      "SBND imports: 36.19 s\n"
     ]
    }
   ],
   "source": [
    "#Boiler plate imports\n",
    "import pandas as pd\n",
    "import sys\n",
    "from time import time\n",
    "import matplotlib.pyplot as plt\n",
    "import numpy as np\n",
    "\n",
    "from tqdm import tqdm\n",
    "\n",
    "#SBND imports\n",
    "s0 = time()\n",
    "sys.path.append('/exp/sbnd/app/users/brindenc/analyze_sbnd/pyana')\n",
    "from sbnd.cafclasses.slice import CAFSlice\n",
    "from sbnd.cafclasses.pfp import PFP\n",
    "\n",
    "#Constants\n",
    "from sbnd.numu.numu_constants import *\n",
    "from sbnd.constants import *\n",
    "from sbnd.prism import PRISM_BINS\n",
    "\n",
    "#Plotters\n",
    "from sbnd.plotlibrary import makeplot\n",
    "from sbnd.general import plotters\n",
    "\n",
    "s1 = time()\n",
    "print(f'SBND imports: {s1-s0:.2f} s')\n",
    "\n",
    "%load_ext autoreload\n",
    "%autoreload 2"
   ]
  },
  {
   "cell_type": "code",
   "execution_count": 2,
   "metadata": {},
   "outputs": [],
   "source": [
    "#Constants/variables\n",
    "CUT_MODE = 'roc'\n",
    "#DATA_DIR  = '/exp/sbnd/data/users/brindenc/analyze_sbnd/numu/v09_78_04_wc_pandora'\n",
    "#DATA_DIR = '/exp/sbnd/data/users/brindenc/ML/test_fcl/debug_trackid/v4'\n",
    "DATA_DIR = '/exp/sbnd/data/users/brindenc/analyze_sbnd/numu/v09_82_02_01_pds_gain'\n",
    "FNAME = f'nom_processed_{CUT_MODE}.df'\n",
    "HDR_FNAME = 'nom.df'\n",
    "#FNAME = f'single_processed_{CUT_MODE}.df'\n",
    "#FNAME = 'single_cut_cosmics_processed.df'\n",
    "#HDR_FNAME = 'single.df'\n",
    "#FNAME = f'all_processed_{CUT_MODE}.df'\n",
    "#FNAME = 'all_processed_roc.df'\n",
    "#HDR_FNAME = 'all.df'\n",
    "#FNAME = 'test_processed.df'\n",
    "#HDR_FNAME = 'test.df'\n",
    "#NOM_POT = 0.6e20 # stats for first run\n",
    "LABEL = 'SBND Work in Progress\\n0.6e20 POT'\n",
    "PLOT_DIR = f'Plots/reco_{plotters.day}_{CUT_MODE}/xsec'\n",
    "SAVE_PLOT = True"
   ]
  },
  {
   "cell_type": "code",
   "execution_count": 3,
   "metadata": {},
   "outputs": [],
   "source": [
    "#Bins from MicroBooNE_CCInc_XSec_2DPcos_nu - https://github.com/NUISANCEMC/nuisance/blob/master/src/MicroBooNE/MicroBooNE_CCInc_XSec_2DPcos_nu.cxx\n",
    "#Momentum bin edges - \n",
    "EdgesP = [\n",
    "    [0.00, 0.18, 0.30, 0.45, 0.77, 2.50], # -1 to -0.5\n",
    "    [0.00, 0.18, 0.30, 0.45, 0.77, 2.50], # -0.5 to 0\n",
    "    [0.00, 0.18, 0.30, 0.45, 0.77, 2.50], # 0 to 0.27\n",
    "    [0.00, 0.30, 0.45, 0.77, 2.50], # 0.27 to 0.45 - removed dummy\n",
    "    [0.00, 0.30, 0.45, 0.77, 2.50], #  0.45 to 0.62 - removed dummy\n",
    "    [0.00, 0.30, 0.45, 0.77, 2.50], # 0.62 to 0.76 - removed dummy\n",
    "    [0.00, 0.30, 0.45, 0.77, 1.28, 2.50], # 0.76 to 0.86 \n",
    "    [0.00, 0.30, 0.45, 0.77, 1.28, 2.50], # 0.86 to 0.94\n",
    "    [0.00, 0.30, 0.45, 0.77, 1.28, 2.50], # 0.94 to 1\n",
    "    ]\n",
    "#Why tf does microboone use these bins? why? only god knows"
   ]
  },
  {
   "cell_type": "code",
   "execution_count": 4,
   "metadata": {},
   "outputs": [
    {
     "name": "stdout",
     "output_type": "stream",
     "text": [
      "--scaled by 8.05\n",
      "--scaling to POT: 7.45e+18 -> 6.00e+19\n",
      "--scaling to POT: 7.45e+18 -> 6.00e+19\n"
     ]
    }
   ],
   "source": [
    "#Get data and POT\n",
    "pfp = PFP.load(f'{DATA_DIR}/{FNAME}','pfp'\n",
    "               ,prism_bins=PRISM_BINS\n",
    "               ,momentum_bins=MOMENTUM_BINS\n",
    "               ,costheta_bins=COSTHETA_BINS\n",
    "               ,pot=NOM_POT)\n",
    "slc = CAFSlice.load(f'{DATA_DIR}/{FNAME}','slice'\n",
    "                    ,prism_bins=PRISM_BINS\n",
    "                    ,pot=NOM_POT)\n",
    "hdr = pd.read_hdf(f'{DATA_DIR}/{HDR_FNAME}',key='hdr')\n",
    "SAMPLE_POT = hdr.pot.sum()\n",
    "\n",
    "#Scale to nominal POT\n",
    "print(f'--scaled by {NOM_POT/SAMPLE_POT:.2f}')\n",
    "pfp.scale_to_pot(NOM_POT,SAMPLE_POT)\n",
    "slc.scale_to_pot(NOM_POT,SAMPLE_POT)"
   ]
  },
  {
   "cell_type": "code",
   "execution_count": 5,
   "metadata": {},
   "outputs": [
    {
     "data": {
      "text/plain": [
       "(array([0.22224323, 0.66998959, 0.81309471, 0.85877658, 0.92076491]),\n",
       " array([1.        , 0.7206205 , 0.61017594, 0.57319694, 0.49579174]),\n",
       " array([1.        , 0.69438333, 0.69717004, 0.68751007, 0.64453142]))"
      ]
     },
     "execution_count": 5,
     "metadata": {},
     "output_type": "execute_result"
    }
   ],
   "source": [
    "CUTS = ['cosmic','fv','trk','has_muon']\n",
    "pur,eff,f1 = slc.get_pur_eff_f1(['cosmic','fv','trk','has_muon'])\n",
    "pur,eff,f1"
   ]
  },
  {
   "cell_type": "markdown",
   "metadata": {},
   "source": [
    "## 2 Get XSec for bins"
   ]
  },
  {
   "cell_type": "code",
   "execution_count": 6,
   "metadata": {},
   "outputs": [
    {
     "name": "stderr",
     "output_type": "stream",
     "text": [
      "9it [01:02,  6.92s/it]\n"
     ]
    }
   ],
   "source": [
    "#First assign binnings, to get efficiency per bin - use truth value\n",
    "slc.assign_costheta_bins(key='best_muon.costheta',assign_key='best_muon.costheta_bin',costheta_bins=COSTHETA_BINS)"
   ]
  },
  {
   "cell_type": "code",
   "execution_count": 7,
   "metadata": {},
   "outputs": [
    {
     "name": "stderr",
     "output_type": "stream",
     "text": [
      "9it [00:51,  5.76s/it]\n"
     ]
    }
   ],
   "source": [
    "slc.assign_momentum_bins(key='best_muon.p',assign_key='best_muon.momentum_bin',momentum_bins=MOMENTUM_BINS)"
   ]
  },
  {
   "cell_type": "code",
   "execution_count": 8,
   "metadata": {},
   "outputs": [
    {
     "name": "stderr",
     "output_type": "stream",
     "text": [
      "5it [00:00,  9.01it/s]\n",
      "5it [00:00,  5.39it/s]\n",
      "5it [00:02,  2.06it/s]\n",
      "4it [00:01,  2.61it/s]\n",
      "4it [00:01,  2.36it/s]\n",
      "4it [00:01,  2.39it/s]\n",
      "5it [00:01,  2.55it/s]\n",
      "5it [00:01,  3.16it/s]\n",
      "5it [00:01,  3.56it/s]\n",
      "10it [00:45,  4.52s/it]\n"
     ]
    }
   ],
   "source": [
    "#Get variables for double differential cross section\n",
    "d2x_dpdc_dict = {} # keys are (costheta_bin,momentum_bin)\n",
    "\n",
    "for i,c in tqdm(enumerate(COSTHETA_BINS)):\n",
    "    if i == len(COSTHETA_BINS)-1: continue\n",
    "    mom_bins = EdgesP[i]\n",
    "    _slc = slc.copy()\n",
    "    _slc.data = _slc.data[_slc.data.best_muon.costheta_bin == i]\n",
    "    _slc.assign_momentum_bins(momentum_bins=mom_bins) #have to reassign since microboone uses wtf bins\n",
    "    for j,p in enumerate(mom_bins): #We will use MicroBoone binning for now\n",
    "        if j == len(mom_bins)-1: continue\n",
    "        dc = COSTHETA_BINS[i+1] - c\n",
    "        dp = mom_bins[j+1] - p\n",
    "        #Get efficiency\n",
    "        _slc_ = _slc.copy()\n",
    "        _slc_.data = _slc_.data[_slc_.data.best_muon.momentum_bin == j]\n",
    "        pur,eff,_ = _slc_.get_pur_eff_f1(CUTS)\n",
    "        #Get n_i,b_i\n",
    "        _slc_cut = _slc_.copy()\n",
    "        for cut in CUTS:\n",
    "            _slc_cut.apply_cut(cut)\n",
    "        n_i = _slc_cut.data.genweight[_slc_cut.data.truth.event_type == 0].sum()\n",
    "        b_i = _slc_cut.data.genweight[_slc_cut.data.truth.event_type != 0].sum()\n",
    "        #Get d2dx_dpdc\n",
    "        d2x_dpdc = (n_i-b_i)/(dc*dp*eff[-1]*NUMBER_TARGETS_FV*NUMU_INTEGRATED_FLUX)\n",
    "        #Get unc\n",
    "        stat_unc = 1/np.sqrt(n_i + b_i)\n",
    "        d2x_dpdc_dict[(i,j)] = {'dc':dc,'dp':dp,'eff':eff[-1],'pur':pur[-1],'n_i':n_i,'b_i':b_i,'stat_unc':stat_unc,'d2x_dpdc':d2x_dpdc,'mom_bins':mom_bins}\n"
   ]
  },
  {
   "cell_type": "code",
   "execution_count": 9,
   "metadata": {},
   "outputs": [
    {
     "name": "stderr",
     "output_type": "stream",
     "text": [
      "10it [00:18,  1.83s/it]\n"
     ]
    }
   ],
   "source": [
    "#Get variables for single differential cross section\n",
    "dx_dp_dict = {} # keys are (momentum_bin)\n",
    "for i,p in tqdm(enumerate(MOMENTUM_BINS)):\n",
    "    if i == len(MOMENTUM_BINS)-1: continue\n",
    "    dp = MOMENTUM_BINS[i+1] - p\n",
    "    #Get efficiency\n",
    "    _slc = slc.copy()\n",
    "    _slc.data = _slc.data[_slc.data.best_muon.momentum_bin == i]\n",
    "    pur,eff,_ = _slc.get_pur_eff_f1(CUTS)\n",
    "    #Get n_i,b_i\n",
    "    _slc_cut = _slc.copy()\n",
    "    for cut in CUTS:\n",
    "        _slc_cut.apply_cut(cut)\n",
    "    n_i = _slc_cut.data.genweight[_slc_cut.data.truth.event_type == 0].sum()\n",
    "    b_i = _slc_cut.data.genweight[_slc_cut.data.truth.event_type != 0].sum()\n",
    "    #Get xsec\n",
    "    dx_dp = (n_i-b_i)/(dp*eff[-1]*NUMBER_TARGETS_FV*NUMU_INTEGRATED_FLUX)\n",
    "    #Get unc\n",
    "    stat_unc = 1/np.sqrt(n_i + b_i)\n",
    "    dx_dp_dict[i] = {'dp':dp,'eff':eff[-1],'pur':pur[-1],'n_i':n_i,'b_i':b_i,'stat_unc':stat_unc,'dx_dp':dx_dp}"
   ]
  },
  {
   "cell_type": "code",
   "execution_count": 10,
   "metadata": {},
   "outputs": [
    {
     "name": "stderr",
     "output_type": "stream",
     "text": [
      "0it [00:00, ?it/s]"
     ]
    },
    {
     "name": "stderr",
     "output_type": "stream",
     "text": [
      "10it [00:18,  1.84s/it]\n"
     ]
    }
   ],
   "source": [
    "dx_dc_dict = {} # keys are (costheta_bin)\n",
    "for i,c in tqdm(enumerate(COSTHETA_BINS)):\n",
    "    if i == len(COSTHETA_BINS)-1: continue\n",
    "    dc = COSTHETA_BINS[i+1] - c\n",
    "    #Get efficiency\n",
    "    _slc = slc.copy()\n",
    "    _slc.data = _slc.data[_slc.data.best_muon.costheta_bin == i]\n",
    "    pur,eff,_ = _slc.get_pur_eff_f1(CUTS)\n",
    "    #Get n_i,b_i\n",
    "    _slc_cut = _slc.copy()\n",
    "    for cut in CUTS:\n",
    "        _slc_cut.apply_cut(cut)\n",
    "    n_i = _slc_cut.data.genweight[_slc_cut.data.truth.event_type == 0].sum()\n",
    "    b_i = _slc_cut.data.genweight[_slc_cut.data.truth.event_type != 0].sum()\n",
    "    #Get xsec\n",
    "    dx_dc = (n_i-b_i)/(dc*eff[-1]*NUMBER_TARGETS_FV*NUMU_INTEGRATED_FLUX)\n",
    "    #Get unc\n",
    "    stat_unc = 1/np.sqrt(n_i + b_i)\n",
    "    dx_dc_dict[i] = {'dc':dc,'eff':eff[-1],'pur':pur[-1],'n_i':n_i,'b_i':b_i,'stat_unc':stat_unc,'dx_dc':dx_dc}"
   ]
  },
  {
   "cell_type": "code",
   "execution_count": 11,
   "metadata": {},
   "outputs": [
    {
     "data": {
      "text/plain": [
       "({'dc': 0.5,\n",
       "  'dp': 0.18,\n",
       "  'eff': 0.4074074074074073,\n",
       "  'pur': 0.6111111111111109,\n",
       "  'n_i': 88.5315527469295,\n",
       "  'b_i': 56.33826083895514,\n",
       "  'stat_unc': 0.08308278564283073,\n",
       "  'd2x_dpdc': 4.237008493644134e-41,\n",
       "  'mom_bins': [0.0, 0.18, 0.3, 0.45, 0.77, 2.5]},\n",
       " {'dc': 0.06000000000000005,\n",
       "  'eff': 0.7918276072372433,\n",
       "  'pur': 0.9197166469893743,\n",
       "  'n_i': 31348.217995390034,\n",
       "  'b_i': 2736.429812177821,\n",
       "  'stat_unc': 0.005416523036918624,\n",
       "  'dx_dc': 2.906220011878148e-38},\n",
       " {'dp': 1.0,\n",
       "  'eff': 0.7602230483271376,\n",
       "  'pur': 0.9359267734553777,\n",
       "  'n_i': 3291.7640975903787,\n",
       "  'b_i': 225.35304335582063,\n",
       "  'stat_unc': 0.01686190287498597,\n",
       "  'dx_dp': 1.9465013849046564e-40})"
      ]
     },
     "execution_count": 11,
     "metadata": {},
     "output_type": "execute_result"
    }
   ],
   "source": [
    "d2x_dpdc_dict[(0,0)],dx_dc_dict[8],dx_dp_dict[8]"
   ]
  },
  {
   "cell_type": "markdown",
   "metadata": {},
   "source": [
    "## 3. Single Differential Plots\n",
    "$\\frac{d\\sigma}{dx} = \\frac{N_i-B_i}{\\epsilon_i n_t \\Phi dx_i}$"
   ]
  },
  {
   "cell_type": "code",
   "execution_count": 15,
   "metadata": {},
   "outputs": [],
   "source": [
    "#dx_dc\n",
    "dx_dcs = np.zeros(len(COSTHETA_BINS)-1)\n",
    "errs = dx_dcs.copy()\n",
    "scale = 1e38\n",
    "for i in range(len(COSTHETA_BINS)-1):\n",
    "    dx_dcs[i] = dx_dc_dict[i]['dx_dc']*scale\n",
    "    #TODO: incorperate systematic unc\n",
    "    errs[i] = dx_dc_dict[i]['stat_unc']*dx_dc_dict[i]['dx_dc']*scale\n",
    "\n",
    "fig,ax = plt.subplots(figsize=(6,4))\n",
    "makeplot.plot_hist_edges(COSTHETA_BINS,dx_dcs,errs,'',ax=ax)\n",
    "ax.set_xlabel(r'$\\cos\\theta_\\mu$')\n",
    "ax.set_ylabel(r'$\\frac{d\\sigma}{d\\cos\\theta_\\mu}$ [$10^{-38}$ cm$^2$]')\n",
    "ax.set_title(r'$\\nu_\\mu$ CC Inclusive')\n",
    "plotters.set_style(ax)\n",
    "plotters.add_label(ax,LABEL+'\\nNo Folding',where='topleft')\n",
    "if SAVE_PLOT:\n",
    "    plotters.save_plot(f'dx_dc',fig=fig,folder_name=PLOT_DIR)\n",
    "    #plt.close()"
   ]
  },
  {
   "cell_type": "code",
   "execution_count": 16,
   "metadata": {},
   "outputs": [],
   "source": [
    "#dx_dp\n",
    "dx_dps = np.zeros(len(MOMENTUM_BINS)-1)\n",
    "errs = dx_dps.copy()\n",
    "scale = 1e38\n",
    "for i in range(len(MOMENTUM_BINS)-1):\n",
    "    dx_dps[i] = dx_dp_dict[i]['dx_dp']*scale\n",
    "    errs[i] = dx_dp_dict[i]['stat_unc']*dx_dp_dict[i]['dx_dp']*scale\n",
    "\n",
    "fig,ax = plt.subplots(figsize=(6,4))\n",
    "makeplot.plot_hist_edges(MOMENTUM_BINS,dx_dps,errs,'',ax=ax)\n",
    "ax.set_xlabel(r'$p_\\mu$ [GeV]')\n",
    "ax.set_ylabel(r'$\\frac{d\\sigma}{dp_\\mu}$ [$10^{-38}$ cm$^2$]')\n",
    "ax.set_title(r'$\\nu_\\mu$ CC Inclusive')\n",
    "plotters.set_style(ax)\n",
    "plotters.add_label(ax,LABEL+'\\nNo Folding',where='topright')\n",
    "if SAVE_PLOT:\n",
    "    plotters.save_plot(f'dx_dp',fig=fig,folder_name=PLOT_DIR)\n",
    "    #plt.close()"
   ]
  },
  {
   "cell_type": "markdown",
   "metadata": {},
   "source": [
    "## 4. Double Differential"
   ]
  },
  {
   "cell_type": "code",
   "execution_count": 17,
   "metadata": {},
   "outputs": [],
   "source": [
    "#d2x_dpdc\n",
    "d2x_dpdc = np.zeros((len(COSTHETA_BINS)-1,len(MOMENTUM_BINS)-1))\n",
    "errs = d2x_dpdc.copy()\n",
    "scale = 1e38\n",
    "for i in range(len(COSTHETA_BINS)-1):\n",
    "    mom_bins = EdgesP[i]\n",
    "    for j in range(len(mom_bins)-1):\n",
    "        d2x_dpdc[i,j] = d2x_dpdc_dict[(i,j)]['d2x_dpdc']*scale\n",
    "        errs[i,j] = d2x_dpdc_dict[(i,j)]['stat_unc']*d2x_dpdc_dict[(i,j)]['d2x_dpdc']*scale#*8.05\n",
    "\n",
    "#Make plots in costheta bins\n",
    "for i,c in enumerate(COSTHETA_BINS):\n",
    "    if i == len(COSTHETA_BINS)-1: continue\n",
    "    mom_bins = np.array(EdgesP[i])\n",
    "    _d2x_dpdc = d2x_dpdc[i][:len(mom_bins)-1]\n",
    "    _errs = errs[i][:len(mom_bins)-1]\n",
    "    fig,ax = plt.subplots(figsize=(6,4))\n",
    "    \n",
    "    makeplot.plot_hist_edges(mom_bins,_d2x_dpdc,_errs,'',ax=ax)\n",
    "    ax.set_xlabel(r'$p_\\mu$ [GeV]')\n",
    "    ax.set_ylabel(r'$\\frac{d^2\\sigma}{dp_\\mu \\ d\\cos\\theta_\\mu}$ [$10^{-38}$ cm$^2$]')\n",
    "    ax.set_title(r'$\\nu_\\mu$ CC Inclusive')\n",
    "    plotters.set_style(ax)\n",
    "    plotters.add_label(ax,LABEL+'\\nNo Folding\\n'+fr'{c} < $\\cos\\theta_\\mu$ < {COSTHETA_BINS[i+1]}',where='topright')\n",
    "    #plotters.add_label(ax,f'$\\cos\\\\theta_{{\\mu}}$ bin {i}',where='topleft')\n",
    "    if SAVE_PLOT:\n",
    "        plotters.save_plot(f'd2dx_dpdc_costheta_{i}',fig=fig,folder_name=PLOT_DIR)\n",
    "        #plt.close()\n"
   ]
  },
  {
   "cell_type": "code",
   "execution_count": 134,
   "metadata": {},
   "outputs": [
    {
     "data": {
      "text/plain": [
       "{'dc': 0.5,\n",
       " 'dp': 0.18,\n",
       " 'eff': 0.5789855072463767,\n",
       " 'pur': 0.5301924353019243,\n",
       " 'n_i': 6430.610058617878,\n",
       " 'b_i': 5698.212667711462,\n",
       " 'stat_unc': 0.009080100925773547,\n",
       " 'd2x_dpdc': 6.782689928324905e-40,\n",
       " 'mom_bins': [0.0, 0.18, 0.3, 0.45, 0.77, 2.5]}"
      ]
     },
     "execution_count": 134,
     "metadata": {},
     "output_type": "execute_result"
    }
   ],
   "source": [
    "d2x_dpdc_dict[(0,0)]"
   ]
  },
  {
   "cell_type": "code",
   "execution_count": 111,
   "metadata": {},
   "outputs": [
    {
     "data": {
      "text/plain": [
       "MultiIndex([(    'cont_tpc',            '',              '',    ''),\n",
       "            (    'costheta',            '',              '',    ''),\n",
       "            (      'dazzle',   'muonScore',              '',    ''),\n",
       "            (      'dazzle',         'pdg',              '',    ''),\n",
       "            (      'dazzle',   'pionScore',              '',    ''),\n",
       "            (      'dazzle', 'protonScore',              '',    ''),\n",
       "            (         'dir',           'x',              '',    ''),\n",
       "            (         'dir',           'y',              '',    ''),\n",
       "            (         'dir',           'z',              '',    ''),\n",
       "            (         'end',           'x',              '',    ''),\n",
       "            (         'end',           'y',              '',    ''),\n",
       "            (         'end',           'z',              '',    ''),\n",
       "            (      'energy',            '',              '',    ''),\n",
       "            (         'len',            '',              '',    ''),\n",
       "            (           'p',            '',              '',    ''),\n",
       "            ( 'prism_theta',            '',              '',    ''),\n",
       "            (       'start',           'x',              '',    ''),\n",
       "            (       'start',           'y',              '',    ''),\n",
       "            (       'start',           'z',              '',    ''),\n",
       "            (       'theta',            '',              '',    ''),\n",
       "            (       'truth',           'p',      'cont_tpc',    ''),\n",
       "            (       'truth',           'p',      'costheta',    ''),\n",
       "            (       'truth',           'p',           'end',   'x'),\n",
       "            (       'truth',           'p',           'end',   'y'),\n",
       "            (       'truth',           'p',           'end',   'z'),\n",
       "            (       'truth',           'p',          'endE',    ''),\n",
       "            (       'truth',           'p',   'end_process',    ''),\n",
       "            (       'truth',           'p',          'genp', 'tot'),\n",
       "            (       'truth',           'p',          'genp',   'x'),\n",
       "            (       'truth',           'p',          'genp',   'y'),\n",
       "            (       'truth',           'p',          'genp',   'z'),\n",
       "            (       'truth',           'p',           'pdg',    ''),\n",
       "            (       'truth',           'p',   'prism_theta',    ''),\n",
       "            (       'truth',           'p',         'start',   'x'),\n",
       "            (       'truth',           'p',         'start',   'y'),\n",
       "            (       'truth',           'p',         'start',   'z'),\n",
       "            (       'truth',           'p',        'startE',    ''),\n",
       "            (       'truth',           'p', 'start_process',    ''),\n",
       "            (       'truth',           'p',         'theta',    ''),\n",
       "            ('costheta_bin',            '',              '',    ''),\n",
       "            ('momentum_bin',            '',              '',    '')],\n",
       "           )"
      ]
     },
     "execution_count": 111,
     "metadata": {},
     "output_type": "execute_result"
    }
   ],
   "source": [
    "slc.data.best_muon.keys()"
   ]
  },
  {
   "cell_type": "code",
   "execution_count": null,
   "metadata": {},
   "outputs": [],
   "source": []
  }
 ],
 "metadata": {
  "kernelspec": {
   "display_name": "Python 3",
   "language": "python",
   "name": "python3"
  },
  "language_info": {
   "codemirror_mode": {
    "name": "ipython",
    "version": 3
   },
   "file_extension": ".py",
   "mimetype": "text/x-python",
   "name": "python",
   "nbconvert_exporter": "python",
   "pygments_lexer": "ipython3",
   "version": "3.9.10"
  }
 },
 "nbformat": 4,
 "nbformat_minor": 2
}
