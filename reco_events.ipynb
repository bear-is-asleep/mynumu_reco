{
 "cells": [
  {
   "cell_type": "code",
   "execution_count": 1,
   "metadata": {},
   "outputs": [
    {
     "name": "stdout",
     "output_type": "stream",
     "text": [
      "SBND imports: 23.43 s\n"
     ]
    }
   ],
   "source": [
    "#Boiler plate imports\n",
    "import pandas as pd\n",
    "import sys\n",
    "from time import time\n",
    "import matplotlib.pyplot as plt\n",
    "\n",
    "#SBND imports\n",
    "s0 = time()\n",
    "sys.path.append('/sbnd/app/users/brindenc/mysbnana_v09_75_03/srcs/sbnana/sbnana/SBNAna/pyana')\n",
    "from sbnd.general import utils\n",
    "from sbnd.cafclasses.slice import CAFSlice\n",
    "from sbnd.cafclasses.pfp import PFP\n",
    "\n",
    "#Constants\n",
    "from sbnd.numu.numu_constants import *\n",
    "from sbnd.prism import PRISM_BINS\n",
    "from sbnd.constants import *\n",
    "\n",
    "#Plotters\n",
    "from sbnd.plotlibrary import makeplot\n",
    "from sbnd.general import plotters\n",
    "\n",
    "s1 = time()\n",
    "print(f'SBND imports: {s1-s0:.2f} s')\n",
    "\n",
    "%load_ext autoreload\n",
    "%autoreload 2"
   ]
  },
  {
   "cell_type": "markdown",
   "metadata": {},
   "source": [
    "# 1. Load Data"
   ]
  },
  {
   "cell_type": "code",
   "execution_count": 2,
   "metadata": {},
   "outputs": [],
   "source": [
    "#Constants/variables\n",
    "#DATA_DIR  = '/exp/sbnd/data/users/brindenc/analyze_sbnd/numu/v09_78_04_wc_pandora'\n",
    "DATA_DIR = '/exp/sbnd/data/users/brindenc/ML/test_fcl/debug_trackid/v4'\n",
    "# FNAME = 'single_processed.df'\n",
    "# HDR_FNAME = 'single.df'\n",
    "#FNAME = 'all_processed.df'\n",
    "#HDR_FNAME = 'all.df'\n",
    "FNAME = 'test_processed.df'\n",
    "HDR_FNAME = 'test.df'\n",
    "NOM_POT = 0.6e20 # stats for first run\n",
    "LABEL = 'SBND Work in Progress\\n0.6e20 POT'\n",
    "PLOT_DIR = f'Plots/reco_{plotters.day}'\n",
    "SAVE_PLOT = False\n"
   ]
  },
  {
   "cell_type": "code",
   "execution_count": 3,
   "metadata": {},
   "outputs": [
    {
     "name": "stdout",
     "output_type": "stream",
     "text": [
      "--scaling to POT: 2.22e+14 -> 6.00e+19\n",
      "--scaling to POT: 2.22e+14 -> 6.00e+19\n"
     ]
    }
   ],
   "source": [
    "#Get data and POT\n",
    "pfp = PFP.load(f'{DATA_DIR}/{FNAME}','pfp'\n",
    "               ,prism_bins=PRISM_BINS\n",
    "               ,momentum_bins=MOMENTUM_BINS\n",
    "               ,costheta_bins=COSTHETA_BINS\n",
    "               ,pot=NOM_POT)\n",
    "slc = CAFSlice.load(f'{DATA_DIR}/{FNAME}','slice'\n",
    "                    ,prism_bins=PRISM_BINS\n",
    "                    ,pot=NOM_POT)\n",
    "hdr = pd.read_hdf(f'{DATA_DIR}/{HDR_FNAME}',key='hdr')\n",
    "SAMPLE_POT = hdr.pot.sum()\n",
    "\n",
    "#Scale to nominal POT\n",
    "pfp.scale_to_pot(NOM_POT,SAMPLE_POT)\n",
    "slc.scale_to_pot(NOM_POT,SAMPLE_POT)"
   ]
  },
  {
   "cell_type": "markdown",
   "metadata": {},
   "source": [
    "## 2. Before Cuts"
   ]
  },
  {
   "cell_type": "markdown",
   "metadata": {},
   "source": [
    "### 2.1 True event type distributions"
   ]
  },
  {
   "cell_type": "code",
   "execution_count": 4,
   "metadata": {},
   "outputs": [
    {
     "ename": "IndexError",
     "evalue": "index 0 is out of bounds for axis 0 with size 0",
     "output_type": "error",
     "traceback": [
      "\u001b[0;31m---------------------------------------------------------------------------\u001b[0m",
      "\u001b[0;31mIndexError\u001b[0m                                Traceback (most recent call last)",
      "Input \u001b[0;32mIn [4]\u001b[0m, in \u001b[0;36m<cell line: 4>\u001b[0;34m()\u001b[0m\n\u001b[1;32m      1\u001b[0m \u001b[38;5;66;03m#Get interaction types\u001b[39;00m\n\u001b[1;32m      2\u001b[0m \u001b[38;5;66;03m#slc_unk = CAFSlice(slc.data[slc.data.truth.event_type == -1])\u001b[39;00m\n\u001b[1;32m      3\u001b[0m slc_numucc \u001b[38;5;241m=\u001b[39m CAFSlice(slc\u001b[38;5;241m.\u001b[39mdata[slc\u001b[38;5;241m.\u001b[39mdata\u001b[38;5;241m.\u001b[39mtruth\u001b[38;5;241m.\u001b[39mevent_type \u001b[38;5;241m==\u001b[39m \u001b[38;5;241m0\u001b[39m])\n\u001b[0;32m----> 4\u001b[0m slc_nc \u001b[38;5;241m=\u001b[39m \u001b[43mCAFSlice\u001b[49m\u001b[43m(\u001b[49m\u001b[43mslc\u001b[49m\u001b[38;5;241;43m.\u001b[39;49m\u001b[43mdata\u001b[49m\u001b[43m[\u001b[49m\u001b[43mslc\u001b[49m\u001b[38;5;241;43m.\u001b[39;49m\u001b[43mdata\u001b[49m\u001b[38;5;241;43m.\u001b[39;49m\u001b[43mtruth\u001b[49m\u001b[38;5;241;43m.\u001b[39;49m\u001b[43mevent_type\u001b[49m\u001b[43m \u001b[49m\u001b[38;5;241;43m==\u001b[39;49m\u001b[43m \u001b[49m\u001b[38;5;241;43m1\u001b[39;49m\u001b[43m]\u001b[49m\u001b[43m)\u001b[49m\n\u001b[1;32m      5\u001b[0m slc_nuecc \u001b[38;5;241m=\u001b[39m CAFSlice(slc\u001b[38;5;241m.\u001b[39mdata[slc\u001b[38;5;241m.\u001b[39mdata\u001b[38;5;241m.\u001b[39mtruth\u001b[38;5;241m.\u001b[39mevent_type \u001b[38;5;241m==\u001b[39m \u001b[38;5;241m2\u001b[39m])\n\u001b[1;32m      6\u001b[0m slc_cosmic \u001b[38;5;241m=\u001b[39m CAFSlice(slc\u001b[38;5;241m.\u001b[39mdata[slc\u001b[38;5;241m.\u001b[39mdata\u001b[38;5;241m.\u001b[39mtruth\u001b[38;5;241m.\u001b[39mevent_type \u001b[38;5;241m==\u001b[39m \u001b[38;5;241m3\u001b[39m])\n",
      "File \u001b[0;32m/exp/sbnd/app/users/brindenc/mysbnana_v09_75_03/srcs/sbnana/sbnana/SBNAna/pyana/sbnd/cafclasses/slice.py:16\u001b[0m, in \u001b[0;36mCAFSlice.__init__\u001b[0;34m(self, data, **kwargs)\u001b[0m\n\u001b[1;32m     15\u001b[0m \u001b[38;5;28;01mdef\u001b[39;00m \u001b[38;5;21m__init__\u001b[39m(\u001b[38;5;28mself\u001b[39m,data,\u001b[38;5;241m*\u001b[39m\u001b[38;5;241m*\u001b[39mkwargs):\n\u001b[0;32m---> 16\u001b[0m   \u001b[38;5;28;43msuper\u001b[39;49m\u001b[43m(\u001b[49m\u001b[43m)\u001b[49m\u001b[38;5;241;43m.\u001b[39;49m\u001b[38;5;21;43m__init__\u001b[39;49m\u001b[43m(\u001b[49m\u001b[43mdata\u001b[49m\u001b[43m,\u001b[49m\u001b[38;5;241;43m*\u001b[39;49m\u001b[38;5;241;43m*\u001b[39;49m\u001b[43mkwargs\u001b[49m\u001b[43m)\u001b[49m\n",
      "File \u001b[0;32m/exp/sbnd/app/users/brindenc/mysbnana_v09_75_03/srcs/sbnana/sbnana/SBNAna/pyana/sbnd/cafclasses/parent.py:23\u001b[0m, in \u001b[0;36mCAF.__init__\u001b[0;34m(self, data, prism_bins, pot, **kwargs)\u001b[0m\n\u001b[1;32m     21\u001b[0m \u001b[38;5;28mself\u001b[39m\u001b[38;5;241m.\u001b[39mpot \u001b[38;5;241m=\u001b[39m pot \u001b[38;5;66;03m#POT to make sample\u001b[39;00m\n\u001b[1;32m     22\u001b[0m \u001b[38;5;28mself\u001b[39m\u001b[38;5;241m.\u001b[39mkey_depth \u001b[38;5;241m=\u001b[39m \u001b[38;5;28mself\u001b[39m\u001b[38;5;241m.\u001b[39mkey_length() \u001b[38;5;66;03m#depth of keys\u001b[39;00m\n\u001b[0;32m---> 23\u001b[0m \u001b[38;5;28mself\u001b[39m\u001b[38;5;241m.\u001b[39mindex_depth \u001b[38;5;241m=\u001b[39m \u001b[38;5;28mlen\u001b[39m(\u001b[38;5;28;43mself\u001b[39;49m\u001b[38;5;241;43m.\u001b[39;49m\u001b[43mdata\u001b[49m\u001b[38;5;241;43m.\u001b[39;49m\u001b[43mindex\u001b[49m\u001b[38;5;241;43m.\u001b[39;49m\u001b[43mvalues\u001b[49m\u001b[43m[\u001b[49m\u001b[38;5;241;43m0\u001b[39;49m\u001b[43m]\u001b[49m) \u001b[38;5;66;03m#depth of indices\u001b[39;00m\n\u001b[1;32m     24\u001b[0m \u001b[38;5;28mself\u001b[39m\u001b[38;5;241m.\u001b[39mindex_names \u001b[38;5;241m=\u001b[39m \u001b[38;5;28mself\u001b[39m\u001b[38;5;241m.\u001b[39mdata\u001b[38;5;241m.\u001b[39mindex\u001b[38;5;241m.\u001b[39mnames \u001b[38;5;66;03m#names of indices\u001b[39;00m\n\u001b[1;32m     25\u001b[0m \u001b[38;5;28mself\u001b[39m\u001b[38;5;241m.\u001b[39mcheck_for_duplicates() \u001b[38;5;66;03m#assert there are no indexing duplicates \u001b[39;00m\n",
      "\u001b[0;31mIndexError\u001b[0m: index 0 is out of bounds for axis 0 with size 0"
     ]
    }
   ],
   "source": [
    "#Get interaction types - won't work if there are no events of a given type\n",
    "#slc_unk = CAFSlice(slc.data[slc.data.truth.event_type == -1])\n",
    "slc_numucc = CAFSlice(slc.data[slc.data.truth.event_type == 0])\n",
    "slc_nc = CAFSlice(slc.data[slc.data.truth.event_type == 1])\n",
    "slc_nuecc = CAFSlice(slc.data[slc.data.truth.event_type == 2])\n",
    "slc_cosmic = CAFSlice(slc.data[slc.data.truth.event_type == 3])\n",
    "slc_dirt = CAFSlice(slc.data[slc.data.truth.event_type == 4])\n",
    "slcs = [slc_numucc,slc_nc,slc_nuecc,slc_cosmic,slc_dirt]\n",
    "\n",
    "#Get associated PFPs\n",
    "#pfp_unk = pfp.get_reference_df(slc_unk)\n",
    "pfp_numucc_df = pfp.get_reference_df(slc_numucc)\n",
    "pfp_nc_df = pfp.get_reference_df(slc_nc)\n",
    "pfp_nuecc_df = pfp.get_reference_df(slc_nuecc)\n",
    "pfp_cosmic_df = pfp.get_reference_df(slc_cosmic)\n",
    "pfp_dirt_df = pfp.get_reference_df(slc_dirt)\n",
    "\n",
    "pfp_dfs = [pfp_numucc_df,pfp_nc_df,pfp_nuecc_df,pfp_cosmic_df,pfp_dirt_df]"
   ]
  },
  {
   "cell_type": "code",
   "execution_count": 5,
   "metadata": {},
   "outputs": [
    {
     "ename": "NameError",
     "evalue": "name 'slcs' is not defined",
     "output_type": "error",
     "traceback": [
      "\u001b[0;31m---------------------------------------------------------------------------\u001b[0m",
      "\u001b[0;31mNameError\u001b[0m                                 Traceback (most recent call last)",
      "Input \u001b[0;32mIn [5]\u001b[0m, in \u001b[0;36m<cell line: 13>\u001b[0;34m()\u001b[0m\n\u001b[1;32m     10\u001b[0m     names\u001b[38;5;241m.\u001b[39mappend(item[\u001b[38;5;241m1\u001b[39m])\n\u001b[1;32m     11\u001b[0m     colors\u001b[38;5;241m.\u001b[39mappend(item[\u001b[38;5;241m2\u001b[39m])\n\u001b[0;32m---> 13\u001b[0m weights \u001b[38;5;241m=\u001b[39m [s\u001b[38;5;241m.\u001b[39mdata\u001b[38;5;241m.\u001b[39mgenweight \u001b[38;5;28;01mfor\u001b[39;00m s \u001b[38;5;129;01min\u001b[39;00m \u001b[43mslcs\u001b[49m]\n",
      "\u001b[0;31mNameError\u001b[0m: name 'slcs' is not defined"
     ]
    }
   ],
   "source": [
    "#Get label info\n",
    "labels = []\n",
    "names = []\n",
    "colors = []\n",
    "\n",
    "for key,item in EVENT_TYPE_LIST.items():\n",
    "    if key == -1: #no unknown for now\n",
    "        continue\n",
    "    labels.append(item[0])\n",
    "    names.append(item[1])\n",
    "    colors.append(item[2])\n",
    "\n",
    "weights = [s.data.genweight for s in slcs]"
   ]
  },
  {
   "cell_type": "code",
   "execution_count": 6,
   "metadata": {},
   "outputs": [
    {
     "ename": "NameError",
     "evalue": "name 'slcs' is not defined",
     "output_type": "error",
     "traceback": [
      "\u001b[0;31m---------------------------------------------------------------------------\u001b[0m",
      "\u001b[0;31mNameError\u001b[0m                                 Traceback (most recent call last)",
      "Input \u001b[0;32mIn [6]\u001b[0m, in \u001b[0;36m<cell line: 2>\u001b[0;34m()\u001b[0m\n\u001b[1;32m      1\u001b[0m \u001b[38;5;66;03m#Pandora score hist\u001b[39;00m\n\u001b[0;32m----> 2\u001b[0m scores \u001b[38;5;241m=\u001b[39m [s\u001b[38;5;241m.\u001b[39mdata\u001b[38;5;241m.\u001b[39mnu_score \u001b[38;5;28;01mfor\u001b[39;00m s \u001b[38;5;129;01min\u001b[39;00m \u001b[43mslcs\u001b[49m]\n\u001b[1;32m      3\u001b[0m bins \u001b[38;5;241m=\u001b[39m np\u001b[38;5;241m.\u001b[39marange(\u001b[38;5;241m0\u001b[39m,\u001b[38;5;241m1.05\u001b[39m,\u001b[38;5;241m0.05\u001b[39m)\n\u001b[1;32m      4\u001b[0m \u001b[38;5;28;01mfor\u001b[39;00m dens \u001b[38;5;129;01min\u001b[39;00m [\u001b[38;5;28;01mTrue\u001b[39;00m,\u001b[38;5;28;01mFalse\u001b[39;00m]:\n",
      "\u001b[0;31mNameError\u001b[0m: name 'slcs' is not defined"
     ]
    }
   ],
   "source": [
    "#Pandora score hist\n",
    "scores = [s.data.nu_score for s in slcs]\n",
    "bins = np.arange(0,1.05,0.05)\n",
    "for dens in [True,False]:\n",
    "    fig,ax = makeplot.plot_hist(scores,labels,xlabel=r'Pandora $\\nu$-score',colors=colors,weights=weights\n",
    "                    ,histtype='step',lw=2,bins=bins,density=dens)\n",
    "    if dens: ax.set_ylabel('Density')\n",
    "    else: ax.set_ylabel('Events')\n",
    "    plotters.add_label(ax,LABEL,where='topleft',color='gray',fontsize=10)\n",
    "    plotters.set_style(ax)\n",
    "    if SAVE_PLOT:\n",
    "        if dens: plot_dir = f'{PLOT_DIR}/dens'\n",
    "        else: plot_dir = f'{PLOT_DIR}/counts'\n",
    "        plotters.save_plot('nu_score_precut',fig=fig,folder_name=plot_dir)\n",
    "        plt.close()\n",
    "        "
   ]
  },
  {
   "cell_type": "code",
   "execution_count": 60,
   "metadata": {},
   "outputs": [],
   "source": [
    "#Flash matching score hist\n",
    "scores = [s.data.fmatch.score for s in slcs]\n",
    "bins = np.arange(0,50,2)\n",
    "for dens in [True,False]:\n",
    "    fig,ax = makeplot.plot_hist(scores,labels,xlabel=r'Flash matching score',colors=colors,weights=weights\n",
    "                                ,histtype='step',lw=2,bins=bins,density=dens)\n",
    "    if dens: ax.set_ylabel('Density')\n",
    "    else: ax.set_ylabel('Events')\n",
    "    plotters.add_label(ax,LABEL,where='topleft',color='gray',fontsize=10)\n",
    "    plotters.set_style(ax)\n",
    "    if SAVE_PLOT:\n",
    "        if dens: plot_dir = f'{PLOT_DIR}/dens'\n",
    "        else: plot_dir = f'{PLOT_DIR}/counts'\n",
    "        plotters.save_plot('fmatch_score_precut',fig=fig,folder_name=plot_dir)\n",
    "        plt.close()"
   ]
  },
  {
   "cell_type": "code",
   "execution_count": 61,
   "metadata": {},
   "outputs": [],
   "source": [
    "#Number of particles\n",
    "npfps = [s.data.npfp for s in slcs]\n",
    "ntrks = [s.data.ntrk for s in slcs]\n",
    "nshws = [s.data.nshw for s in slcs]\n",
    "tnpfps = [s.data.truth.npfp for s in slcs]\n",
    "tntrks = [s.data.truth.ntrk for s in slcs]\n",
    "tnshws = [s.data.truth.nshw for s in slcs]\n",
    "bins = np.arange(0,10,1)\n",
    "for dens in [True,False]:\n",
    "    #PFP\n",
    "    fig,ax = makeplot.plot_hist(npfps,labels,xlabel=r'Number of PFPs',colors=colors,weights=weights\n",
    "                                ,histtype='step',lw=2,bins=bins,density=dens)\n",
    "    if dens: ax.set_ylabel('Density')\n",
    "    else: ax.set_ylabel('Events')\n",
    "    plotters.add_label(ax,LABEL,where='topleft',color='gray',fontsize=10)\n",
    "    plotters.set_style(ax)\n",
    "    if SAVE_PLOT:\n",
    "        if dens: plot_dir = f'{PLOT_DIR}/dens'\n",
    "        else: plot_dir = f'{PLOT_DIR}/counts'\n",
    "        plotters.save_plot('npfp_precut',fig=fig,folder_name=plot_dir)\n",
    "        plt.close()\n",
    "    #Trks\n",
    "    fig,ax = makeplot.plot_hist(ntrks,labels,xlabel=r'Number of tracks',colors=colors,weights=weights\n",
    "                                ,histtype='step',lw=2,bins=bins,density=dens)\n",
    "    if dens: ax.set_ylabel('Density')\n",
    "    else: ax.set_ylabel('Events')\n",
    "    plotters.add_label(ax,LABEL,where='topleft',color='gray',fontsize=10)\n",
    "    plotters.set_style(ax)\n",
    "    if SAVE_PLOT:\n",
    "        if dens: plot_dir = f'{PLOT_DIR}/dens'\n",
    "        else: plot_dir = f'{PLOT_DIR}/counts'\n",
    "        plotters.save_plot('ntrk_precut',fig=fig,folder_name=plot_dir)\n",
    "        plt.close()\n",
    "    #Shws\n",
    "    fig,ax = makeplot.plot_hist(nshws,labels,xlabel=r'Number of showers',colors=colors,weights=weights\n",
    "                                ,histtype='step',lw=2,bins=bins,density=dens)\n",
    "    if dens: ax.set_ylabel('Density')\n",
    "    else: ax.set_ylabel('Events')\n",
    "    plotters.add_label(ax,LABEL,where='topleft',color='gray',fontsize=10)\n",
    "    plotters.set_style(ax)\n",
    "    if SAVE_PLOT:\n",
    "        if dens: plot_dir = f'{PLOT_DIR}/dens'\n",
    "        else: plot_dir = f'{PLOT_DIR}/counts'\n",
    "        plotters.save_plot('nshw_precut',fig=fig,folder_name=plot_dir)\n",
    "        plt.close()\n",
    "    #Truth PFP\n",
    "    fig,ax = makeplot.plot_hist(tnpfps,labels,xlabel=r'Number of truth PFPs',colors=colors,weights=weights\n",
    "                                ,histtype='step',lw=2,bins=bins,density=dens)\n",
    "    if dens: ax.set_ylabel('Density')\n",
    "    else: ax.set_ylabel('Events')\n",
    "    plotters.add_label(ax,LABEL,where='topleft',color='gray',fontsize=10)\n",
    "    plotters.set_style(ax)\n",
    "    if SAVE_PLOT:\n",
    "        if dens: plot_dir = f'{PLOT_DIR}/dens'\n",
    "        else: plot_dir = f'{PLOT_DIR}/counts'\n",
    "        plotters.save_plot('tnpfp_precut',fig=fig,folder_name=plot_dir)\n",
    "        plt.close()\n",
    "    #Truth Trks\n",
    "    fig,ax = makeplot.plot_hist(tntrks,labels,xlabel=r'Number of truth tracks',colors=colors,weights=weights\n",
    "                                ,histtype='step',lw=2,bins=bins,density=dens)\n",
    "    if dens: ax.set_ylabel('Density')\n",
    "    else: ax.set_ylabel('Events')\n",
    "    plotters.add_label(ax,LABEL,where='topleft',color='gray',fontsize=10)\n",
    "    plotters.set_style(ax)\n",
    "    if SAVE_PLOT:\n",
    "        if dens: plot_dir = f'{PLOT_DIR}/dens'\n",
    "        else: plot_dir = f'{PLOT_DIR}/counts'\n",
    "        plotters.save_plot('tntrk_precut',fig=fig,folder_name=plot_dir)\n",
    "        plt.close()\n",
    "    #Truth Shws\n",
    "    fig,ax = makeplot.plot_hist(tnshws,labels,xlabel=r'Number of truth showers',colors=colors,weights=weights\n",
    "                                ,histtype='step',lw=2,bins=bins,density=dens)\n",
    "    if dens: ax.set_ylabel('Density')\n",
    "    else: ax.set_ylabel('Events')\n",
    "    plotters.add_label(ax,LABEL,where='topleft',color='gray',fontsize=10)\n",
    "    plotters.set_style(ax)\n",
    "    if SAVE_PLOT:\n",
    "        if dens: plot_dir = f'{PLOT_DIR}/dens'\n",
    "        else: plot_dir = f'{PLOT_DIR}/counts'\n",
    "        plotters.save_plot('tnshw_precut',fig=fig,folder_name=plot_dir)\n",
    "        plt.close()\n",
    "    "
   ]
  },
  {
   "cell_type": "markdown",
   "metadata": {},
   "source": [
    "#### 2.1.1 Cut distributions"
   ]
  },
  {
   "cell_type": "code",
   "execution_count": 62,
   "metadata": {},
   "outputs": [
    {
     "data": {
      "text/plain": [
       "(array([0.21441237, 0.50252181, 0.68067441, 0.63961764, 0.58362761]),\n",
       " array([0.        , 0.87595162, 0.7239054 , 0.29348456, 0.03512772]),\n",
       " array([1.        , 0.63865546, 0.70162461, 0.40235229, 0.06626693]))"
      ]
     },
     "execution_count": 62,
     "metadata": {},
     "output_type": "execute_result"
    }
   ],
   "source": [
    "pur,eff,f1 = slc.get_pur_eff_f1(['cosmic','fv','trk','has_muon'])\n",
    "pur,eff,f1"
   ]
  },
  {
   "cell_type": "code",
   "execution_count": 63,
   "metadata": {},
   "outputs": [
    {
     "name": "stderr",
     "output_type": "stream",
     "text": [
      "<__array_function__ internals>:180: RuntimeWarning: Converting input from bool to <class 'numpy.uint8'> for compatibility.\n"
     ]
    },
    {
     "data": {
      "image/png": "[encoded data removed]",
      "text/plain": [
       "<Figure size 504x288 with 1 Axes>"
      ]
     },
     "metadata": {
      "needs_background": "light"
     },
     "output_type": "display_data"
    },
    {
     "data": {
      "image/png": "[encoded data removed]",
      "text/plain": [
       "<Figure size 504x288 with 1 Axes>"
      ]
     },
     "metadata": {
      "needs_background": "light"
     },
     "output_type": "display_data"
    }
   ],
   "source": [
    "#Cosmic rejection\n",
    "cosmic_rejection = [s.data.cut.cosmic for s in slcs]\n",
    "#[s.data.cut.total]\n",
    "#weights = [s.data[s.data.cut.total].genweight for s in slcs]\n",
    "cut_desc = 'Precut:' + '\\n' + f'Pur = {pur[0]:.2f}' + '\\n' + f'Eff = {eff[0]:.2f}' + '\\n' + f'F1 = {f1[0]:.2f}'\n",
    "for dens in [True,False]:\n",
    "    fig,ax = makeplot.plot_hist(cosmic_rejection,labels,xlabel=r'Cosmic rejection',colors=colors,weights=weights,edgecolor='k'\n",
    "                                ,histtype='barstacked',lw=2,bins=[0,1,2],density=dens,alpha=0.4)\n",
    "    if dens: ax.set_ylabel('Density')\n",
    "    else: ax.set_ylabel('Events')\n",
    "    ax.set_ylim(None,ax.get_ylim()[1]*1.2) #small padding on top\n",
    "    plotters.add_label(ax,LABEL,where='topleft',color='gray',fontsize=10)\n",
    "    plotters.add_label(ax,cut_desc,where='bottomrightoutside',color='black',fontsize=12)\n",
    "    plotters.set_style(ax)\n",
    "    if SAVE_PLOT:\n",
    "        if dens: plot_dir = f'{PLOT_DIR}/dens'\n",
    "        else: plot_dir = f'{PLOT_DIR}/counts'\n",
    "        #plotters.save_plot('cosmic_rejection_precut',fig=fig,folder_name=plot_dir)\n",
    "        #plt.close()"
   ]
  },
  {
   "cell_type": "code",
   "execution_count": 64,
   "metadata": {},
   "outputs": [],
   "source": [
    "#FV\n",
    "fv = [s.data.cut.fv for s in slcs]\n",
    "cut_desc = 'Precut:' + '\\n' + f'Pur = {pur[0]:.2f}' + '\\n' + f'Eff = {eff[0]:.2f}' + '\\n' + f'F1 = {f1[0]:.2f}'\n",
    "for dens in [True,False]:\n",
    "    fig,ax = makeplot.plot_hist(fv,labels,xlabel=r'FV',colors=colors,weights=weights,edgecolor='k'\n",
    "                                ,histtype='barstacked',lw=2,bins=[0,1,2],density=dens,alpha=0.4)\n",
    "    if dens: ax.set_ylabel('Density')\n",
    "    else: ax.set_ylabel('Events')\n",
    "    ax.set_ylim(None,ax.get_ylim()[1]*1.2) #small padding on top\n",
    "    plotters.add_label(ax,LABEL,where='topleft',color='gray',fontsize=10)\n",
    "    plotters.add_label(ax,cut_desc,where='bottomrightoutside',color='black',fontsize=12)\n",
    "    plotters.set_style(ax)\n",
    "    if SAVE_PLOT:\n",
    "        if dens: plot_dir = f'{PLOT_DIR}/dens'\n",
    "        else: plot_dir = f'{PLOT_DIR}/counts'\n",
    "        plotters.save_plot('fv_precut',fig=fig,folder_name=plot_dir)\n",
    "        plt.close()"
   ]
  },
  {
   "cell_type": "markdown",
   "metadata": {},
   "source": [
    "### 2.2 Single Particle"
   ]
  },
  {
   "cell_type": "code",
   "execution_count": 65,
   "metadata": {},
   "outputs": [],
   "source": [
    "#Reco particles and slices\n",
    "muon,proton,pion = pfp.get_particles([13,2212,211],use_reco=True)\n",
    "pfps = [muon,proton,pion]\n",
    "slc_muon = CAFSlice(muon.get_reference_df(slc))\n",
    "slc_proton = CAFSlice(proton.get_reference_df(slc))\n",
    "slc_pion = CAFSlice(pion.get_reference_df(slc))\n",
    "slcs = [slc_muon,slc_proton,slc_pion]\n",
    "\n",
    "#True particles and slices\n",
    "tmuon,tproton,tpion = pfp.get_particles([13,2212,211],use_reco=False)\n",
    "tpfps = [tmuon,tproton,tpion]\n",
    "slc_tmuon = CAFSlice(tmuon.get_reference_df(slc))\n",
    "slc_tproton = CAFSlice(tproton.get_reference_df(slc))\n",
    "slc_tpion = CAFSlice(tpion.get_reference_df(slc))\n",
    "tslcs = [slc_tmuon,slc_tproton,slc_tpion]"
   ]
  },
  {
   "cell_type": "code",
   "execution_count": 66,
   "metadata": {},
   "outputs": [],
   "source": [
    "labels = [r'$\\mu$',r'$p$',r'$\\pi^\\pm$']\n",
    "names = ['muon','proton','pion']\n",
    "weights = [p.data.genweight for p in tpfps]"
   ]
  },
  {
   "cell_type": "code",
   "execution_count": 67,
   "metadata": {},
   "outputs": [],
   "source": [
    "#Chi2 muon\n",
    "x2_mu = [p.data.trk.chi2pid.I2.chi2_muon for p in tpfps]\n",
    "bins = np.arange(0,70,2)\n",
    "for dens in [True,False]:\n",
    "    fig,ax = makeplot.plot_hist(x2_mu,labels,xlabel=r'$\\chi^2_{\\mu}$',weights=weights\n",
    "                                ,histtype='step',lw=2,bins=bins,density=dens)\n",
    "    if dens: ax.set_ylabel('Density')\n",
    "    else: ax.set_ylabel('Events')\n",
    "    plotters.add_label(ax,LABEL,where='topleft',color='gray',fontsize=10)\n",
    "    plotters.set_style(ax)\n",
    "    if SAVE_PLOT:\n",
    "        if dens: plot_dir = f'{PLOT_DIR}/dens'\n",
    "        else: plot_dir = f'{PLOT_DIR}/counts'\n",
    "        plotters.save_plot('x2_mu_precut',fig=fig,folder_name=plot_dir)\n",
    "        plt.close()"
   ]
  },
  {
   "cell_type": "code",
   "execution_count": 68,
   "metadata": {},
   "outputs": [],
   "source": [
    "#Chi2 proton\n",
    "x2_p = [p.data.trk.chi2pid.I2.chi2_proton for p in tpfps]\n",
    "bins = np.arange(0,250,5)\n",
    "for dens in [True,False]:\n",
    "    fig,ax = makeplot.plot_hist(x2_p,labels,xlabel=r'$\\chi^2_{p}$',weights=weights\n",
    "                                ,histtype='step',lw=2,bins=bins,density=dens)\n",
    "    if dens: ax.set_ylabel('Density')\n",
    "    else: ax.set_ylabel('Events')\n",
    "    plotters.add_label(ax,LABEL,where='topleft',color='gray',fontsize=10)\n",
    "    plotters.set_style(ax)\n",
    "    if SAVE_PLOT:\n",
    "        if dens: plot_dir = f'{PLOT_DIR}/dens'\n",
    "        else: plot_dir = f'{PLOT_DIR}/counts'\n",
    "        plotters.save_plot('x2_p_precut',fig=fig,folder_name=plot_dir)\n",
    "        plt.close()"
   ]
  },
  {
   "cell_type": "code",
   "execution_count": 69,
   "metadata": {},
   "outputs": [],
   "source": [
    "#Chi2 pion\n",
    "x2_pi = [p.data.trk.chi2pid.I2.chi2_pion for p in tpfps]\n",
    "bins = np.arange(0,80,2)\n",
    "for dens in [True,False]:\n",
    "    fig,ax = makeplot.plot_hist(x2_pi,labels,xlabel=r'$\\chi^2_{\\pi}$',weights=weights\n",
    "                                ,histtype='step',lw=2,bins=bins,density=dens)\n",
    "    if dens: ax.set_ylabel('Density')\n",
    "    else: ax.set_ylabel('Events')\n",
    "    plotters.add_label(ax,LABEL,where='topleft',color='gray',fontsize=10)\n",
    "    plotters.set_style(ax)\n",
    "    if SAVE_PLOT:\n",
    "        if dens: plot_dir = f'{PLOT_DIR}/dens'\n",
    "        else: plot_dir = f'{PLOT_DIR}/counts'\n",
    "        plotters.save_plot('x2_pion_precut',fig=fig,folder_name=plot_dir)\n",
    "        plt.close()"
   ]
  },
  {
   "cell_type": "code",
   "execution_count": 70,
   "metadata": {},
   "outputs": [],
   "source": [
    "#Particle momentum\n",
    "momenta = [p.data.trk.bestmom for p in tpfps]\n",
    "bins = np.arange(0,2.5,0.1)\n",
    "for dens in [True,False]:\n",
    "    fig,ax = makeplot.plot_hist(momenta,labels,xlabel=r'Reco Momentum [GeV]',weights=weights\n",
    "                                ,histtype='step',lw=2,bins=bins,density=dens)\n",
    "    if dens: ax.set_ylabel('Density')\n",
    "    else: ax.set_ylabel('Events')\n",
    "    plotters.add_label(ax,LABEL,where='centerright',color='gray',fontsize=10)\n",
    "    plotters.set_style(ax)\n",
    "    if SAVE_PLOT:\n",
    "        if dens: plot_dir = f'{PLOT_DIR}/dens'\n",
    "        else: plot_dir = f'{PLOT_DIR}/counts'    \n",
    "        plotters.save_plot('particle_momentum_precut',fig=fig,folder_name=plot_dir)\n",
    "        plt.close()"
   ]
  },
  {
   "cell_type": "code",
   "execution_count": 71,
   "metadata": {},
   "outputs": [],
   "source": [
    "#Particle direction cos theta\n",
    "costhetas = [np.cos(p.data.trk.theta) for p in tpfps]\n",
    "bins = np.arange(-1,1.1,0.1)\n",
    "for dens in [True,False]:\n",
    "    fig,ax = makeplot.plot_hist(costhetas,labels,xlabel=r'Reco cos($\\theta$)',weights=weights\n",
    "                                ,histtype='step',lw=2,bins=bins,density=dens)\n",
    "    ax.set_xlim(-1,1)\n",
    "    if dens: ax.set_ylabel('Density')\n",
    "    else: ax.set_ylabel('Events')\n",
    "    plotters.add_label(ax,LABEL,where='topleft',color='gray',fontsize=10)\n",
    "    plotters.set_style(ax)\n",
    "    if SAVE_PLOT:\n",
    "        if dens: plot_dir = f'{PLOT_DIR}/dens'\n",
    "        else: plot_dir = f'{PLOT_DIR}/counts'    \n",
    "        plotters.save_plot('particle_costheta_precut',fig=fig,folder_name=plot_dir)\n",
    "        plt.close()"
   ]
  }
 ],
 "metadata": {
  "kernelspec": {
   "display_name": "Python 3",
   "language": "python",
   "name": "python3"
  },
  "language_info": {
   "codemirror_mode": {
    "name": "ipython",
    "version": 3
   },
   "file_extension": ".py",
   "mimetype": "text/x-python",
   "name": "python",
   "nbconvert_exporter": "python",
   "pygments_lexer": "ipython3",
   "version": "3.9.10"
  }
 },
 "nbformat": 4,
 "nbformat_minor": 2
}
