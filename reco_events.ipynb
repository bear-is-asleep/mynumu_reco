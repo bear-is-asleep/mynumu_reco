{
 "cells": [
  {
   "cell_type": "code",
   "execution_count": 1,
   "metadata": {},
   "outputs": [
    {
     "name": "stdout",
     "output_type": "stream",
     "text": [
      "SBND imports: 2.56 s\n"
     ]
    }
   ],
   "source": [
    "#Boiler plate imports\n",
    "import pandas as pd\n",
    "import sys\n",
    "from time import time\n",
    "import matplotlib.pyplot as plt\n",
    "\n",
    "#SBND imports\n",
    "s0 = time()\n",
    "sys.path.append('/exp/sbnd/app/users/brindenc/analyze_sbnd/pyana')\n",
    "from sbnd.general import utils\n",
    "from sbnd.cafclasses.slice import CAFSlice\n",
    "from sbnd.cafclasses.pfp import PFP\n",
    "\n",
    "#Constants\n",
    "from sbnd.numu.numu_constants import *\n",
    "from sbnd.prism import PRISM_BINS\n",
    "from sbnd.constants import *\n",
    "\n",
    "#Plotters\n",
    "from sbnd.plotlibrary import makeplot\n",
    "from sbnd.general import plotters\n",
    "\n",
    "s1 = time()\n",
    "print(f'SBND imports: {s1-s0:.2f} s')\n",
    "\n",
    "%load_ext autoreload\n",
    "%autoreload 2"
   ]
  },
  {
   "cell_type": "markdown",
   "metadata": {},
   "source": [
    "# 1. Load Data"
   ]
  },
  {
   "cell_type": "code",
   "execution_count": 2,
   "metadata": {},
   "outputs": [],
   "source": [
    "#Constants/variables\n",
    "CUT_MODE = 'moon'\n",
    "DATA_DIR  = '/exp/sbnd/data/users/brindenc/analyze_sbnd/numu/v09_78_04_wc_pandora'\n",
    "#DATA_DIR = '/exp/sbnd/data/users/brindenc/ML/test_fcl/debug_trackid/v4'\n",
    "#FNAME = 'single_processed.df'\n",
    "#FNAME = 'single_cut_cosmics_processed.df'\n",
    "#HDR_FNAME = 'single.df'\n",
    "FNAME = f'all_processed_{CUT_MODE}.df'\n",
    "HDR_FNAME = 'all.df'\n",
    "#FNAME = 'test_processed.df'\n",
    "#HDR_FNAME = 'test.df'\n",
    "NOM_POT = 0.6e20 # stats for first run\n",
    "LABEL = 'SBND Work in Progress\\n0.6e20 POT'\n",
    "PLOT_DIR = f'Plots/reco_{plotters.day}_{CUT_MODE}'\n",
    "SAVE_PLOT = True\n"
   ]
  },
  {
   "cell_type": "code",
   "execution_count": 3,
   "metadata": {},
   "outputs": [
    {
     "name": "stdout",
     "output_type": "stream",
     "text": [
      "--scaled by 6.93\n",
      "--scaling to POT: 8.65e+18 -> 6.00e+19\n",
      "--scaling to POT: 8.65e+18 -> 6.00e+19\n"
     ]
    }
   ],
   "source": [
    "#Get data and POT\n",
    "pfp = PFP.load(f'{DATA_DIR}/{FNAME}','pfp'\n",
    "               ,prism_bins=PRISM_BINS\n",
    "               ,momentum_bins=MOMENTUM_BINS\n",
    "               ,costheta_bins=COSTHETA_BINS\n",
    "               ,pot=NOM_POT)\n",
    "slc = CAFSlice.load(f'{DATA_DIR}/{FNAME}','slice'\n",
    "                    ,prism_bins=PRISM_BINS\n",
    "                    ,pot=NOM_POT)\n",
    "hdr = pd.read_hdf(f'{DATA_DIR}/{HDR_FNAME}',key='hdr')\n",
    "SAMPLE_POT = hdr.pot.sum()\n",
    "\n",
    "#Scale to nominal POT\n",
    "print(f'--scaled by {NOM_POT/SAMPLE_POT:.2f}')\n",
    "pfp.scale_to_pot(NOM_POT,SAMPLE_POT)\n",
    "slc.scale_to_pot(NOM_POT,SAMPLE_POT)"
   ]
  },
  {
   "cell_type": "code",
   "execution_count": 4,
   "metadata": {},
   "outputs": [
    {
     "data": {
      "text/plain": [
       "(array([0.21441237, 0.50252181, 0.68067441, 0.69851779, 0.81824831]),\n",
       " array([1.        , 0.87595162, 0.7239054 , 0.7175484 , 0.58360706]),\n",
       " array([1.        , 0.63865546, 0.70162461, 0.70790522, 0.68129067]))"
      ]
     },
     "execution_count": 4,
     "metadata": {},
     "output_type": "execute_result"
    }
   ],
   "source": [
    "CUTS = ['cosmic','fv','trk','has_muon']\n",
    "pur,eff,f1 = slc.get_pur_eff_f1(['cosmic','fv','trk','has_muon'])\n",
    "pur,eff,f1"
   ]
  },
  {
   "cell_type": "markdown",
   "metadata": {},
   "source": [
    "## 2 True event type distributions"
   ]
  },
  {
   "cell_type": "code",
   "execution_count": 5,
   "metadata": {},
   "outputs": [],
   "source": [
    "#Get interaction types - won't work if there are no events of a given type\n",
    "#slc_unk = CAFSlice(slc.data[slc.data.truth.event_type == -1])\n",
    "slc_numucc = CAFSlice(slc.data[slc.data.truth.event_type == 0])\n",
    "slc_nc = CAFSlice(slc.data[slc.data.truth.event_type == 1])\n",
    "slc_nuecc = CAFSlice(slc.data[slc.data.truth.event_type == 2])\n",
    "slc_cosmic = CAFSlice(slc.data[slc.data.truth.event_type == 3])\n",
    "slc_dirt = CAFSlice(slc.data[slc.data.truth.event_type == 4])\n",
    "slcs = [slc_numucc,slc_nc,slc_nuecc,slc_cosmic,slc_dirt]\n",
    "\n",
    "#Get associated PFPs\n",
    "#pfp_unk = pfp.get_reference_df(slc_unk)\n",
    "pfp_numucc_df = pfp.get_reference_df(slc_numucc)\n",
    "pfp_nc_df = pfp.get_reference_df(slc_nc)\n",
    "pfp_nuecc_df = pfp.get_reference_df(slc_nuecc)\n",
    "pfp_cosmic_df = pfp.get_reference_df(slc_cosmic)\n",
    "pfp_dirt_df = pfp.get_reference_df(slc_dirt)\n",
    "\n",
    "pfp_dfs = [pfp_numucc_df,pfp_nc_df,pfp_nuecc_df,pfp_cosmic_df,pfp_dirt_df]"
   ]
  },
  {
   "cell_type": "code",
   "execution_count": 6,
   "metadata": {},
   "outputs": [],
   "source": [
    "#Get label info\n",
    "labels = []\n",
    "names = []\n",
    "colors = []\n",
    "\n",
    "for key,item in EVENT_TYPE_LIST.items():\n",
    "    if key == -1: #no unknown for now\n",
    "        continue\n",
    "    labels.append(item[0])\n",
    "    names.append(item[1])\n",
    "    colors.append(item[2])\n",
    "\n",
    "weights = [s.data.genweight for s in slcs]"
   ]
  },
  {
   "cell_type": "code",
   "execution_count": 7,
   "metadata": {},
   "outputs": [],
   "source": [
    "def create_hist(series,labels,dens,cut_desc='',xlabel='',colors=None,weights=None,bins=20,cut='',savename='hist'\n",
    "                ,stat_label=''):\n",
    "    \n",
    "    if dens:\n",
    "        histtype = 'step'\n",
    "        alpha = 0.9\n",
    "    else:\n",
    "        histtype = 'barstacked'\n",
    "        alpha = 0.8\n",
    "    fig,ax = makeplot.plot_hist(series,labels,xlabel=xlabel,colors=colors,weights=weights\n",
    "                   ,histtype=histtype,lw=2,bins=bins,alpha=alpha,density=dens)\n",
    "    if dens: ax.set_ylabel('Density')\n",
    "    else: ax.set_ylabel('Events')\n",
    "    plotters.add_label(ax,LABEL,where='topleft',color='gray',alpha=0.9,fontsize=10)\n",
    "    plotters.add_label(ax,stat_label,where='bottomrightoutside',fontsize=10)\n",
    "    plotters.add_label(ax,cut_desc,where='bottomrightoutside',color='black',fontsize=12)\n",
    "    plotters.set_style(ax)\n",
    "    if SAVE_PLOT:\n",
    "        if dens: plot_dir = f'{PLOT_DIR}/{cut}/dens'\n",
    "        else: plot_dir = f'{PLOT_DIR}/{cut}/counts'\n",
    "        plotters.save_plot(f'{savename}',fig=fig,folder_name=plot_dir)\n",
    "        plt.close('all')\n",
    "    return fig,ax"
   ]
  },
  {
   "cell_type": "code",
   "execution_count": 8,
   "metadata": {},
   "outputs": [],
   "source": [
    "_slcs = [s.copy() for s in slcs]\n",
    "_weights = [w.copy() for w in weights]\n",
    "cut = 'precut'\n",
    "for i,cut in enumerate(['precut']+CUTS):\n",
    "    #Apply cut\n",
    "    if cut != 'precut':\n",
    "        [s.apply_cut(cut) for s in _slcs] \n",
    "    _weights = [s.data.genweight for s in _slcs] \n",
    "    cut_desc = f'{cut}:' + '\\n' + f'Pur = {pur[i]:.2f}' + '\\n' + f'Eff = {eff[i]:.2f}' + '\\n' + f'F1 = {f1[i]:.2f}'  \n",
    "    \n",
    "    #Best muon info\n",
    "    costheta = [s.data.best_muon.costheta for s in _slcs]\n",
    "    momentum = [s.data.best_muon.p for s in _slcs]\n",
    "    tcostheta = [s.data.best_muon.truth.p.costheta for s in _slcs]\n",
    "    tmomentum = [s.data.best_muon.truth.p.genp.tot for s in _slcs]\n",
    "\n",
    "    #Scores\n",
    "    nu_scores = [s.data.nu_score for s in _slcs]\n",
    "    fmatch_scores = [s.data.fmatch.score for s in _slcs]\n",
    "\n",
    "\n",
    "    #Number of particles\n",
    "    npfps = [s.data.npfp for s in _slcs]\n",
    "    ntrks = [s.data.ntrk for s in _slcs]\n",
    "    nshws = [s.data.nshw for s in _slcs]\n",
    "    tnpfps = [s.data.truth.npfp for s in _slcs]\n",
    "    tntrks = [s.data.truth.ntrk for s in _slcs]\n",
    "    tnshws = [s.data.truth.nshw for s in _slcs]\n",
    "\n",
    "    nmuons = [s.data.reco.pdg_13 for s in _slcs]\n",
    "    tnmuons = [s.data.truth.pdg_13 for s in _slcs]\n",
    "\n",
    "    #Bins\n",
    "    nbins = np.arange(0,10,1)\n",
    "    bdt_bins = np.arange(-0.05,1.05,0.05)\n",
    "    for dens in [False,True]:\n",
    "        #Reco costheta\n",
    "        fig,ax = create_hist(costheta,labels,dens,cut_desc=cut_desc,xlabel=r'$\\cos\\theta_{\\mu,reco}$',colors=colors,weights=_weights,bins=np.arange(-1,1.1,0.1),cut=cut,savename='reco_costheta')\n",
    "        #Reco momentum\n",
    "        fig,ax = create_hist(momentum,labels,dens,cut_desc=cut_desc,xlabel=r'Reco $p_{\\mu,reco}$ [GeV]',colors=colors,weights=_weights,bins=np.arange(0,2.5,0.1),cut=cut,savename='reco_momentum')\n",
    "        #Truth costheta\n",
    "        fig,ax = create_hist(tcostheta,labels,dens,cut_desc=cut_desc,xlabel=r'$\\cos\\theta_{\\mu,truth}$',colors=colors,weights=_weights,bins=np.arange(-1,1.1,0.1),cut=cut,savename='true_costheta')\n",
    "        #Truth momentum\n",
    "        fig,ax = create_hist(tmomentum,labels,dens,cut_desc=cut_desc,xlabel=r'Truth $p_{\\mu,truth}$ [GeV]',colors=colors,weights=_weights,bins=np.arange(0,2.5,0.1),cut=cut,savename='true_momentum')\n",
    "        #Number of reco muons\n",
    "        fig,ax = create_hist(nmuons,labels,dens,cut_desc=cut_desc,xlabel=r'Reconstructed Muons',colors=colors,weights=_weights,bins=nbins,cut=cut,savename='nmu')\n",
    "        #Pandora nu score\n",
    "        fig,ax = create_hist(nu_scores,labels,dens,cut_desc=cut_desc,xlabel=r'Pandora $\\nu$-score',colors=colors,weights=_weights,bins=bdt_bins,cut=cut,savename='nu_score')\n",
    "        #Flash matching score hist\n",
    "        fig,ax = create_hist(fmatch_scores,labels,dens,cut_desc=cut_desc,xlabel='Flash match score',colors=colors,weights=_weights,bins=np.arange(0,50,2),cut=cut,savename='fmatch_score')\n",
    "        #PFP\n",
    "        fig,ax = create_hist(npfps,labels,dens,cut_desc=cut_desc,xlabel=r'Number of PFPs',colors=colors,weights=_weights,bins=nbins,cut=cut,savename='npfp')\n",
    "        #Trks\n",
    "        fig,ax = create_hist(ntrks,labels,dens,cut_desc=cut_desc,xlabel=r'Number of tracks',colors=colors,weights=_weights,bins=nbins,cut=cut,savename='ntrk')\n",
    "        #Shws\n",
    "        fig,ax = create_hist(nshws,labels,dens,cut_desc=cut_desc,xlabel=r'Number of showers',colors=colors,weights=_weights,bins=nbins,cut=cut,savename='nshw')\n",
    "        #Truth PFP\n",
    "        fig,ax = create_hist(tnpfps,labels,dens,cut_desc=cut_desc,xlabel=r'Number of truth PFPs',colors=colors,weights=_weights,bins=nbins,cut=cut,savename='tnpfp')\n",
    "        #Truth Trks\n",
    "        fig,ax = create_hist(tntrks,labels,dens,cut_desc=cut_desc,xlabel=r'Number of truth tracks',colors=colors,weights=_weights,bins=nbins,cut=cut,savename='tntrk')\n",
    "        #Truth Shws\n",
    "        fig,ax = create_hist(tnshws,labels,dens,cut_desc=cut_desc,xlabel=r'Number of truth showers',colors=colors,weights=_weights,bins=nbins,cut=cut,savename='tnshw')"
   ]
  },
  {
   "cell_type": "markdown",
   "metadata": {},
   "source": [
    "## 3 Cut bar graph"
   ]
  },
  {
   "cell_type": "code",
   "execution_count": 9,
   "metadata": {},
   "outputs": [],
   "source": [
    "def make_cut_bar_plot(df,cuts=[],colors=None,labels=EVENT_NAMES[1:]):\n",
    "    \"\"\"\n",
    "    Make a bar plot of the number of events for each cut\n",
    "    \"\"\"\n",
    "    if colors is None:\n",
    "        colors = [EVENT_TYPE_LIST[i][2] for i in range(1,len(cuts)+1)]\n",
    "    ax = df.plot(kind='barh',stacked=True,color=colors,figsize=(10,3))\n",
    "    ax.set_yticklabels(['Precut','Cosmic','FV','Has Track','Has Muon'])\n",
    "    handles, _ = ax.get_legend_handles_labels()\n",
    "    ax.set_ylabel('')\n",
    "    plotters.set_style(ax,bbox_to_anchor=(1,1))\n",
    "    ax.legend(handles, labels,bbox_to_anchor=(1,1),fontsize=18)\n",
    "    return ax"
   ]
  },
  {
   "cell_type": "code",
   "execution_count": 10,
   "metadata": {},
   "outputs": [],
   "source": [
    "for n in [True,False]:\n",
    "    df = slc.get_events_cuts(CUTS,normalize=n)\n",
    "    ax = make_cut_bar_plot(df,CUTS,colors=colors)\n",
    "    ax.set_ylim(-0.5,5)\n",
    "    plotters.add_label(ax,LABEL,where='topright',color='gray',alpha=0.9,fontsize=10)\n",
    "    if n:\n",
    "        ax.set_xlabel('Fraction of Events')\n",
    "        folder_name = f'{PLOT_DIR}/dens'\n",
    "    else:\n",
    "        ax.set_xlabel('Number of Events')\n",
    "        folder_name = f'{PLOT_DIR}/counts'\n",
    "    if SAVE_PLOT:\n",
    "        plotters.save_plot('cut_bar',folder_name=folder_name)\n",
    "        plt.close()"
   ]
  },
  {
   "cell_type": "markdown",
   "metadata": {},
   "source": [
    "## 4 Single Particle"
   ]
  },
  {
   "cell_type": "code",
   "execution_count": 11,
   "metadata": {},
   "outputs": [],
   "source": [
    "#Reco particles and slices\n",
    "muon,proton,pion = pfp.get_particles([13,2212,211],use_reco=True)\n",
    "pfps = [muon,proton,pion]\n",
    "slc_muon = CAFSlice(muon.get_reference_df(slc))\n",
    "slc_proton = CAFSlice(proton.get_reference_df(slc))\n",
    "slc_pion = CAFSlice(pion.get_reference_df(slc))\n",
    "slcs = [slc_muon,slc_proton,slc_pion]\n",
    "\n",
    "#True particles and slices\n",
    "tmuon,tproton,tpion = pfp.get_particles([13,2212,211],use_reco=False)\n",
    "tpfps = [tmuon,tproton,tpion]\n",
    "slc_tmuon = CAFSlice(tmuon.get_reference_df(slc))\n",
    "slc_tproton = CAFSlice(tproton.get_reference_df(slc))\n",
    "slc_tpion = CAFSlice(tpion.get_reference_df(slc))\n",
    "tslcs = [slc_tmuon,slc_tproton,slc_tpion]"
   ]
  },
  {
   "cell_type": "code",
   "execution_count": 12,
   "metadata": {},
   "outputs": [],
   "source": [
    "labels = [r'$\\mu$',r'$p$',r'$\\pi^\\pm$']\n",
    "names = ['muon','proton','pion']\n",
    "weights = [p.data.genweight for p in tpfps]"
   ]
  },
  {
   "cell_type": "code",
   "execution_count": 13,
   "metadata": {},
   "outputs": [],
   "source": [
    "#Track score\n",
    "trkscores = [p.data.trackScore for p in tpfps]\n"
   ]
  },
  {
   "cell_type": "code",
   "execution_count": 14,
   "metadata": {},
   "outputs": [],
   "source": [
    "#Chi2 muon\n",
    "x2_mu = [p.data.trk.chi2pid.I2.chi2_muon for p in tpfps]\n",
    "bins = np.arange(0,70,2)\n",
    "for dens in [True,False]:\n",
    "    fig,ax = makeplot.plot_hist(x2_mu,labels,xlabel=r'$\\chi^2_{\\mu}$',weights=weights\n",
    "                                ,histtype='step',lw=2,bins=bins,density=dens)\n",
    "    if dens: ax.set_ylabel('Density')\n",
    "    else: ax.set_ylabel('Events')\n",
    "    plotters.add_label(ax,LABEL,where='topleft',color='gray',fontsize=10)\n",
    "    plotters.set_style(ax)\n",
    "    if SAVE_PLOT:\n",
    "        if dens: plot_dir = f'{PLOT_DIR}/dens'\n",
    "        else: plot_dir = f'{PLOT_DIR}/counts'\n",
    "        plotters.save_plot('x2_mu_precut',fig=fig,folder_name=plot_dir)\n",
    "        plt.close()"
   ]
  },
  {
   "cell_type": "code",
   "execution_count": 15,
   "metadata": {},
   "outputs": [],
   "source": [
    "#Chi2 proton\n",
    "x2_p = [p.data.trk.chi2pid.I2.chi2_proton for p in tpfps]\n",
    "bins = np.arange(0,250,5)\n",
    "for dens in [True,False]:\n",
    "    fig,ax = makeplot.plot_hist(x2_p,labels,xlabel=r'$\\chi^2_{p}$',weights=weights\n",
    "                                ,histtype='step',lw=2,bins=bins,density=dens)\n",
    "    if dens: ax.set_ylabel('Density')\n",
    "    else: ax.set_ylabel('Events')\n",
    "    plotters.add_label(ax,LABEL,where='topleft',color='gray',fontsize=10)\n",
    "    plotters.set_style(ax)\n",
    "    if SAVE_PLOT:\n",
    "        if dens: plot_dir = f'{PLOT_DIR}/dens'\n",
    "        else: plot_dir = f'{PLOT_DIR}/counts'\n",
    "        plotters.save_plot('x2_p_precut',fig=fig,folder_name=plot_dir)\n",
    "        plt.close()"
   ]
  },
  {
   "cell_type": "code",
   "execution_count": 16,
   "metadata": {},
   "outputs": [],
   "source": [
    "#Chi2 pion\n",
    "x2_pi = [p.data.trk.chi2pid.I2.chi2_pion for p in tpfps]\n",
    "bins = np.arange(0,80,2)\n",
    "for dens in [True,False]:\n",
    "    fig,ax = makeplot.plot_hist(x2_pi,labels,xlabel=r'$\\chi^2_{\\pi}$',weights=weights\n",
    "                                ,histtype='step',lw=2,bins=bins,density=dens)\n",
    "    if dens: ax.set_ylabel('Density')\n",
    "    else: ax.set_ylabel('Events')\n",
    "    plotters.add_label(ax,LABEL,where='topleft',color='gray',fontsize=10)\n",
    "    plotters.set_style(ax)\n",
    "    if SAVE_PLOT:\n",
    "        if dens: plot_dir = f'{PLOT_DIR}/dens'\n",
    "        else: plot_dir = f'{PLOT_DIR}/counts'\n",
    "        plotters.save_plot('x2_pion_precut',fig=fig,folder_name=plot_dir)\n",
    "        plt.close()"
   ]
  },
  {
   "cell_type": "code",
   "execution_count": 17,
   "metadata": {},
   "outputs": [],
   "source": [
    "#Particle momentum\n",
    "momenta = [p.data.trk.bestmom for p in tpfps]\n",
    "bins = np.arange(0,2.5,0.1)\n",
    "for dens in [True,False]:\n",
    "    fig,ax = makeplot.plot_hist(momenta,labels,xlabel=r'Reco Momentum [GeV]',weights=weights\n",
    "                                ,histtype='step',lw=2,bins=bins,density=dens)\n",
    "    if dens: ax.set_ylabel('Density')\n",
    "    else: ax.set_ylabel('Events')\n",
    "    plotters.add_label(ax,LABEL,where='centerright',color='gray',fontsize=10)\n",
    "    plotters.set_style(ax)\n",
    "    if SAVE_PLOT:\n",
    "        if dens: plot_dir = f'{PLOT_DIR}/dens'\n",
    "        else: plot_dir = f'{PLOT_DIR}/counts'    \n",
    "        plotters.save_plot('particle_momentum_precut',fig=fig,folder_name=plot_dir)\n",
    "        plt.close()"
   ]
  },
  {
   "cell_type": "code",
   "execution_count": 18,
   "metadata": {},
   "outputs": [],
   "source": [
    "#Particle direction cos theta\n",
    "costhetas = [np.cos(p.data.trk.theta) for p in tpfps]\n",
    "bins = np.arange(-1,1.1,0.1)\n",
    "for dens in [True,False]:\n",
    "    fig,ax = makeplot.plot_hist(costhetas,labels,xlabel=r'Reco cos($\\theta$)',weights=weights\n",
    "                                ,histtype='step',lw=2,bins=bins,density=dens)\n",
    "    ax.set_xlim(-1,1)\n",
    "    if dens: ax.set_ylabel('Density')\n",
    "    else: ax.set_ylabel('Events')\n",
    "    plotters.add_label(ax,LABEL,where='topleft',color='gray',fontsize=10)\n",
    "    plotters.set_style(ax)\n",
    "    if SAVE_PLOT:\n",
    "        if dens: plot_dir = f'{PLOT_DIR}/dens'\n",
    "        else: plot_dir = f'{PLOT_DIR}/counts'    \n",
    "        plotters.save_plot('particle_costheta_precut',fig=fig,folder_name=plot_dir)\n",
    "        plt.close()"
   ]
  },
  {
   "cell_type": "code",
   "execution_count": 19,
   "metadata": {},
   "outputs": [],
   "source": [
    "#Particle length\n",
    "lengths = [p.data.trk.len for p in tpfps]\n",
    "bins = np.arange(0,600,20)\n",
    "for dens in [True,False]:\n",
    "    fig,ax = makeplot.plot_hist(lengths,labels,xlabel=r'Track Length [cm]',weights=weights\n",
    "                                ,histtype='step',lw=2,bins=bins,density=dens)\n",
    "    if dens: ax.set_ylabel('Density')\n",
    "    else: ax.set_ylabel('Events')\n",
    "    plotters.add_label(ax,LABEL,where='topleft',color='gray',fontsize=10)\n",
    "    plotters.set_style(ax)\n",
    "    if SAVE_PLOT:\n",
    "        if dens: plot_dir = f'{PLOT_DIR}/dens'\n",
    "        else: plot_dir = f'{PLOT_DIR}/counts'    \n",
    "        plotters.save_plot('particle_length_precut',fig=fig,folder_name=plot_dir)\n",
    "        plt.close()"
   ]
  },
  {
   "cell_type": "code",
   "execution_count": null,
   "metadata": {},
   "outputs": [],
   "source": []
  }
 ],
 "metadata": {
  "kernelspec": {
   "display_name": "Python 3",
   "language": "python",
   "name": "python3"
  },
  "language_info": {
   "codemirror_mode": {
    "name": "ipython",
    "version": 3
   },
   "file_extension": ".py",
   "mimetype": "text/x-python",
   "name": "python",
   "nbconvert_exporter": "python",
   "pygments_lexer": "ipython3",
   "version": "3.9.10"
  }
 },
 "nbformat": 4,
 "nbformat_minor": 2
}
